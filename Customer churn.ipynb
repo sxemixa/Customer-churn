{
 "cells": [
  {
   "cell_type": "markdown",
   "metadata": {
    "toc": true
   },
   "source": [
    "<h1>Содержание<span class=\"tocSkip\"></span></h1>\n",
    "<div class=\"toc\"><ul class=\"toc-item\"><li><span><a href=\"#Подготовка-данных\" data-toc-modified-id=\"Подготовка-данных-1\"><span class=\"toc-item-num\">1&nbsp;&nbsp;</span>Подготовка данных</a></span></li><li><span><a href=\"#Исследование-задачи\" data-toc-modified-id=\"Исследование-задачи-2\"><span class=\"toc-item-num\">2&nbsp;&nbsp;</span>Исследование задачи</a></span><ul class=\"toc-item\"><li><span><a href=\"#Подготовка-данных-для-машинного-обучения\" data-toc-modified-id=\"Подготовка-данных-для-машинного-обучения-2.1\"><span class=\"toc-item-num\">2.1&nbsp;&nbsp;</span>Подготовка данных для машинного обучения</a></span></li><li><span><a href=\"#Сформируем-выборки\" data-toc-modified-id=\"Сформируем-выборки-2.2\"><span class=\"toc-item-num\">2.2&nbsp;&nbsp;</span>Сформируем выборки</a></span></li><li><span><a href=\"#Применение-модели-машинного-обучения\" data-toc-modified-id=\"Применение-модели-машинного-обучения-2.3\"><span class=\"toc-item-num\">2.3&nbsp;&nbsp;</span>Применение модели машинного обучения</a></span></li><li><span><a href=\"#Исследование-баланса-классов-выборки\" data-toc-modified-id=\"Исследование-баланса-классов-выборки-2.4\"><span class=\"toc-item-num\">2.4&nbsp;&nbsp;</span>Исследование баланса классов выборки</a></span></li><li><span><a href=\"#Проверка-адекватности\" data-toc-modified-id=\"Проверка-адекватности-2.5\"><span class=\"toc-item-num\">2.5&nbsp;&nbsp;</span>Проверка адекватности</a></span><ul class=\"toc-item\"><li><span><a href=\"#Проверим-качество-моделей-до-борьбы-с-дисбалансом\" data-toc-modified-id=\"Проверим-качество-моделей-до-борьбы-с-дисбалансом-2.5.1\"><span class=\"toc-item-num\">2.5.1&nbsp;&nbsp;</span>Проверим качество моделей до борьбы с дисбалансом</a></span><ul class=\"toc-item\"><li><span><a href=\"#Случайный-лес\" data-toc-modified-id=\"Случайный-лес-2.5.1.1\"><span class=\"toc-item-num\">2.5.1.1&nbsp;&nbsp;</span>Случайный лес</a></span></li><li><span><a href=\"#Дерево-решений\" data-toc-modified-id=\"Дерево-решений-2.5.1.2\"><span class=\"toc-item-num\">2.5.1.2&nbsp;&nbsp;</span>Дерево решений</a></span></li><li><span><a href=\"#Логистическая-регрессия\" data-toc-modified-id=\"Логистическая-регрессия-2.5.1.3\"><span class=\"toc-item-num\">2.5.1.3&nbsp;&nbsp;</span>Логистическая регрессия</a></span></li></ul></li></ul></li><li><span><a href=\"#Борьба-с-дисбалансом\" data-toc-modified-id=\"Борьба-с-дисбалансом-2.6\"><span class=\"toc-item-num\">2.6&nbsp;&nbsp;</span>Борьба с дисбалансом</a></span></li><li><span><a href=\"#Обучение-моделей-на-сбалансированной-выборке\" data-toc-modified-id=\"Обучение-моделей-на-сбалансированной-выборке-2.7\"><span class=\"toc-item-num\">2.7&nbsp;&nbsp;</span>Обучение моделей на сбалансированной выборке</a></span></li></ul></li><li><span><a href=\"#Тестирование-модели\" data-toc-modified-id=\"Тестирование-модели-3\"><span class=\"toc-item-num\">3&nbsp;&nbsp;</span>Тестирование модели</a></span></li><li><span><a href=\"#Выводы\" data-toc-modified-id=\"Выводы-4\"><span class=\"toc-item-num\">4&nbsp;&nbsp;</span>Выводы</a></span></li><li><span><a href=\"#Чек-лист-готовности-проекта\" data-toc-modified-id=\"Чек-лист-готовности-проекта-5\"><span class=\"toc-item-num\">5&nbsp;&nbsp;</span>Чек-лист готовности проекта</a></span></li></ul></div>"
   ]
  },
  {
   "cell_type": "markdown",
   "metadata": {},
   "source": [
    "# Отток клиентов"
   ]
  },
  {
   "cell_type": "markdown",
   "metadata": {},
   "source": [
    "Из «Бета-Банка» стали уходить клиенты. Каждый месяц. Немного, но заметно. Банковские маркетологи посчитали: сохранять текущих клиентов дешевле, чем привлекать новых.\n",
    "\n",
    "Нужно спрогнозировать, уйдёт клиент из банка в ближайшее время или нет. Вам предоставлены исторические данные о поведении клиентов и расторжении договоров с банком. \n",
    "\n",
    "Постройте модель с предельно большим значением *F1*-меры. Чтобы сдать проект успешно, нужно довести метрику до 0.59. Проверьте *F1*-меру на тестовой выборке самостоятельно.\n",
    "\n",
    "Дополнительно измеряйте *AUC-ROC*, сравнивайте её значение с *F1*-мерой.\n",
    "\n",
    "Источник данных: [https://www.kaggle.com/barelydedicated/bank-customer-churn-modeling](https://www.kaggle.com/barelydedicated/bank-customer-churn-modeling)"
   ]
  },
  {
   "cell_type": "markdown",
   "metadata": {},
   "source": [
    "## Подготовка данных"
   ]
  },
  {
   "cell_type": "code",
   "execution_count": 1,
   "metadata": {},
   "outputs": [],
   "source": [
    "import pandas as pd\n",
    "import matplotlib.pyplot as plt\n",
    "\n",
    "from sklearn.preprocessing import MinMaxScaler\n",
    "from sklearn.utils import shuffle\n",
    "from sklearn.model_selection import train_test_split, GridSearchCV\n",
    "from sklearn.metrics import accuracy_score, f1_score, recall_score, precision_score, roc_auc_score, roc_curve, confusion_matrix\n",
    "\n",
    "\n",
    "from sklearn.linear_model import LogisticRegression\n",
    "from sklearn.ensemble import RandomForestClassifier\n",
    "from sklearn.preprocessing import StandardScaler\n",
    "from sklearn.tree import DecisionTreeClassifier\n",
    "from sklearn.dummy import DummyClassifier\n",
    "\n",
    "\n",
    "import warnings\n",
    "warnings.filterwarnings(\"ignore\")"
   ]
  },
  {
   "cell_type": "code",
   "execution_count": 2,
   "metadata": {},
   "outputs": [],
   "source": [
    "df = pd.read_csv('/datasets/Churn.csv')"
   ]
  },
  {
   "cell_type": "code",
   "execution_count": 3,
   "metadata": {},
   "outputs": [
    {
     "data": {
      "text/html": [
       "<div>\n",
       "<style scoped>\n",
       "    .dataframe tbody tr th:only-of-type {\n",
       "        vertical-align: middle;\n",
       "    }\n",
       "\n",
       "    .dataframe tbody tr th {\n",
       "        vertical-align: top;\n",
       "    }\n",
       "\n",
       "    .dataframe thead th {\n",
       "        text-align: right;\n",
       "    }\n",
       "</style>\n",
       "<table border=\"1\" class=\"dataframe\">\n",
       "  <thead>\n",
       "    <tr style=\"text-align: right;\">\n",
       "      <th></th>\n",
       "      <th>RowNumber</th>\n",
       "      <th>CustomerId</th>\n",
       "      <th>Surname</th>\n",
       "      <th>CreditScore</th>\n",
       "      <th>Geography</th>\n",
       "      <th>Gender</th>\n",
       "      <th>Age</th>\n",
       "      <th>Tenure</th>\n",
       "      <th>Balance</th>\n",
       "      <th>NumOfProducts</th>\n",
       "      <th>HasCrCard</th>\n",
       "      <th>IsActiveMember</th>\n",
       "      <th>EstimatedSalary</th>\n",
       "      <th>Exited</th>\n",
       "    </tr>\n",
       "  </thead>\n",
       "  <tbody>\n",
       "    <tr>\n",
       "      <th>0</th>\n",
       "      <td>1</td>\n",
       "      <td>15634602</td>\n",
       "      <td>Hargrave</td>\n",
       "      <td>619</td>\n",
       "      <td>France</td>\n",
       "      <td>Female</td>\n",
       "      <td>42</td>\n",
       "      <td>2.0</td>\n",
       "      <td>0.00</td>\n",
       "      <td>1</td>\n",
       "      <td>1</td>\n",
       "      <td>1</td>\n",
       "      <td>101348.88</td>\n",
       "      <td>1</td>\n",
       "    </tr>\n",
       "    <tr>\n",
       "      <th>1</th>\n",
       "      <td>2</td>\n",
       "      <td>15647311</td>\n",
       "      <td>Hill</td>\n",
       "      <td>608</td>\n",
       "      <td>Spain</td>\n",
       "      <td>Female</td>\n",
       "      <td>41</td>\n",
       "      <td>1.0</td>\n",
       "      <td>83807.86</td>\n",
       "      <td>1</td>\n",
       "      <td>0</td>\n",
       "      <td>1</td>\n",
       "      <td>112542.58</td>\n",
       "      <td>0</td>\n",
       "    </tr>\n",
       "    <tr>\n",
       "      <th>2</th>\n",
       "      <td>3</td>\n",
       "      <td>15619304</td>\n",
       "      <td>Onio</td>\n",
       "      <td>502</td>\n",
       "      <td>France</td>\n",
       "      <td>Female</td>\n",
       "      <td>42</td>\n",
       "      <td>8.0</td>\n",
       "      <td>159660.80</td>\n",
       "      <td>3</td>\n",
       "      <td>1</td>\n",
       "      <td>0</td>\n",
       "      <td>113931.57</td>\n",
       "      <td>1</td>\n",
       "    </tr>\n",
       "    <tr>\n",
       "      <th>3</th>\n",
       "      <td>4</td>\n",
       "      <td>15701354</td>\n",
       "      <td>Boni</td>\n",
       "      <td>699</td>\n",
       "      <td>France</td>\n",
       "      <td>Female</td>\n",
       "      <td>39</td>\n",
       "      <td>1.0</td>\n",
       "      <td>0.00</td>\n",
       "      <td>2</td>\n",
       "      <td>0</td>\n",
       "      <td>0</td>\n",
       "      <td>93826.63</td>\n",
       "      <td>0</td>\n",
       "    </tr>\n",
       "    <tr>\n",
       "      <th>4</th>\n",
       "      <td>5</td>\n",
       "      <td>15737888</td>\n",
       "      <td>Mitchell</td>\n",
       "      <td>850</td>\n",
       "      <td>Spain</td>\n",
       "      <td>Female</td>\n",
       "      <td>43</td>\n",
       "      <td>2.0</td>\n",
       "      <td>125510.82</td>\n",
       "      <td>1</td>\n",
       "      <td>1</td>\n",
       "      <td>1</td>\n",
       "      <td>79084.10</td>\n",
       "      <td>0</td>\n",
       "    </tr>\n",
       "  </tbody>\n",
       "</table>\n",
       "</div>"
      ],
      "text/plain": [
       "   RowNumber  CustomerId   Surname  CreditScore Geography  Gender  Age  \\\n",
       "0          1    15634602  Hargrave          619    France  Female   42   \n",
       "1          2    15647311      Hill          608     Spain  Female   41   \n",
       "2          3    15619304      Onio          502    France  Female   42   \n",
       "3          4    15701354      Boni          699    France  Female   39   \n",
       "4          5    15737888  Mitchell          850     Spain  Female   43   \n",
       "\n",
       "   Tenure    Balance  NumOfProducts  HasCrCard  IsActiveMember  \\\n",
       "0     2.0       0.00              1          1               1   \n",
       "1     1.0   83807.86              1          0               1   \n",
       "2     8.0  159660.80              3          1               0   \n",
       "3     1.0       0.00              2          0               0   \n",
       "4     2.0  125510.82              1          1               1   \n",
       "\n",
       "   EstimatedSalary  Exited  \n",
       "0        101348.88       1  \n",
       "1        112542.58       0  \n",
       "2        113931.57       1  \n",
       "3         93826.63       0  \n",
       "4         79084.10       0  "
      ]
     },
     "execution_count": 3,
     "metadata": {},
     "output_type": "execute_result"
    }
   ],
   "source": [
    "df.head()"
   ]
  },
  {
   "cell_type": "code",
   "execution_count": 4,
   "metadata": {},
   "outputs": [
    {
     "name": "stdout",
     "output_type": "stream",
     "text": [
      "<class 'pandas.core.frame.DataFrame'>\n",
      "RangeIndex: 10000 entries, 0 to 9999\n",
      "Data columns (total 14 columns):\n",
      " #   Column           Non-Null Count  Dtype  \n",
      "---  ------           --------------  -----  \n",
      " 0   RowNumber        10000 non-null  int64  \n",
      " 1   CustomerId       10000 non-null  int64  \n",
      " 2   Surname          10000 non-null  object \n",
      " 3   CreditScore      10000 non-null  int64  \n",
      " 4   Geography        10000 non-null  object \n",
      " 5   Gender           10000 non-null  object \n",
      " 6   Age              10000 non-null  int64  \n",
      " 7   Tenure           9091 non-null   float64\n",
      " 8   Balance          10000 non-null  float64\n",
      " 9   NumOfProducts    10000 non-null  int64  \n",
      " 10  HasCrCard        10000 non-null  int64  \n",
      " 11  IsActiveMember   10000 non-null  int64  \n",
      " 12  EstimatedSalary  10000 non-null  float64\n",
      " 13  Exited           10000 non-null  int64  \n",
      "dtypes: float64(3), int64(8), object(3)\n",
      "memory usage: 1.1+ MB\n"
     ]
    }
   ],
   "source": [
    "df.info()"
   ]
  },
  {
   "cell_type": "code",
   "execution_count": 5,
   "metadata": {},
   "outputs": [
    {
     "data": {
      "text/html": [
       "<div>\n",
       "<style scoped>\n",
       "    .dataframe tbody tr th:only-of-type {\n",
       "        vertical-align: middle;\n",
       "    }\n",
       "\n",
       "    .dataframe tbody tr th {\n",
       "        vertical-align: top;\n",
       "    }\n",
       "\n",
       "    .dataframe thead th {\n",
       "        text-align: right;\n",
       "    }\n",
       "</style>\n",
       "<table border=\"1\" class=\"dataframe\">\n",
       "  <thead>\n",
       "    <tr style=\"text-align: right;\">\n",
       "      <th></th>\n",
       "      <th>RowNumber</th>\n",
       "      <th>CustomerId</th>\n",
       "      <th>CreditScore</th>\n",
       "      <th>Age</th>\n",
       "      <th>Tenure</th>\n",
       "      <th>Balance</th>\n",
       "      <th>NumOfProducts</th>\n",
       "      <th>HasCrCard</th>\n",
       "      <th>IsActiveMember</th>\n",
       "      <th>EstimatedSalary</th>\n",
       "      <th>Exited</th>\n",
       "    </tr>\n",
       "  </thead>\n",
       "  <tbody>\n",
       "    <tr>\n",
       "      <th>count</th>\n",
       "      <td>10000.00000</td>\n",
       "      <td>1.000000e+04</td>\n",
       "      <td>10000.000000</td>\n",
       "      <td>10000.000000</td>\n",
       "      <td>9091.000000</td>\n",
       "      <td>10000.000000</td>\n",
       "      <td>10000.000000</td>\n",
       "      <td>10000.00000</td>\n",
       "      <td>10000.000000</td>\n",
       "      <td>10000.000000</td>\n",
       "      <td>10000.000000</td>\n",
       "    </tr>\n",
       "    <tr>\n",
       "      <th>mean</th>\n",
       "      <td>5000.50000</td>\n",
       "      <td>1.569094e+07</td>\n",
       "      <td>650.528800</td>\n",
       "      <td>38.921800</td>\n",
       "      <td>4.997690</td>\n",
       "      <td>76485.889288</td>\n",
       "      <td>1.530200</td>\n",
       "      <td>0.70550</td>\n",
       "      <td>0.515100</td>\n",
       "      <td>100090.239881</td>\n",
       "      <td>0.203700</td>\n",
       "    </tr>\n",
       "    <tr>\n",
       "      <th>std</th>\n",
       "      <td>2886.89568</td>\n",
       "      <td>7.193619e+04</td>\n",
       "      <td>96.653299</td>\n",
       "      <td>10.487806</td>\n",
       "      <td>2.894723</td>\n",
       "      <td>62397.405202</td>\n",
       "      <td>0.581654</td>\n",
       "      <td>0.45584</td>\n",
       "      <td>0.499797</td>\n",
       "      <td>57510.492818</td>\n",
       "      <td>0.402769</td>\n",
       "    </tr>\n",
       "    <tr>\n",
       "      <th>min</th>\n",
       "      <td>1.00000</td>\n",
       "      <td>1.556570e+07</td>\n",
       "      <td>350.000000</td>\n",
       "      <td>18.000000</td>\n",
       "      <td>0.000000</td>\n",
       "      <td>0.000000</td>\n",
       "      <td>1.000000</td>\n",
       "      <td>0.00000</td>\n",
       "      <td>0.000000</td>\n",
       "      <td>11.580000</td>\n",
       "      <td>0.000000</td>\n",
       "    </tr>\n",
       "    <tr>\n",
       "      <th>25%</th>\n",
       "      <td>2500.75000</td>\n",
       "      <td>1.562853e+07</td>\n",
       "      <td>584.000000</td>\n",
       "      <td>32.000000</td>\n",
       "      <td>2.000000</td>\n",
       "      <td>0.000000</td>\n",
       "      <td>1.000000</td>\n",
       "      <td>0.00000</td>\n",
       "      <td>0.000000</td>\n",
       "      <td>51002.110000</td>\n",
       "      <td>0.000000</td>\n",
       "    </tr>\n",
       "    <tr>\n",
       "      <th>50%</th>\n",
       "      <td>5000.50000</td>\n",
       "      <td>1.569074e+07</td>\n",
       "      <td>652.000000</td>\n",
       "      <td>37.000000</td>\n",
       "      <td>5.000000</td>\n",
       "      <td>97198.540000</td>\n",
       "      <td>1.000000</td>\n",
       "      <td>1.00000</td>\n",
       "      <td>1.000000</td>\n",
       "      <td>100193.915000</td>\n",
       "      <td>0.000000</td>\n",
       "    </tr>\n",
       "    <tr>\n",
       "      <th>75%</th>\n",
       "      <td>7500.25000</td>\n",
       "      <td>1.575323e+07</td>\n",
       "      <td>718.000000</td>\n",
       "      <td>44.000000</td>\n",
       "      <td>7.000000</td>\n",
       "      <td>127644.240000</td>\n",
       "      <td>2.000000</td>\n",
       "      <td>1.00000</td>\n",
       "      <td>1.000000</td>\n",
       "      <td>149388.247500</td>\n",
       "      <td>0.000000</td>\n",
       "    </tr>\n",
       "    <tr>\n",
       "      <th>max</th>\n",
       "      <td>10000.00000</td>\n",
       "      <td>1.581569e+07</td>\n",
       "      <td>850.000000</td>\n",
       "      <td>92.000000</td>\n",
       "      <td>10.000000</td>\n",
       "      <td>250898.090000</td>\n",
       "      <td>4.000000</td>\n",
       "      <td>1.00000</td>\n",
       "      <td>1.000000</td>\n",
       "      <td>199992.480000</td>\n",
       "      <td>1.000000</td>\n",
       "    </tr>\n",
       "  </tbody>\n",
       "</table>\n",
       "</div>"
      ],
      "text/plain": [
       "         RowNumber    CustomerId   CreditScore           Age       Tenure  \\\n",
       "count  10000.00000  1.000000e+04  10000.000000  10000.000000  9091.000000   \n",
       "mean    5000.50000  1.569094e+07    650.528800     38.921800     4.997690   \n",
       "std     2886.89568  7.193619e+04     96.653299     10.487806     2.894723   \n",
       "min        1.00000  1.556570e+07    350.000000     18.000000     0.000000   \n",
       "25%     2500.75000  1.562853e+07    584.000000     32.000000     2.000000   \n",
       "50%     5000.50000  1.569074e+07    652.000000     37.000000     5.000000   \n",
       "75%     7500.25000  1.575323e+07    718.000000     44.000000     7.000000   \n",
       "max    10000.00000  1.581569e+07    850.000000     92.000000    10.000000   \n",
       "\n",
       "             Balance  NumOfProducts    HasCrCard  IsActiveMember  \\\n",
       "count   10000.000000   10000.000000  10000.00000    10000.000000   \n",
       "mean    76485.889288       1.530200      0.70550        0.515100   \n",
       "std     62397.405202       0.581654      0.45584        0.499797   \n",
       "min         0.000000       1.000000      0.00000        0.000000   \n",
       "25%         0.000000       1.000000      0.00000        0.000000   \n",
       "50%     97198.540000       1.000000      1.00000        1.000000   \n",
       "75%    127644.240000       2.000000      1.00000        1.000000   \n",
       "max    250898.090000       4.000000      1.00000        1.000000   \n",
       "\n",
       "       EstimatedSalary        Exited  \n",
       "count     10000.000000  10000.000000  \n",
       "mean     100090.239881      0.203700  \n",
       "std       57510.492818      0.402769  \n",
       "min          11.580000      0.000000  \n",
       "25%       51002.110000      0.000000  \n",
       "50%      100193.915000      0.000000  \n",
       "75%      149388.247500      0.000000  \n",
       "max      199992.480000      1.000000  "
      ]
     },
     "execution_count": 5,
     "metadata": {},
     "output_type": "execute_result"
    }
   ],
   "source": [
    "df.describe()"
   ]
  },
  {
   "cell_type": "markdown",
   "metadata": {},
   "source": [
    "- `RowNumber` — индекс строки в данных\n",
    "- `CustomerId` — уникальный идентификатор клиента\n",
    "- `Surname` — фамилия\n",
    "- `CreditScore` — кредитный рейтинг\n",
    "- `Geography` — страна проживания\n",
    "- `Gender` — пол\n",
    "- `Age` — возраст\n",
    "- `Tenure` — сколько лет человек является клиентом банка\n",
    "- `Balance` — баланс на счёте\n",
    "- `NumOfProducts` — количество продуктов банка, используемых клиентом\n",
    "- `HasCrCard` — наличие кредитной карты\n",
    "- `IsActiveMember` — активность клиента\n",
    "- `EstimatedSalary` — предполагаемая зарплата\n",
    "\n",
    "**Целевым признаком является столбец `Exited` — факт ухода клиента**"
   ]
  },
  {
   "cell_type": "code",
   "execution_count": 6,
   "metadata": {},
   "outputs": [
    {
     "data": {
      "text/plain": [
       "0"
      ]
     },
     "execution_count": 6,
     "metadata": {},
     "output_type": "execute_result"
    }
   ],
   "source": [
    "#Проверим на дубликаты\n",
    "df.duplicated().sum()"
   ]
  },
  {
   "cell_type": "markdown",
   "metadata": {},
   "source": [
    "Заметим, что в одном из столбцов есть пропуски, есть три варианта решения:\n",
    "\n",
    "1) Удалить объекты с пропущенными значениями, так как количество их не очень велико(около 10%)\n",
    "\n",
    "2) Заменить пропуски на минимальное значение\n",
    "\n",
    "3) Заменить пропуски на медианное значение"
   ]
  },
  {
   "cell_type": "raw",
   "metadata": {},
   "source": [
    "df['Tenure'].describe()"
   ]
  },
  {
   "cell_type": "code",
   "execution_count": 7,
   "metadata": {},
   "outputs": [],
   "source": [
    "# Я остановлюсь на заполнении минимальным значением\n",
    "df['Tenure'] = df['Tenure'].fillna(0)"
   ]
  },
  {
   "cell_type": "code",
   "execution_count": 8,
   "metadata": {},
   "outputs": [
    {
     "data": {
      "text/plain": [
       "array(['France', 'Spain', 'Germany'], dtype=object)"
      ]
     },
     "execution_count": 8,
     "metadata": {},
     "output_type": "execute_result"
    }
   ],
   "source": [
    "df['Geography'].unique()"
   ]
  },
  {
   "cell_type": "markdown",
   "metadata": {},
   "source": [
    "**Вывод**\n",
    "- RowNumber — столбец дублирует информацию стандартного датафрейма и не несетя ценности для обучения модели. Поэтому столбец можно удалить\n",
    "- CustomerId — является идентификатором пользователя (по данному столбцу значению необходимо проверить наличие дубликатов) и если отсутсвуют — стоблец также можно удалить.\n",
    "- Surname — является идентифицирующей пользователя информацией, содержит 2932 уникальных значений (данные kaggle), что сильно усложняет задачу, но не несет ценности для качества будущей модели — столбец можно удалить.\n",
    "- CreditScore — следует проверить распределение и сохранить данный столбец.\n",
    "- Geography — всего 3 уникальных значения France', 'Spain', 'Germany' — выполнить преобразование OHE / ordinal encoding\n",
    "- Gender — значение преобразовать — OHE / ordinal encoding.\n",
    "- Age — Exited — тип данных верны."
   ]
  },
  {
   "cell_type": "markdown",
   "metadata": {},
   "source": [
    "## Исследование задачи"
   ]
  },
  {
   "cell_type": "markdown",
   "metadata": {},
   "source": [
    "### Подготовка данных для машинного обучения"
   ]
  },
  {
   "cell_type": "code",
   "execution_count": 9,
   "metadata": {},
   "outputs": [
    {
     "data": {
      "text/html": [
       "<div>\n",
       "<style scoped>\n",
       "    .dataframe tbody tr th:only-of-type {\n",
       "        vertical-align: middle;\n",
       "    }\n",
       "\n",
       "    .dataframe tbody tr th {\n",
       "        vertical-align: top;\n",
       "    }\n",
       "\n",
       "    .dataframe thead th {\n",
       "        text-align: right;\n",
       "    }\n",
       "</style>\n",
       "<table border=\"1\" class=\"dataframe\">\n",
       "  <thead>\n",
       "    <tr style=\"text-align: right;\">\n",
       "      <th></th>\n",
       "      <th>CreditScore</th>\n",
       "      <th>Geography</th>\n",
       "      <th>Gender</th>\n",
       "      <th>Age</th>\n",
       "      <th>Tenure</th>\n",
       "      <th>Balance</th>\n",
       "      <th>NumOfProducts</th>\n",
       "      <th>HasCrCard</th>\n",
       "      <th>IsActiveMember</th>\n",
       "      <th>EstimatedSalary</th>\n",
       "      <th>Exited</th>\n",
       "    </tr>\n",
       "  </thead>\n",
       "  <tbody>\n",
       "    <tr>\n",
       "      <th>0</th>\n",
       "      <td>619</td>\n",
       "      <td>France</td>\n",
       "      <td>Female</td>\n",
       "      <td>42</td>\n",
       "      <td>2.0</td>\n",
       "      <td>0.00</td>\n",
       "      <td>1</td>\n",
       "      <td>1</td>\n",
       "      <td>1</td>\n",
       "      <td>101348.88</td>\n",
       "      <td>1</td>\n",
       "    </tr>\n",
       "    <tr>\n",
       "      <th>1</th>\n",
       "      <td>608</td>\n",
       "      <td>Spain</td>\n",
       "      <td>Female</td>\n",
       "      <td>41</td>\n",
       "      <td>1.0</td>\n",
       "      <td>83807.86</td>\n",
       "      <td>1</td>\n",
       "      <td>0</td>\n",
       "      <td>1</td>\n",
       "      <td>112542.58</td>\n",
       "      <td>0</td>\n",
       "    </tr>\n",
       "    <tr>\n",
       "      <th>2</th>\n",
       "      <td>502</td>\n",
       "      <td>France</td>\n",
       "      <td>Female</td>\n",
       "      <td>42</td>\n",
       "      <td>8.0</td>\n",
       "      <td>159660.80</td>\n",
       "      <td>3</td>\n",
       "      <td>1</td>\n",
       "      <td>0</td>\n",
       "      <td>113931.57</td>\n",
       "      <td>1</td>\n",
       "    </tr>\n",
       "    <tr>\n",
       "      <th>3</th>\n",
       "      <td>699</td>\n",
       "      <td>France</td>\n",
       "      <td>Female</td>\n",
       "      <td>39</td>\n",
       "      <td>1.0</td>\n",
       "      <td>0.00</td>\n",
       "      <td>2</td>\n",
       "      <td>0</td>\n",
       "      <td>0</td>\n",
       "      <td>93826.63</td>\n",
       "      <td>0</td>\n",
       "    </tr>\n",
       "    <tr>\n",
       "      <th>4</th>\n",
       "      <td>850</td>\n",
       "      <td>Spain</td>\n",
       "      <td>Female</td>\n",
       "      <td>43</td>\n",
       "      <td>2.0</td>\n",
       "      <td>125510.82</td>\n",
       "      <td>1</td>\n",
       "      <td>1</td>\n",
       "      <td>1</td>\n",
       "      <td>79084.10</td>\n",
       "      <td>0</td>\n",
       "    </tr>\n",
       "  </tbody>\n",
       "</table>\n",
       "</div>"
      ],
      "text/plain": [
       "   CreditScore Geography  Gender  Age  Tenure    Balance  NumOfProducts  \\\n",
       "0          619    France  Female   42     2.0       0.00              1   \n",
       "1          608     Spain  Female   41     1.0   83807.86              1   \n",
       "2          502    France  Female   42     8.0  159660.80              3   \n",
       "3          699    France  Female   39     1.0       0.00              2   \n",
       "4          850     Spain  Female   43     2.0  125510.82              1   \n",
       "\n",
       "   HasCrCard  IsActiveMember  EstimatedSalary  Exited  \n",
       "0          1               1        101348.88       1  \n",
       "1          0               1        112542.58       0  \n",
       "2          1               0        113931.57       1  \n",
       "3          0               0         93826.63       0  \n",
       "4          1               1         79084.10       0  "
      ]
     },
     "execution_count": 9,
     "metadata": {},
     "output_type": "execute_result"
    }
   ],
   "source": [
    "#Обозначим новый датафрейм \"data_ml\" — данные для машинного обучения\n",
    "#Удалим столбцы-идентификаторы, не представляющие ценностия для алгоритма \n",
    "for_drop = ['RowNumber','CustomerId', 'Surname']\n",
    "df_ml = df.drop(for_drop, axis=1)\n",
    "df_ml.head()"
   ]
  },
  {
   "cell_type": "code",
   "execution_count": 10,
   "metadata": {},
   "outputs": [
    {
     "data": {
      "text/plain": [
       "(10000, 11)"
      ]
     },
     "execution_count": 10,
     "metadata": {},
     "output_type": "execute_result"
    }
   ],
   "source": [
    "df_ml.shape"
   ]
  },
  {
   "cell_type": "code",
   "execution_count": 11,
   "metadata": {},
   "outputs": [
    {
     "data": {
      "text/html": [
       "<div>\n",
       "<style scoped>\n",
       "    .dataframe tbody tr th:only-of-type {\n",
       "        vertical-align: middle;\n",
       "    }\n",
       "\n",
       "    .dataframe tbody tr th {\n",
       "        vertical-align: top;\n",
       "    }\n",
       "\n",
       "    .dataframe thead th {\n",
       "        text-align: right;\n",
       "    }\n",
       "</style>\n",
       "<table border=\"1\" class=\"dataframe\">\n",
       "  <thead>\n",
       "    <tr style=\"text-align: right;\">\n",
       "      <th></th>\n",
       "      <th>CreditScore</th>\n",
       "      <th>Age</th>\n",
       "      <th>Tenure</th>\n",
       "      <th>Balance</th>\n",
       "      <th>NumOfProducts</th>\n",
       "      <th>HasCrCard</th>\n",
       "      <th>IsActiveMember</th>\n",
       "      <th>EstimatedSalary</th>\n",
       "      <th>Exited</th>\n",
       "      <th>Geography_Germany</th>\n",
       "      <th>Geography_Spain</th>\n",
       "      <th>Gender_Male</th>\n",
       "    </tr>\n",
       "  </thead>\n",
       "  <tbody>\n",
       "    <tr>\n",
       "      <th>0</th>\n",
       "      <td>619</td>\n",
       "      <td>42</td>\n",
       "      <td>2.0</td>\n",
       "      <td>0.00</td>\n",
       "      <td>1</td>\n",
       "      <td>1</td>\n",
       "      <td>1</td>\n",
       "      <td>101348.88</td>\n",
       "      <td>1</td>\n",
       "      <td>0</td>\n",
       "      <td>0</td>\n",
       "      <td>0</td>\n",
       "    </tr>\n",
       "    <tr>\n",
       "      <th>1</th>\n",
       "      <td>608</td>\n",
       "      <td>41</td>\n",
       "      <td>1.0</td>\n",
       "      <td>83807.86</td>\n",
       "      <td>1</td>\n",
       "      <td>0</td>\n",
       "      <td>1</td>\n",
       "      <td>112542.58</td>\n",
       "      <td>0</td>\n",
       "      <td>0</td>\n",
       "      <td>1</td>\n",
       "      <td>0</td>\n",
       "    </tr>\n",
       "    <tr>\n",
       "      <th>2</th>\n",
       "      <td>502</td>\n",
       "      <td>42</td>\n",
       "      <td>8.0</td>\n",
       "      <td>159660.80</td>\n",
       "      <td>3</td>\n",
       "      <td>1</td>\n",
       "      <td>0</td>\n",
       "      <td>113931.57</td>\n",
       "      <td>1</td>\n",
       "      <td>0</td>\n",
       "      <td>0</td>\n",
       "      <td>0</td>\n",
       "    </tr>\n",
       "    <tr>\n",
       "      <th>3</th>\n",
       "      <td>699</td>\n",
       "      <td>39</td>\n",
       "      <td>1.0</td>\n",
       "      <td>0.00</td>\n",
       "      <td>2</td>\n",
       "      <td>0</td>\n",
       "      <td>0</td>\n",
       "      <td>93826.63</td>\n",
       "      <td>0</td>\n",
       "      <td>0</td>\n",
       "      <td>0</td>\n",
       "      <td>0</td>\n",
       "    </tr>\n",
       "    <tr>\n",
       "      <th>4</th>\n",
       "      <td>850</td>\n",
       "      <td>43</td>\n",
       "      <td>2.0</td>\n",
       "      <td>125510.82</td>\n",
       "      <td>1</td>\n",
       "      <td>1</td>\n",
       "      <td>1</td>\n",
       "      <td>79084.10</td>\n",
       "      <td>0</td>\n",
       "      <td>0</td>\n",
       "      <td>1</td>\n",
       "      <td>0</td>\n",
       "    </tr>\n",
       "  </tbody>\n",
       "</table>\n",
       "</div>"
      ],
      "text/plain": [
       "   CreditScore  Age  Tenure    Balance  NumOfProducts  HasCrCard  \\\n",
       "0          619   42     2.0       0.00              1          1   \n",
       "1          608   41     1.0   83807.86              1          0   \n",
       "2          502   42     8.0  159660.80              3          1   \n",
       "3          699   39     1.0       0.00              2          0   \n",
       "4          850   43     2.0  125510.82              1          1   \n",
       "\n",
       "   IsActiveMember  EstimatedSalary  Exited  Geography_Germany  \\\n",
       "0               1        101348.88       1                  0   \n",
       "1               1        112542.58       0                  0   \n",
       "2               0        113931.57       1                  0   \n",
       "3               0         93826.63       0                  0   \n",
       "4               1         79084.10       0                  0   \n",
       "\n",
       "   Geography_Spain  Gender_Male  \n",
       "0                0            0  \n",
       "1                1            0  \n",
       "2                0            0  \n",
       "3                0            0  \n",
       "4                1            0  "
      ]
     },
     "execution_count": 11,
     "metadata": {},
     "output_type": "execute_result"
    }
   ],
   "source": [
    "# Данные подготовим методом OHE, что позволит нам использовать разные модели и не словить дамми ловушку\n",
    "df_ml = pd.get_dummies(df_ml, drop_first=True)\n",
    "df_ml.head()"
   ]
  },
  {
   "cell_type": "code",
   "execution_count": 12,
   "metadata": {},
   "outputs": [
    {
     "data": {
      "text/plain": [
       "(10000, 12)"
      ]
     },
     "execution_count": 12,
     "metadata": {},
     "output_type": "execute_result"
    }
   ],
   "source": [
    "df_ml.shape"
   ]
  },
  {
   "cell_type": "markdown",
   "metadata": {},
   "source": [
    "**Вывод**\n",
    "В новом датафрейме кол-во столбцов увеличелост на 1 (стало 12)\n",
    "Столбец Geography содержал 3 класса, Gender_Male 2 класса — в результате мы получили только 2 и 1 столбцов соответственно, что позволяет избежать дами-ловушки."
   ]
  },
  {
   "cell_type": "markdown",
   "metadata": {},
   "source": [
    "### Сформируем выборки\n",
    "\n",
    "Обуч - 60, Валид - 20, тест - 20"
   ]
  },
  {
   "cell_type": "code",
   "execution_count": 13,
   "metadata": {},
   "outputs": [],
   "source": [
    "#Разделим на признаки и целевой признак\n",
    "features = df_ml.drop('Exited', axis=1)\n",
    "target = df_ml['Exited']"
   ]
  },
  {
   "cell_type": "code",
   "execution_count": 14,
   "metadata": {},
   "outputs": [],
   "source": [
    "#Валид 60%\n",
    "features_train, features_validtest, target_train, target_validtest = train_test_split(features,\n",
    "                                                    target,\n",
    "                                                    train_size=0.6,\n",
    "                                                    random_state=12345)"
   ]
  },
  {
   "cell_type": "code",
   "execution_count": 15,
   "metadata": {},
   "outputs": [],
   "source": [
    "#Валид и тест соответственно поровну по 20% от общей\n",
    "features_valid, features_test, target_valid, target_test = train_test_split(features_validtest,\n",
    "                                                    target_validtest,\n",
    "                                                    train_size=0.5,\n",
    "                                                    random_state=12345)"
   ]
  },
  {
   "cell_type": "markdown",
   "metadata": {},
   "source": [
    "**Вывод**\n",
    "Были создана выборки:\n",
    "- **Обучающая**\n",
    "features_train\n",
    "target_train\n",
    "\n",
    "- **Валидационная**\n",
    "features_valid\n",
    "target_valid\n",
    "\n",
    "- **Тестовая**\n",
    "features_test\n",
    "target_test"
   ]
  },
  {
   "cell_type": "code",
   "execution_count": 16,
   "metadata": {},
   "outputs": [
    {
     "data": {
      "text/html": [
       "<div>\n",
       "<style scoped>\n",
       "    .dataframe tbody tr th:only-of-type {\n",
       "        vertical-align: middle;\n",
       "    }\n",
       "\n",
       "    .dataframe tbody tr th {\n",
       "        vertical-align: top;\n",
       "    }\n",
       "\n",
       "    .dataframe thead th {\n",
       "        text-align: right;\n",
       "    }\n",
       "</style>\n",
       "<table border=\"1\" class=\"dataframe\">\n",
       "  <thead>\n",
       "    <tr style=\"text-align: right;\">\n",
       "      <th></th>\n",
       "      <th>CreditScore</th>\n",
       "      <th>Age</th>\n",
       "      <th>Tenure</th>\n",
       "      <th>Balance</th>\n",
       "      <th>NumOfProducts</th>\n",
       "      <th>HasCrCard</th>\n",
       "      <th>IsActiveMember</th>\n",
       "      <th>EstimatedSalary</th>\n",
       "      <th>Geography_Germany</th>\n",
       "      <th>Geography_Spain</th>\n",
       "      <th>Gender_Male</th>\n",
       "    </tr>\n",
       "  </thead>\n",
       "  <tbody>\n",
       "    <tr>\n",
       "      <th>7479</th>\n",
       "      <td>567</td>\n",
       "      <td>35</td>\n",
       "      <td>8.0</td>\n",
       "      <td>153137.74</td>\n",
       "      <td>1</td>\n",
       "      <td>1</td>\n",
       "      <td>0</td>\n",
       "      <td>88659.07</td>\n",
       "      <td>0</td>\n",
       "      <td>1</td>\n",
       "      <td>1</td>\n",
       "    </tr>\n",
       "    <tr>\n",
       "      <th>3411</th>\n",
       "      <td>711</td>\n",
       "      <td>37</td>\n",
       "      <td>8.0</td>\n",
       "      <td>113899.92</td>\n",
       "      <td>1</td>\n",
       "      <td>0</td>\n",
       "      <td>0</td>\n",
       "      <td>80215.20</td>\n",
       "      <td>0</td>\n",
       "      <td>0</td>\n",
       "      <td>0</td>\n",
       "    </tr>\n",
       "    <tr>\n",
       "      <th>6027</th>\n",
       "      <td>850</td>\n",
       "      <td>44</td>\n",
       "      <td>3.0</td>\n",
       "      <td>140393.65</td>\n",
       "      <td>2</td>\n",
       "      <td>0</td>\n",
       "      <td>1</td>\n",
       "      <td>186285.52</td>\n",
       "      <td>1</td>\n",
       "      <td>0</td>\n",
       "      <td>1</td>\n",
       "    </tr>\n",
       "    <tr>\n",
       "      <th>1247</th>\n",
       "      <td>512</td>\n",
       "      <td>24</td>\n",
       "      <td>6.0</td>\n",
       "      <td>0.00</td>\n",
       "      <td>2</td>\n",
       "      <td>1</td>\n",
       "      <td>0</td>\n",
       "      <td>37654.31</td>\n",
       "      <td>0</td>\n",
       "      <td>0</td>\n",
       "      <td>1</td>\n",
       "    </tr>\n",
       "    <tr>\n",
       "      <th>3716</th>\n",
       "      <td>665</td>\n",
       "      <td>27</td>\n",
       "      <td>2.0</td>\n",
       "      <td>147435.96</td>\n",
       "      <td>1</td>\n",
       "      <td>0</td>\n",
       "      <td>0</td>\n",
       "      <td>187508.06</td>\n",
       "      <td>1</td>\n",
       "      <td>0</td>\n",
       "      <td>0</td>\n",
       "    </tr>\n",
       "  </tbody>\n",
       "</table>\n",
       "</div>"
      ],
      "text/plain": [
       "      CreditScore  Age  Tenure    Balance  NumOfProducts  HasCrCard  \\\n",
       "7479          567   35     8.0  153137.74              1          1   \n",
       "3411          711   37     8.0  113899.92              1          0   \n",
       "6027          850   44     3.0  140393.65              2          0   \n",
       "1247          512   24     6.0       0.00              2          1   \n",
       "3716          665   27     2.0  147435.96              1          0   \n",
       "\n",
       "      IsActiveMember  EstimatedSalary  Geography_Germany  Geography_Spain  \\\n",
       "7479               0         88659.07                  0                1   \n",
       "3411               0         80215.20                  0                0   \n",
       "6027               1        186285.52                  1                0   \n",
       "1247               0         37654.31                  0                0   \n",
       "3716               0        187508.06                  1                0   \n",
       "\n",
       "      Gender_Male  \n",
       "7479            1  \n",
       "3411            0  \n",
       "6027            1  \n",
       "1247            1  \n",
       "3716            0  "
      ]
     },
     "execution_count": 16,
     "metadata": {},
     "output_type": "execute_result"
    }
   ],
   "source": [
    "features_train.head()"
   ]
  },
  {
   "cell_type": "code",
   "execution_count": 17,
   "metadata": {},
   "outputs": [],
   "source": [
    "#Для масштабирования методом scaler зафиксируем численные признаки\n",
    "numeric = ['CreditScore', 'Age', 'Tenure', 'Balance', 'NumOfProducts', 'EstimatedSalary']"
   ]
  },
  {
   "cell_type": "code",
   "execution_count": 18,
   "metadata": {},
   "outputs": [
    {
     "data": {
      "text/plain": [
       "StandardScaler()"
      ]
     },
     "execution_count": 18,
     "metadata": {},
     "output_type": "execute_result"
    }
   ],
   "source": [
    "scaler = StandardScaler()\n",
    "scaler.fit(features_train[numeric])"
   ]
  },
  {
   "cell_type": "code",
   "execution_count": 19,
   "metadata": {},
   "outputs": [
    {
     "data": {
      "text/html": [
       "<div>\n",
       "<style scoped>\n",
       "    .dataframe tbody tr th:only-of-type {\n",
       "        vertical-align: middle;\n",
       "    }\n",
       "\n",
       "    .dataframe tbody tr th {\n",
       "        vertical-align: top;\n",
       "    }\n",
       "\n",
       "    .dataframe thead th {\n",
       "        text-align: right;\n",
       "    }\n",
       "</style>\n",
       "<table border=\"1\" class=\"dataframe\">\n",
       "  <thead>\n",
       "    <tr style=\"text-align: right;\">\n",
       "      <th></th>\n",
       "      <th>CreditScore</th>\n",
       "      <th>Age</th>\n",
       "      <th>Tenure</th>\n",
       "      <th>Balance</th>\n",
       "      <th>NumOfProducts</th>\n",
       "      <th>HasCrCard</th>\n",
       "      <th>IsActiveMember</th>\n",
       "      <th>EstimatedSalary</th>\n",
       "      <th>Geography_Germany</th>\n",
       "      <th>Geography_Spain</th>\n",
       "      <th>Gender_Male</th>\n",
       "    </tr>\n",
       "  </thead>\n",
       "  <tbody>\n",
       "    <tr>\n",
       "      <th>7479</th>\n",
       "      <td>-0.886751</td>\n",
       "      <td>-0.373192</td>\n",
       "      <td>1.104696</td>\n",
       "      <td>1.232271</td>\n",
       "      <td>-0.891560</td>\n",
       "      <td>1</td>\n",
       "      <td>0</td>\n",
       "      <td>-0.187705</td>\n",
       "      <td>0</td>\n",
       "      <td>1</td>\n",
       "      <td>1</td>\n",
       "    </tr>\n",
       "    <tr>\n",
       "      <th>3411</th>\n",
       "      <td>0.608663</td>\n",
       "      <td>-0.183385</td>\n",
       "      <td>1.104696</td>\n",
       "      <td>0.600563</td>\n",
       "      <td>-0.891560</td>\n",
       "      <td>0</td>\n",
       "      <td>0</td>\n",
       "      <td>-0.333945</td>\n",
       "      <td>0</td>\n",
       "      <td>0</td>\n",
       "      <td>0</td>\n",
       "    </tr>\n",
       "    <tr>\n",
       "      <th>6027</th>\n",
       "      <td>2.052152</td>\n",
       "      <td>0.480939</td>\n",
       "      <td>-0.503694</td>\n",
       "      <td>1.027098</td>\n",
       "      <td>0.830152</td>\n",
       "      <td>0</td>\n",
       "      <td>1</td>\n",
       "      <td>1.503095</td>\n",
       "      <td>1</td>\n",
       "      <td>0</td>\n",
       "      <td>1</td>\n",
       "    </tr>\n",
       "    <tr>\n",
       "      <th>1247</th>\n",
       "      <td>-1.457915</td>\n",
       "      <td>-1.417129</td>\n",
       "      <td>0.461340</td>\n",
       "      <td>-1.233163</td>\n",
       "      <td>0.830152</td>\n",
       "      <td>1</td>\n",
       "      <td>0</td>\n",
       "      <td>-1.071061</td>\n",
       "      <td>0</td>\n",
       "      <td>0</td>\n",
       "      <td>1</td>\n",
       "    </tr>\n",
       "    <tr>\n",
       "      <th>3716</th>\n",
       "      <td>0.130961</td>\n",
       "      <td>-1.132419</td>\n",
       "      <td>-0.825373</td>\n",
       "      <td>1.140475</td>\n",
       "      <td>-0.891560</td>\n",
       "      <td>0</td>\n",
       "      <td>0</td>\n",
       "      <td>1.524268</td>\n",
       "      <td>1</td>\n",
       "      <td>0</td>\n",
       "      <td>0</td>\n",
       "    </tr>\n",
       "  </tbody>\n",
       "</table>\n",
       "</div>"
      ],
      "text/plain": [
       "      CreditScore       Age    Tenure   Balance  NumOfProducts  HasCrCard  \\\n",
       "7479    -0.886751 -0.373192  1.104696  1.232271      -0.891560          1   \n",
       "3411     0.608663 -0.183385  1.104696  0.600563      -0.891560          0   \n",
       "6027     2.052152  0.480939 -0.503694  1.027098       0.830152          0   \n",
       "1247    -1.457915 -1.417129  0.461340 -1.233163       0.830152          1   \n",
       "3716     0.130961 -1.132419 -0.825373  1.140475      -0.891560          0   \n",
       "\n",
       "      IsActiveMember  EstimatedSalary  Geography_Germany  Geography_Spain  \\\n",
       "7479               0        -0.187705                  0                1   \n",
       "3411               0        -0.333945                  0                0   \n",
       "6027               1         1.503095                  1                0   \n",
       "1247               0        -1.071061                  0                0   \n",
       "3716               0         1.524268                  1                0   \n",
       "\n",
       "      Gender_Male  \n",
       "7479            1  \n",
       "3411            0  \n",
       "6027            1  \n",
       "1247            1  \n",
       "3716            0  "
      ]
     },
     "execution_count": 19,
     "metadata": {},
     "output_type": "execute_result"
    }
   ],
   "source": [
    "#Масштабируем числ признаки обучающей выборки\n",
    "features_train[numeric] = scaler.transform(features_train[numeric])\n",
    "features_train.head()"
   ]
  },
  {
   "cell_type": "code",
   "execution_count": 20,
   "metadata": {},
   "outputs": [
    {
     "data": {
      "text/html": [
       "<div>\n",
       "<style scoped>\n",
       "    .dataframe tbody tr th:only-of-type {\n",
       "        vertical-align: middle;\n",
       "    }\n",
       "\n",
       "    .dataframe tbody tr th {\n",
       "        vertical-align: top;\n",
       "    }\n",
       "\n",
       "    .dataframe thead th {\n",
       "        text-align: right;\n",
       "    }\n",
       "</style>\n",
       "<table border=\"1\" class=\"dataframe\">\n",
       "  <thead>\n",
       "    <tr style=\"text-align: right;\">\n",
       "      <th></th>\n",
       "      <th>CreditScore</th>\n",
       "      <th>Age</th>\n",
       "      <th>Tenure</th>\n",
       "      <th>Balance</th>\n",
       "      <th>NumOfProducts</th>\n",
       "      <th>HasCrCard</th>\n",
       "      <th>IsActiveMember</th>\n",
       "      <th>EstimatedSalary</th>\n",
       "      <th>Geography_Germany</th>\n",
       "      <th>Geography_Spain</th>\n",
       "      <th>Gender_Male</th>\n",
       "    </tr>\n",
       "  </thead>\n",
       "  <tbody>\n",
       "    <tr>\n",
       "      <th>8532</th>\n",
       "      <td>-0.699824</td>\n",
       "      <td>-0.373192</td>\n",
       "      <td>-0.825373</td>\n",
       "      <td>-1.233163</td>\n",
       "      <td>0.830152</td>\n",
       "      <td>1</td>\n",
       "      <td>0</td>\n",
       "      <td>-0.015173</td>\n",
       "      <td>0</td>\n",
       "      <td>0</td>\n",
       "      <td>0</td>\n",
       "    </tr>\n",
       "    <tr>\n",
       "      <th>5799</th>\n",
       "      <td>-0.284431</td>\n",
       "      <td>0.575842</td>\n",
       "      <td>-0.503694</td>\n",
       "      <td>-1.233163</td>\n",
       "      <td>-0.891560</td>\n",
       "      <td>1</td>\n",
       "      <td>1</td>\n",
       "      <td>1.471724</td>\n",
       "      <td>0</td>\n",
       "      <td>0</td>\n",
       "      <td>0</td>\n",
       "    </tr>\n",
       "    <tr>\n",
       "      <th>5511</th>\n",
       "      <td>0.151731</td>\n",
       "      <td>-0.657902</td>\n",
       "      <td>-1.468729</td>\n",
       "      <td>0.438711</td>\n",
       "      <td>-0.891560</td>\n",
       "      <td>1</td>\n",
       "      <td>0</td>\n",
       "      <td>-1.367107</td>\n",
       "      <td>1</td>\n",
       "      <td>0</td>\n",
       "      <td>1</td>\n",
       "    </tr>\n",
       "    <tr>\n",
       "      <th>7365</th>\n",
       "      <td>-0.876366</td>\n",
       "      <td>-0.278288</td>\n",
       "      <td>1.748053</td>\n",
       "      <td>1.239884</td>\n",
       "      <td>-0.891560</td>\n",
       "      <td>1</td>\n",
       "      <td>1</td>\n",
       "      <td>-0.786517</td>\n",
       "      <td>0</td>\n",
       "      <td>1</td>\n",
       "      <td>0</td>\n",
       "    </tr>\n",
       "    <tr>\n",
       "      <th>7367</th>\n",
       "      <td>-0.481743</td>\n",
       "      <td>0.291132</td>\n",
       "      <td>1.748053</td>\n",
       "      <td>-1.233163</td>\n",
       "      <td>0.830152</td>\n",
       "      <td>1</td>\n",
       "      <td>0</td>\n",
       "      <td>1.358533</td>\n",
       "      <td>0</td>\n",
       "      <td>1</td>\n",
       "      <td>1</td>\n",
       "    </tr>\n",
       "  </tbody>\n",
       "</table>\n",
       "</div>"
      ],
      "text/plain": [
       "      CreditScore       Age    Tenure   Balance  NumOfProducts  HasCrCard  \\\n",
       "8532    -0.699824 -0.373192 -0.825373 -1.233163       0.830152          1   \n",
       "5799    -0.284431  0.575842 -0.503694 -1.233163      -0.891560          1   \n",
       "5511     0.151731 -0.657902 -1.468729  0.438711      -0.891560          1   \n",
       "7365    -0.876366 -0.278288  1.748053  1.239884      -0.891560          1   \n",
       "7367    -0.481743  0.291132  1.748053 -1.233163       0.830152          1   \n",
       "\n",
       "      IsActiveMember  EstimatedSalary  Geography_Germany  Geography_Spain  \\\n",
       "8532               0        -0.015173                  0                0   \n",
       "5799               1         1.471724                  0                0   \n",
       "5511               0        -1.367107                  1                0   \n",
       "7365               1        -0.786517                  0                1   \n",
       "7367               0         1.358533                  0                1   \n",
       "\n",
       "      Gender_Male  \n",
       "8532            0  \n",
       "5799            0  \n",
       "5511            1  \n",
       "7365            0  \n",
       "7367            1  "
      ]
     },
     "execution_count": 20,
     "metadata": {},
     "output_type": "execute_result"
    }
   ],
   "source": [
    "#Масштабируем численные признаки валидационной выборки \n",
    "features_valid[numeric] = scaler.transform(features_valid[numeric])\n",
    "features_valid.head()"
   ]
  },
  {
   "cell_type": "code",
   "execution_count": 21,
   "metadata": {},
   "outputs": [
    {
     "data": {
      "text/html": [
       "<div>\n",
       "<style scoped>\n",
       "    .dataframe tbody tr th:only-of-type {\n",
       "        vertical-align: middle;\n",
       "    }\n",
       "\n",
       "    .dataframe tbody tr th {\n",
       "        vertical-align: top;\n",
       "    }\n",
       "\n",
       "    .dataframe thead th {\n",
       "        text-align: right;\n",
       "    }\n",
       "</style>\n",
       "<table border=\"1\" class=\"dataframe\">\n",
       "  <thead>\n",
       "    <tr style=\"text-align: right;\">\n",
       "      <th></th>\n",
       "      <th>CreditScore</th>\n",
       "      <th>Age</th>\n",
       "      <th>Tenure</th>\n",
       "      <th>Balance</th>\n",
       "      <th>NumOfProducts</th>\n",
       "      <th>HasCrCard</th>\n",
       "      <th>IsActiveMember</th>\n",
       "      <th>EstimatedSalary</th>\n",
       "      <th>Geography_Germany</th>\n",
       "      <th>Geography_Spain</th>\n",
       "      <th>Gender_Male</th>\n",
       "    </tr>\n",
       "  </thead>\n",
       "  <tbody>\n",
       "    <tr>\n",
       "      <th>7041</th>\n",
       "      <td>-2.226392</td>\n",
       "      <td>-0.088482</td>\n",
       "      <td>-0.825373</td>\n",
       "      <td>-1.233163</td>\n",
       "      <td>0.830152</td>\n",
       "      <td>1</td>\n",
       "      <td>0</td>\n",
       "      <td>0.647083</td>\n",
       "      <td>0</td>\n",
       "      <td>0</td>\n",
       "      <td>1</td>\n",
       "    </tr>\n",
       "    <tr>\n",
       "      <th>5709</th>\n",
       "      <td>-0.087120</td>\n",
       "      <td>0.006422</td>\n",
       "      <td>1.426375</td>\n",
       "      <td>-1.233163</td>\n",
       "      <td>-0.891560</td>\n",
       "      <td>1</td>\n",
       "      <td>0</td>\n",
       "      <td>-1.658410</td>\n",
       "      <td>0</td>\n",
       "      <td>0</td>\n",
       "      <td>0</td>\n",
       "    </tr>\n",
       "    <tr>\n",
       "      <th>7117</th>\n",
       "      <td>-0.917905</td>\n",
       "      <td>-0.752805</td>\n",
       "      <td>0.139662</td>\n",
       "      <td>0.722307</td>\n",
       "      <td>-0.891560</td>\n",
       "      <td>1</td>\n",
       "      <td>1</td>\n",
       "      <td>-1.369334</td>\n",
       "      <td>0</td>\n",
       "      <td>1</td>\n",
       "      <td>1</td>\n",
       "    </tr>\n",
       "    <tr>\n",
       "      <th>7775</th>\n",
       "      <td>-0.253277</td>\n",
       "      <td>0.101325</td>\n",
       "      <td>1.748053</td>\n",
       "      <td>-1.233163</td>\n",
       "      <td>0.830152</td>\n",
       "      <td>1</td>\n",
       "      <td>0</td>\n",
       "      <td>0.075086</td>\n",
       "      <td>0</td>\n",
       "      <td>1</td>\n",
       "      <td>1</td>\n",
       "    </tr>\n",
       "    <tr>\n",
       "      <th>8735</th>\n",
       "      <td>0.785204</td>\n",
       "      <td>-0.847708</td>\n",
       "      <td>1.748053</td>\n",
       "      <td>0.615625</td>\n",
       "      <td>-0.891560</td>\n",
       "      <td>0</td>\n",
       "      <td>1</td>\n",
       "      <td>-1.070919</td>\n",
       "      <td>0</td>\n",
       "      <td>0</td>\n",
       "      <td>1</td>\n",
       "    </tr>\n",
       "  </tbody>\n",
       "</table>\n",
       "</div>"
      ],
      "text/plain": [
       "      CreditScore       Age    Tenure   Balance  NumOfProducts  HasCrCard  \\\n",
       "7041    -2.226392 -0.088482 -0.825373 -1.233163       0.830152          1   \n",
       "5709    -0.087120  0.006422  1.426375 -1.233163      -0.891560          1   \n",
       "7117    -0.917905 -0.752805  0.139662  0.722307      -0.891560          1   \n",
       "7775    -0.253277  0.101325  1.748053 -1.233163       0.830152          1   \n",
       "8735     0.785204 -0.847708  1.748053  0.615625      -0.891560          0   \n",
       "\n",
       "      IsActiveMember  EstimatedSalary  Geography_Germany  Geography_Spain  \\\n",
       "7041               0         0.647083                  0                0   \n",
       "5709               0        -1.658410                  0                0   \n",
       "7117               1        -1.369334                  0                1   \n",
       "7775               0         0.075086                  0                1   \n",
       "8735               1        -1.070919                  0                0   \n",
       "\n",
       "      Gender_Male  \n",
       "7041            1  \n",
       "5709            0  \n",
       "7117            1  \n",
       "7775            1  \n",
       "8735            1  "
      ]
     },
     "execution_count": 21,
     "metadata": {},
     "output_type": "execute_result"
    }
   ],
   "source": [
    "#Масштабируем численные признаки тестовой выборки \n",
    "features_test[numeric] = scaler.transform(features_test[numeric])\n",
    "features_test.head()"
   ]
  },
  {
   "cell_type": "markdown",
   "metadata": {},
   "source": [
    "### Применение модели машинного обучения"
   ]
  },
  {
   "cell_type": "markdown",
   "metadata": {},
   "source": [
    "В результате мы получили масштабированные признаки для трех выборок. Перейдем к обучению моделей."
   ]
  },
  {
   "cell_type": "code",
   "execution_count": 22,
   "metadata": {},
   "outputs": [],
   "source": [
    "def all_models_accuracy(features_train, target_train, features_valid, target_valid):\n",
    "    model_DTC = DecisionTreeClassifier(random_state=1515)\n",
    "    DTC_score = model_DTC.fit(features_train, target_train).score(features_valid, target_valid)\n",
    "    \n",
    "    model_RFC = RandomForestClassifier(max_depth=7, n_estimators=43, min_samples_leaf=3, random_state=1515)\n",
    "    RFC_score = model_RFC.fit(features_train, target_train).score(features_valid, target_valid)\n",
    "    \n",
    "    model_LgR = LogisticRegression(solver = 'liblinear')\n",
    "    LgR_score = model_LgR.fit(features_train, target_train).score(features_valid, target_valid)\n",
    "    print(\"Точность:\" \"дерево решений\", DTC_score, \"случайный лес \", RFC_score, \"логистческая регрессия\", LgR_score)"
   ]
  },
  {
   "cell_type": "code",
   "execution_count": 23,
   "metadata": {},
   "outputs": [
    {
     "name": "stdout",
     "output_type": "stream",
     "text": [
      "Точность:дерево решений 0.788 случайный лес  0.857 логистческая регрессия 0.8025\n"
     ]
    }
   ],
   "source": [
    "all_models_accuracy(features_train, target_train, features_valid, target_valid)"
   ]
  },
  {
   "cell_type": "markdown",
   "metadata": {},
   "source": [
    "### Исследование баланса классов выборки"
   ]
  },
  {
   "cell_type": "code",
   "execution_count": 24,
   "metadata": {},
   "outputs": [
    {
     "data": {
      "text/plain": [
       "0    0.800667\n",
       "1    0.199333\n",
       "Name: Exited, dtype: float64"
      ]
     },
     "execution_count": 24,
     "metadata": {},
     "output_type": "execute_result"
    }
   ],
   "source": [
    "target_train.value_counts(normalize = 1)"
   ]
  },
  {
   "cell_type": "code",
   "execution_count": 25,
   "metadata": {},
   "outputs": [
    {
     "data": {
      "text/plain": [
       "<AxesSubplot:ylabel='Frequency'>"
      ]
     },
     "execution_count": 25,
     "metadata": {},
     "output_type": "execute_result"
    },
    {
     "data": {
      "image/png": "[encoded data removed]",
      "text/plain": [
       "<Figure size 72x72 with 1 Axes>"
      ]
     },
     "metadata": {
      "needs_background": "light"
     },
     "output_type": "display_data"
    }
   ],
   "source": [
    "# Построим диаграмму баланса классов\n",
    "target_train.plot(kind ='hist', bins=2, figsize=(1,1))"
   ]
  },
  {
   "cell_type": "markdown",
   "metadata": {},
   "source": [
    "Как мы выяснили в нашей выборке отрицательны ответов ≈80% , положитительных ≈ 20%.\n",
    "С уверенностью можем сказать что **имеется дисбаланс.**"
   ]
  },
  {
   "cell_type": "markdown",
   "metadata": {},
   "source": [
    "### Проверка адекватности"
   ]
  },
  {
   "cell_type": "markdown",
   "metadata": {},
   "source": [
    "#### Проверим качество моделей до борьбы с дисбалансом"
   ]
  },
  {
   "cell_type": "code",
   "execution_count": 26,
   "metadata": {},
   "outputs": [],
   "source": [
    "#Заранее напишем функцию для изучия полноты, точности и F1-меры\n",
    "def rec_prec_f1(target_valid, prediction):\n",
    "    print(\"Полнота\" , recall_score(target_valid, prediction))\n",
    "    print(\"Точность\", precision_score(target_valid, prediction))\n",
    "    print(\"F1-мера\", f1_score(target_valid, prediction))"
   ]
  },
  {
   "cell_type": "code",
   "execution_count": 27,
   "metadata": {},
   "outputs": [],
   "source": [
    "# Функция для отображения соотношения ответов моделей (сколько 0, сколько 1)\n",
    "def all_models_share(features_train, target_train, features_valid, target_valid):\n",
    "    model_DTC = DecisionTreeClassifier(random_state=1515)\n",
    "    model_DTC.fit(features_train, target_train)\n",
    "    DTC_share = pd.Series(model_DTC.predict(features_valid)).value_counts(normalize = 1)\n",
    "    \n",
    "    \n",
    "    \n",
    "    model_RFC = RandomForestClassifier(random_state=1515, n_estimators = 100)\n",
    "    model_RFC.fit(features_train, target_train)\n",
    "    RFC_share = pd.Series(model_RFC.predict(features_valid)).value_counts(normalize = 1)\n",
    "    \n",
    "    model_LgR = LogisticRegression(solver = 'liblinear')\n",
    "    model_LgR.fit(features_train, target_train)\n",
    "    LgR_share = pd.Series(model_LgR.predict(features_valid)).value_counts(normalize = 1)\n",
    "    \n",
    "\n",
    "    \n",
    "    print(\"Доли ответов:\" \"Дерево решений\", DTC_share, \"Случайный лес \", RFC_share, \"Логистческая регрессия\", LgR_share , end='')"
   ]
  },
  {
   "cell_type": "code",
   "execution_count": 28,
   "metadata": {},
   "outputs": [
    {
     "name": "stdout",
     "output_type": "stream",
     "text": [
      "Доли ответов:Дерево решений 0    0.801\n",
      "1    0.199\n",
      "dtype: float64 Случайный лес  0    0.8725\n",
      "1    0.1275\n",
      "dtype: float64 Логистческая регрессия 0    0.9125\n",
      "1    0.0875\n",
      "dtype: float64"
     ]
    }
   ],
   "source": [
    "#Применим функцию отображения соотношения ответов моделей\n",
    "all_models_share(features_train, target_train, features_valid, target_valid)"
   ]
  },
  {
   "cell_type": "markdown",
   "metadata": {},
   "source": [
    "Логистичесая регрессия показывала самую высокую точность, далее случайный лес и в конце дерево решений"
   ]
  },
  {
   "cell_type": "markdown",
   "metadata": {},
   "source": [
    "С учетом дисбаланса результата неудивительно что модели с большой вероятностью будут выдавать ответ 0, построим матрицы ошибок для моделей"
   ]
  },
  {
   "cell_type": "markdown",
   "metadata": {},
   "source": [
    "##### Случайный лес"
   ]
  },
  {
   "cell_type": "code",
   "execution_count": 29,
   "metadata": {},
   "outputs": [
    {
     "data": {
      "text/plain": [
       "array([[1527,   55],\n",
       "       [ 218,  200]])"
      ]
     },
     "execution_count": 29,
     "metadata": {},
     "output_type": "execute_result"
    }
   ],
   "source": [
    "model_RFC = RandomForestClassifier(random_state=1515, n_estimators = 100)\n",
    "model_RFC.fit(features_train, target_train)\n",
    "RFC_prediction = model_RFC.predict(features_valid)\n",
    "confusion_matrix(target_valid, RFC_prediction)"
   ]
  },
  {
   "cell_type": "code",
   "execution_count": 30,
   "metadata": {},
   "outputs": [
    {
     "name": "stdout",
     "output_type": "stream",
     "text": [
      "Полнота 0.4784688995215311\n",
      "Точность 0.7843137254901961\n",
      "F1-мера 0.5943536404160475\n"
     ]
    }
   ],
   "source": [
    "rec_prec_f1(target_valid, RFC_prediction)"
   ]
  },
  {
   "cell_type": "code",
   "execution_count": 31,
   "metadata": {},
   "outputs": [
    {
     "data": {
      "text/plain": [
       "0.8406111820177958"
      ]
     },
     "execution_count": 31,
     "metadata": {},
     "output_type": "execute_result"
    }
   ],
   "source": [
    "#Расчет roc_auc_RFC\n",
    "RFC_probabilities_one_valid = model_RFC.predict_proba(features_valid)[:, 1]\n",
    "\n",
    "auc_roc_RFC = roc_auc_score(target_valid, RFC_probabilities_one_valid)\n",
    "\n",
    "auc_roc_RFC"
   ]
  },
  {
   "cell_type": "markdown",
   "metadata": {},
   "source": [
    "**Вывод** Случайный лес примерно равную пропорцию позитивных и негативных предсказаний, выдает заметно больше качественных предсказаний, но также сильно склоняется к ложно позитивным предсказаниям (FP). Точность и качество также низкое."
   ]
  },
  {
   "cell_type": "markdown",
   "metadata": {},
   "source": [
    "##### Дерево решений"
   ]
  },
  {
   "cell_type": "code",
   "execution_count": 32,
   "metadata": {},
   "outputs": [
    {
     "data": {
      "text/plain": [
       "array([[1380,  202],\n",
       "       [ 222,  196]])"
      ]
     },
     "execution_count": 32,
     "metadata": {},
     "output_type": "execute_result"
    }
   ],
   "source": [
    "#Матрица ошибок для дерево решений\n",
    "model_DTC = DecisionTreeClassifier(random_state=1515)\n",
    "model_DTC.fit(features_train, target_train)\n",
    "DTC_prediction = model_DTC.predict(features_valid)\n",
    "confusion_matrix(target_valid, DTC_prediction)"
   ]
  },
  {
   "cell_type": "markdown",
   "metadata": {},
   "source": [
    "**Вывод** Матрица показала, что дерево решений склонно выдавать позитивные предсказания, очень высокое количество ложных позитивных предсказания (FP)."
   ]
  },
  {
   "cell_type": "code",
   "execution_count": 33,
   "metadata": {},
   "outputs": [
    {
     "name": "stdout",
     "output_type": "stream",
     "text": [
      "Полнота 0.4688995215311005\n",
      "Точность 0.49246231155778897\n",
      "F1-мера 0.4803921568627451\n"
     ]
    }
   ],
   "source": [
    "rec_prec_f1(target_valid, DTC_prediction)"
   ]
  },
  {
   "cell_type": "code",
   "execution_count": 34,
   "metadata": {},
   "outputs": [
    {
     "data": {
      "text/plain": [
       "0.6706065243559421"
      ]
     },
     "execution_count": 34,
     "metadata": {},
     "output_type": "execute_result"
    }
   ],
   "source": [
    "#Расчет roc_auc_DTC\n",
    "DTC_probabilities_one_valid = model_DTC.predict_proba(features_valid)[:, 1]\n",
    "\n",
    "auc_roc_DTC = roc_auc_score(target_valid, DTC_probabilities_one_valid)\n",
    "\n",
    "auc_roc_DTC"
   ]
  },
  {
   "cell_type": "markdown",
   "metadata": {},
   "source": [
    "**Вывод** Видим низкое значение F1, следовательно низкое качество модели, проблема в точности."
   ]
  },
  {
   "cell_type": "markdown",
   "metadata": {},
   "source": [
    "##### Логистическая регрессия"
   ]
  },
  {
   "cell_type": "code",
   "execution_count": 35,
   "metadata": {},
   "outputs": [
    {
     "data": {
      "text/plain": [
       "array([[1506,   76],\n",
       "       [ 319,   99]])"
      ]
     },
     "execution_count": 35,
     "metadata": {},
     "output_type": "execute_result"
    }
   ],
   "source": [
    "#Матрица ошибок для логистической регрессии\n",
    "model_LgR = LogisticRegression(solver = 'liblinear')\n",
    "model_LgR.fit(features_train, target_train)\n",
    "LgR_prediction = model_LgR.predict(features_valid)\n",
    "confusion_matrix(target_valid, LgR_prediction)"
   ]
  },
  {
   "cell_type": "code",
   "execution_count": 36,
   "metadata": {},
   "outputs": [
    {
     "name": "stdout",
     "output_type": "stream",
     "text": [
      "Полнота 0.23684210526315788\n",
      "Точность 0.5657142857142857\n",
      "F1-мера 0.33389544688026984\n"
     ]
    }
   ],
   "source": [
    "rec_prec_f1(target_valid, LgR_prediction)"
   ]
  },
  {
   "cell_type": "code",
   "execution_count": 37,
   "metadata": {},
   "outputs": [
    {
     "data": {
      "text/plain": [
       "0.7586317967081824"
      ]
     },
     "execution_count": 37,
     "metadata": {},
     "output_type": "execute_result"
    }
   ],
   "source": [
    "#Для логистической регрессии расчитаем метрику AUC-ROC\n",
    "LgR_probabilities_one_valid = model_LgR.predict_proba(features_valid)[:, 1]\n",
    "\n",
    "auc_roc_LgR = roc_auc_score(target_valid, LgR_probabilities_one_valid)\n",
    "\n",
    "auc_roc_LgR"
   ]
  },
  {
   "cell_type": "code",
   "execution_count": 38,
   "metadata": {},
   "outputs": [],
   "source": [
    "def plot_roc_curve(fper, tper):\n",
    "    plt.plot(fper, tper, color='red', label='ROC')\n",
    "    plt.plot([0, 1], [0, 1], color='green', linestyle='--')\n",
    "    plt.xlim([0.0, 1.0])\n",
    "    plt.ylim([0.0, 1.0])\n",
    "    plt.xlabel('False Positive Rate')\n",
    "    plt.ylabel('True Positive Rate')\n",
    "    plt.title('ROC-кривая')\n",
    "    plt.legend()\n",
    "    plt.show()"
   ]
  },
  {
   "cell_type": "code",
   "execution_count": 39,
   "metadata": {},
   "outputs": [
    {
     "data": {
      "image/png": "[encoded data removed]",
      "text/plain": [
       "<Figure size 432x288 with 1 Axes>"
      ]
     },
     "metadata": {
      "needs_background": "light"
     },
     "output_type": "display_data"
    }
   ],
   "source": [
    "fper, tper, thresholds = roc_curve(target_valid, LgR_probabilities_one_valid)\n",
    "plot_roc_curve(fper, tper)"
   ]
  },
  {
   "cell_type": "code",
   "execution_count": 40,
   "metadata": {},
   "outputs": [
    {
     "name": "stdout",
     "output_type": "stream",
     "text": [
      "Score 0.701\n",
      "AUC-ROC 0.7635798063138539\n"
     ]
    },
    {
     "data": {
      "image/png": "[encoded data removed]",
      "text/plain": [
       "<Figure size 432x288 with 1 Axes>"
      ]
     },
     "metadata": {
      "needs_background": "light"
     },
     "output_type": "display_data"
    }
   ],
   "source": [
    "#Попробуем обучать логистическую регресию сбалансировав классы\n",
    "model_LgR = LogisticRegression(solver = 'liblinear', class_weight='balanced')\n",
    "model_LgR.fit(features_train, target_train)\n",
    "LgR_probabilities_one_valid_class_weight = model_LgR.predict_proba(features_valid)[:, 1]\n",
    "print(\"Score\", model_LgR.score(features_valid, target_valid))\n",
    "print(\"AUC-ROC\", roc_auc_score(target_valid, LgR_probabilities_one_valid_class_weight))\n",
    "\n",
    "fper, tper, thresholds = roc_curve(target_valid, LgR_probabilities_one_valid_class_weight) \n",
    "plot_roc_curve(fper, tper)"
   ]
  },
  {
   "cell_type": "markdown",
   "metadata": {},
   "source": [
    "**Вывод** Отстутсвие улучшений - тоже результат. Высокая точность модели объясняется высокой долей негативных ответов в валидационной выборке."
   ]
  },
  {
   "cell_type": "markdown",
   "metadata": {},
   "source": [
    "### Борьба с дисбалансом"
   ]
  },
  {
   "cell_type": "markdown",
   "metadata": {},
   "source": [
    "Как мы выяснили ранее в нашей выборке отрицательны ответов ≈80% , положитительных ≈ 20%.\n",
    "Нам необходмо увеличить количество положительных ответов в 4 раза для достижения баланса. Либо же уменьшить кол-во отрицтаельных ответов.\n",
    "\n",
    "- 1) Разделим обучающую выборку на отрицательные и положительные объекты;\n",
    "- 2) Скопируем несколько раз положительные объекты;\n",
    "- 3) С учётом полученных данных создадим новую обучающую выборку;\n",
    "- 4) Перемешаем данные: идущие друг за другом одинаковые вопросы не помогут обучению.\n",
    "- 5) Обучим новые модели"
   ]
  },
  {
   "cell_type": "code",
   "execution_count": 41,
   "metadata": {},
   "outputs": [],
   "source": [
    "#Создадим функцию для увеличения представленной класса в выборке \n",
    "def upsample(features, target, repeat, upsampled_сlass):\n",
    "    \"\"\"Функция принимаем значение признаков (features[]), целевого признака (target[]), repeat(int / float),\n",
    "    класс который будет увеличен (upsampled_сlass (0 or 1))\"\"\"\n",
    "    features_zeros = features[target == 0]\n",
    "    features_ones = features[target == 1]\n",
    "    target_zeros = target[target == 0]\n",
    "    target_ones = target[target == 1]\n",
    "    \n",
    "    if upsampled_сlass == 0:\n",
    "        features_upsampled = pd.concat([features_zeros]* repeat + [features_ones] )\n",
    "        target_upsampled = pd.concat([target_zeros]* repeat + [target_ones] )\n",
    "        features_upsampled, target_upsampled = shuffle(\n",
    "        features_upsampled, target_upsampled, random_state=12345)\n",
    "        \n",
    "    elif upsampled_сlass == 1:\n",
    "        features_upsampled = pd.concat([features_zeros] + [features_ones] * repeat)\n",
    "        target_upsampled = pd.concat([target_zeros] + [target_ones] * repeat)\n",
    "        features_upsampled, target_upsampled = shuffle(\n",
    "        features_upsampled, target_upsampled, random_state=12345)\n",
    "    else:\n",
    "        features_upsampled = 0\n",
    "        target_upsampled = 0  \n",
    "        \n",
    "        \n",
    "       \n",
    "    return features_upsampled, target_upsampled"
   ]
  },
  {
   "cell_type": "code",
   "execution_count": 42,
   "metadata": {},
   "outputs": [],
   "source": [
    "#Создадим функцию для уменьшения представленной класса в выборке \n",
    "def downsample(features, target, fraction):\n",
    "    features_zeros = features[target == 0]\n",
    "    features_ones = features[target == 1]\n",
    "    target_zeros = target[target == 0]\n",
    "    target_ones = target[target == 1]\n",
    "\n",
    "    features_downsampled = pd.concat(\n",
    "        [features_zeros.sample(frac=fraction, random_state=12345)] + [features_ones])\n",
    "    target_downsampled = pd.concat(\n",
    "        [target_zeros.sample(frac=fraction, random_state=12345)] + [target_ones])\n",
    "    \n",
    "    features_downsampled, target_downsampled = shuffle(\n",
    "        features_downsampled, target_downsampled, random_state=12345)\n",
    "    \n",
    "    return features_downsampled, target_downsampled\n",
    "  "
   ]
  },
  {
   "cell_type": "code",
   "execution_count": 43,
   "metadata": {},
   "outputs": [],
   "source": [
    "features_downsampled_train, target_downsampled_train = downsample(features_train, target_train, fraction=0.25)"
   ]
  },
  {
   "cell_type": "code",
   "execution_count": 44,
   "metadata": {},
   "outputs": [
    {
     "name": "stdout",
     "output_type": "stream",
     "text": [
      "0    0.941407\n",
      "1    0.058593\n",
      "Name: Exited, dtype: float64\n",
      "(20412,)\n"
     ]
    }
   ],
   "source": [
    "#Протестируем функцию (верное значение)\n",
    "features_train_upsampled, target_train_upsampled = upsample(features_train, target_train, 4, 0)\n",
    "print(target_train_upsampled.value_counts(normalize = 1))\n",
    "print(target_train_upsampled.shape)"
   ]
  },
  {
   "cell_type": "code",
   "execution_count": 45,
   "metadata": {},
   "outputs": [
    {
     "data": {
      "text/plain": [
       "0"
      ]
     },
     "execution_count": 45,
     "metadata": {},
     "output_type": "execute_result"
    }
   ],
   "source": [
    "#Протестируем функцию (верное значение)\n",
    "features_train_upsampled, target_train_upsampled = upsample(features_train, target_train, 4, 3)\n",
    "features_train_upsampled"
   ]
  },
  {
   "cell_type": "code",
   "execution_count": 46,
   "metadata": {},
   "outputs": [
    {
     "name": "stdout",
     "output_type": "stream",
     "text": [
      "0    0.501043\n",
      "1    0.498957\n",
      "Name: Exited, dtype: float64\n",
      "(9588,)\n"
     ]
    }
   ],
   "source": [
    "#Применим функцию upsample \n",
    "#увеличим количество положительных ответов в 4 раза\n",
    "features_train_upsampled, target_train_upsampled = upsample(features_train, target_train, 4, 1)\n",
    "print(target_train_upsampled.value_counts(normalize = 1))\n",
    "print(target_train_upsampled.shape)"
   ]
  },
  {
   "cell_type": "code",
   "execution_count": 47,
   "metadata": {},
   "outputs": [
    {
     "name": "stdout",
     "output_type": "stream",
     "text": [
      "1    1196\n",
      "0     961\n",
      "Name: Exited, dtype: int64\n",
      "(2157,)\n"
     ]
    }
   ],
   "source": [
    "#Применим функцию downsample\n",
    "#Уменьшим кол-в пооложительных ответов в 4 раза\n",
    "#Протестируем функцию (верное значение)\n",
    "features_downsampled_train, target_downsampled_train = downsample(features_train, target_train, 0.2)\n",
    "print(target_downsampled_train.value_counts(normalize = 0))\n",
    "print(target_downsampled_train.shape)"
   ]
  },
  {
   "cell_type": "code",
   "execution_count": 48,
   "metadata": {},
   "outputs": [
    {
     "data": {
      "text/plain": [
       "<AxesSubplot:ylabel='Frequency'>"
      ]
     },
     "execution_count": 48,
     "metadata": {},
     "output_type": "execute_result"
    },
    {
     "data": {
      "image/png": "[encoded data removed]",
      "text/plain": [
       "<Figure size 144x144 with 1 Axes>"
      ]
     },
     "metadata": {
      "needs_background": "light"
     },
     "output_type": "display_data"
    }
   ],
   "source": [
    "#Ну почти идеально и выигрышнее выглядит upsample с ним и будем работать\n",
    "target_train_upsampled.plot(kind ='hist', bins=3, figsize=(2,2))"
   ]
  },
  {
   "cell_type": "markdown",
   "metadata": {},
   "source": [
    "### Обучение моделей на сбалансированной выборке"
   ]
  },
  {
   "cell_type": "code",
   "execution_count": 49,
   "metadata": {},
   "outputs": [
    {
     "name": "stdout",
     "output_type": "stream",
     "text": [
      "Точность:дерево решений 0.788 случайный лес  0.857 логистческая регрессия 0.8025\n"
     ]
    }
   ],
   "source": [
    "#Точность моделей на выборке с дисбалансом\n",
    "all_models_accuracy(features_train, target_train, features_valid, target_valid)"
   ]
  },
  {
   "cell_type": "code",
   "execution_count": 50,
   "metadata": {},
   "outputs": [
    {
     "name": "stdout",
     "output_type": "stream",
     "text": [
      "Точность:дерево решений 0.7805 случайный лес  0.813 логистческая регрессия 0.701\n"
     ]
    }
   ],
   "source": [
    "#Точность моделей на сбалансированной выборке\n",
    "all_models_accuracy(features_train_upsampled, target_train_upsampled, features_valid, target_valid)"
   ]
  },
  {
   "cell_type": "markdown",
   "metadata": {},
   "source": [
    "**Вывод** Точность сильно не изменилась. Проверим качество ответов."
   ]
  },
  {
   "cell_type": "code",
   "execution_count": 51,
   "metadata": {},
   "outputs": [
    {
     "name": "stdout",
     "output_type": "stream",
     "text": [
      "Полнота 0.45454545454545453\n",
      "Точность 0.47381546134663344\n",
      "F1-мера 0.46398046398046394\n"
     ]
    }
   ],
   "source": [
    "#Решающее дерево\n",
    "model_DTC_upsampled = DecisionTreeClassifier(random_state=1515)\n",
    "model_DTC_upsampled.fit(features_train_upsampled, target_train_upsampled)\n",
    "DTC_prediction_upsampled = model_DTC_upsampled.predict(features_valid)\n",
    "rec_prec_f1(target_valid, DTC_prediction_upsampled)"
   ]
  },
  {
   "cell_type": "code",
   "execution_count": 52,
   "metadata": {},
   "outputs": [
    {
     "data": {
      "text/plain": [
       "0.6605849902310079"
      ]
     },
     "execution_count": 52,
     "metadata": {},
     "output_type": "execute_result"
    }
   ],
   "source": [
    "#Расчитаем auc_roc для DTC на сбалансированной выборке\n",
    "DTC_upsampled_valid = model_DTC_upsampled.predict_proba(features_valid)[:, 1]\n",
    "\n",
    "auc_roc_DTC = roc_auc_score(target_valid, DTC_upsampled_valid)\n",
    "\n",
    "auc_roc_DTC"
   ]
  },
  {
   "cell_type": "code",
   "execution_count": 53,
   "metadata": {},
   "outputs": [
    {
     "name": "stdout",
     "output_type": "stream",
     "text": [
      "Полнота 0.722488038277512\n",
      "Точность 0.5392857142857143\n",
      "F1-мера 0.6175869120654396\n"
     ]
    }
   ],
   "source": [
    "#Случайный лес\n",
    "model_RFC_upsampled = RandomForestClassifier(max_depth=7, n_estimators=43, min_samples_leaf=3, random_state=1515)\n",
    "model_RFC_upsampled.fit(features_train_upsampled, target_train_upsampled)\n",
    "RFC_prediction_upsampled = model_RFC_upsampled.predict(features_valid)\n",
    "rec_prec_f1(target_valid, RFC_prediction_upsampled)"
   ]
  },
  {
   "cell_type": "code",
   "execution_count": 54,
   "metadata": {},
   "outputs": [
    {
     "data": {
      "text/plain": [
       "0.8527604207622839"
      ]
     },
     "execution_count": 54,
     "metadata": {},
     "output_type": "execute_result"
    }
   ],
   "source": [
    "#Расчитаем auc_roc для RFC на сбалансированной выборке\n",
    "RFC_upsampled_valid = model_RFC_upsampled.predict_proba(features_valid)[:, 1]\n",
    "\n",
    "auc_roc_RFC = roc_auc_score(target_valid, RFC_upsampled_valid)\n",
    "\n",
    "auc_roc_RFC"
   ]
  },
  {
   "cell_type": "code",
   "execution_count": 55,
   "metadata": {},
   "outputs": [
    {
     "name": "stdout",
     "output_type": "stream",
     "text": [
      "Полнота 0.6842105263157895\n",
      "Точность 0.3803191489361702\n",
      "F1-мера 0.4888888888888888\n"
     ]
    }
   ],
   "source": [
    "#Логистическая регрессия\n",
    "model_LgR_upsampled = LogisticRegression(solver = 'liblinear', class_weight='balanced')\n",
    "model_LgR_upsampled.fit(features_train_upsampled, target_train_upsampled)\n",
    "LgR_prediction_upsampled = model_LgR_upsampled.predict(features_valid)\n",
    "rec_prec_f1(target_valid, LgR_prediction_upsampled)"
   ]
  },
  {
   "cell_type": "code",
   "execution_count": 56,
   "metadata": {},
   "outputs": [
    {
     "data": {
      "text/plain": [
       "0.7634815115020053"
      ]
     },
     "execution_count": 56,
     "metadata": {},
     "output_type": "execute_result"
    }
   ],
   "source": [
    "#Расчитаем auc_roc для LgR на сбалансированной выборке\n",
    "LgR_upsampled_valid = model_LgR_upsampled.predict_proba(features_valid)[:, 1]\n",
    "\n",
    "auc_roc_LgR = roc_auc_score(target_valid, LgR_upsampled_valid)\n",
    "\n",
    "auc_roc_LgR"
   ]
  },
  {
   "cell_type": "markdown",
   "metadata": {},
   "source": [
    "**Вывод**\n",
    "\n",
    "Показаели всех моделей улучшились.\n",
    "\n",
    "Лучшие результаты показывает алгоритм случайный лес (RandomForestClassifier). На валидационной выборке RandomForestClassifier уже показывает резульаты F1 меры = 0.61, что выше целевого целевого значения."
   ]
  },
  {
   "cell_type": "markdown",
   "metadata": {},
   "source": [
    "## Тестирование модели"
   ]
  },
  {
   "cell_type": "code",
   "execution_count": 57,
   "metadata": {},
   "outputs": [
    {
     "data": {
      "text/plain": [
       "RandomForestClassifier(class_weight='balanced', max_depth=7, n_estimators=43,\n",
       "                       random_state=12345)"
      ]
     },
     "execution_count": 57,
     "metadata": {},
     "output_type": "execute_result"
    }
   ],
   "source": [
    "#Обучим финальную модель\n",
    "model_RFC_final = RandomForestClassifier(\n",
    "    bootstrap = True, class_weight = 'balanced', max_depth= 7,  n_estimators = 43, random_state=12345)\n",
    "model_RFC_final.fit(features_train_upsampled, target_train_upsampled)"
   ]
  },
  {
   "cell_type": "code",
   "execution_count": 58,
   "metadata": {
    "scrolled": true
   },
   "outputs": [
    {
     "name": "stdout",
     "output_type": "stream",
     "text": [
      "Полнота 0.7210401891252955\n",
      "Точность 0.5152027027027027\n",
      "F1-мера 0.6009852216748769\n"
     ]
    }
   ],
   "source": [
    "model_RFC_final_prediction = model_RFC_final.predict(features_test)\n",
    "rec_prec_f1(target_test, model_RFC_final_prediction)"
   ]
  },
  {
   "cell_type": "code",
   "execution_count": 59,
   "metadata": {},
   "outputs": [
    {
     "data": {
      "text/plain": [
       "0.8493323799115837"
      ]
     },
     "execution_count": 59,
     "metadata": {},
     "output_type": "execute_result"
    }
   ],
   "source": [
    "#Расчитаем auc_roc для RFC на тестовой выборке\n",
    "model_RFC_final_valid = model_RFC_final.predict_proba(features_test)[:, 1]\n",
    "\n",
    "auc_roc_RFC = roc_auc_score(target_test, model_RFC_final_valid)\n",
    "\n",
    "auc_roc_RFC"
   ]
  },
  {
   "cell_type": "code",
   "execution_count": 60,
   "metadata": {},
   "outputs": [
    {
     "data": {
      "text/plain": [
       "0    2000\n",
       "dtype: int64"
      ]
     },
     "execution_count": 60,
     "metadata": {},
     "output_type": "execute_result"
    }
   ],
   "source": [
    "#Создаем константную модель\n",
    "target_predict_constant = pd.Series([0]*len(target_test))\n",
    "target_predict_constant.value_counts()"
   ]
  },
  {
   "cell_type": "code",
   "execution_count": 61,
   "metadata": {},
   "outputs": [
    {
     "name": "stdout",
     "output_type": "stream",
     "text": [
      "accuracy_score константой модели: 0.791\n",
      "accuracy_score финальной модели: 0.7975\n",
      "AUC-ROC константой модели: 0.5\n",
      "AUC-ROC финальной модели: 0.8493323799115837\n"
     ]
    }
   ],
   "source": [
    "#Сравним показатель точности (accuracy_score) константной модели и финальной\n",
    "print('accuracy_score константой модели:', accuracy_score(target_valid, target_predict_constant))\n",
    "print('accuracy_score финальной модели:', accuracy_score(target_test, model_RFC_final_prediction))\n",
    "#Дополнительно сравним AUC-ROC — единственный параметр подающийся сравнению, потому что константная подель содержит только негативные ответы\n",
    "print('AUC-ROC константой модели:', roc_auc_score(target_valid, target_predict_constant))\n",
    "print('AUC-ROC финальной модели:', roc_auc_score(target_test, model_RFC_final_valid))"
   ]
  },
  {
   "cell_type": "markdown",
   "metadata": {},
   "source": [
    "Финальная модель показывает результаты лучше, чем константная модель — модель можно считать адекватной."
   ]
  },
  {
   "cell_type": "markdown",
   "metadata": {},
   "source": [
    "![](https://media1.giphy.com/media/dWmXB8yN4QlzO/giphy.gif?cid=ecf05e4796t8rlzd7j9boom7zqaef2ijoqwkvvj094uhhx07&rid=giphy.gif&ct=g)</div>"
   ]
  },
  {
   "cell_type": "markdown",
   "metadata": {},
   "source": [
    "## Выводы\n",
    "\n",
    "- В первоначальные данных наблюдался значительный дисбаланс (80% ответов целевого признака были негативными и только 20% позитивными), из-за чего обученная на этих данных модель не проходила проверку на адекватность. Все модели не первоначальных данных характеризовались высокой степенью ошибок и низким качеством взвешенной величины (F1) — модели показывали низкие результаты точности и полноты.\n",
    "\n",
    "- Мы устранили дисбаланс классов в обучающей выборки методом upsampling — увеличили количество значений позитивного класса в 4 раза. Так мы достигли баланса классо в обучеющей выборки: 0 - 0.501043 1 - 0.498957\n",
    "\n",
    "- Разобрали несколько вариантов борьбы с дисбалансом upsampling и downsampling\n",
    "\n",
    "- На новых данных все модели показали результат выше, чем на несбалансированной выборке. Лучшие показатели были у модели случайного леса:\n",
    "    - Полнота 0.722488038277512\n",
    "    - Точность 0.5392857142857143\n",
    "    - F1-мера 0.6175869120654396\n",
    "    - AUC-ROC 0.8527604207622839\n",
    "\n",
    "- Финальная модель прошла проверку на адекватность в сравнении с контантной моделью: accuracy_score константой модели: 0.796\n",
    "    - aaccuracy_score константой модели: 0.791\n",
    "    - accuracy_score финальной модели: 0.7975\n",
    "    - AUC-ROC константой модели: 0.5\n",
    "    - AUC-ROC финальной модели: 0.8493323799115837"
   ]
  },
  {
   "cell_type": "markdown",
   "metadata": {},
   "source": [
    "## Чек-лист готовности проекта"
   ]
  },
  {
   "cell_type": "markdown",
   "metadata": {},
   "source": [
    "Поставьте 'x' в выполненных пунктах. Далее нажмите Shift+Enter."
   ]
  },
  {
   "cell_type": "markdown",
   "metadata": {},
   "source": [
    "- [x]  Jupyter Notebook открыт\n",
    "- [x]  Весь код выполняется без ошибок\n",
    "- [x]  Ячейки с кодом расположены в порядке исполнения\n",
    "- [x]  Выполнен шаг 1: данные подготовлены\n",
    "- [x]  Выполнен шаг 2: задача исследована\n",
    "    - [x]  Исследован баланс классов\n",
    "    - [x]  Изучены модели без учёта дисбаланса\n",
    "    - [x]  Написаны выводы по результатам исследования\n",
    "- [x]  Выполнен шаг 3: учтён дисбаланс\n",
    "    - [x]  Применено несколько способов борьбы с дисбалансом\n",
    "    - [x]  Написаны выводы по результатам исследования\n",
    "- [x]  Выполнен шаг 4: проведено тестирование\n",
    "- [x]  Удалось достичь *F1*-меры не менее 0.59\n",
    "- [x]  Исследована метрика *AUC-ROC*"
   ]
  }
 ],
 "metadata": {
  "ExecuteTimeLog": [
   {
    "duration": 52,
    "start_time": "2022-03-18T17:25:59.833Z"
   },
   {
    "duration": 1415,
    "start_time": "2022-03-18T17:26:07.431Z"
   },
   {
    "duration": 182,
    "start_time": "2022-03-18T17:26:08.849Z"
   },
   {
    "duration": 27,
    "start_time": "2022-03-18T17:27:09.204Z"
   },
   {
    "duration": 21,
    "start_time": "2022-03-18T17:27:17.760Z"
   },
   {
    "duration": 15,
    "start_time": "2022-03-18T17:32:54.882Z"
   },
   {
    "duration": 58,
    "start_time": "2022-03-18T17:33:09.551Z"
   },
   {
    "duration": 5,
    "start_time": "2022-03-18T17:34:12.899Z"
   },
   {
    "duration": 14,
    "start_time": "2022-03-18T17:34:18.522Z"
   },
   {
    "duration": 16,
    "start_time": "2022-03-18T17:34:34.382Z"
   },
   {
    "duration": 12,
    "start_time": "2022-03-18T17:41:06.120Z"
   },
   {
    "duration": 6,
    "start_time": "2022-03-18T17:41:11.834Z"
   },
   {
    "duration": 16,
    "start_time": "2022-03-18T17:43:33.271Z"
   },
   {
    "duration": 12,
    "start_time": "2022-03-18T17:43:48.666Z"
   },
   {
    "duration": 5,
    "start_time": "2022-03-18T17:43:52.053Z"
   },
   {
    "duration": 10,
    "start_time": "2022-03-18T17:44:37.002Z"
   },
   {
    "duration": 30,
    "start_time": "2022-03-18T17:44:45.995Z"
   },
   {
    "duration": 5,
    "start_time": "2022-03-18T17:45:45.224Z"
   },
   {
    "duration": 5,
    "start_time": "2022-03-18T17:46:01.095Z"
   },
   {
    "duration": 13,
    "start_time": "2022-03-18T17:46:14.987Z"
   },
   {
    "duration": 5,
    "start_time": "2022-03-18T17:46:15.854Z"
   },
   {
    "duration": 1668,
    "start_time": "2022-03-18T17:46:31.551Z"
   },
   {
    "duration": 38,
    "start_time": "2022-03-18T17:46:33.222Z"
   },
   {
    "duration": 39,
    "start_time": "2022-03-18T17:46:33.263Z"
   },
   {
    "duration": 20,
    "start_time": "2022-03-18T17:46:33.305Z"
   },
   {
    "duration": 80,
    "start_time": "2022-03-18T17:46:33.328Z"
   },
   {
    "duration": 17,
    "start_time": "2022-03-18T17:46:33.411Z"
   },
   {
    "duration": 7,
    "start_time": "2022-03-18T17:46:33.430Z"
   },
   {
    "duration": 26,
    "start_time": "2022-03-18T17:46:33.440Z"
   },
   {
    "duration": 34,
    "start_time": "2022-03-18T17:46:33.469Z"
   },
   {
    "duration": 34,
    "start_time": "2022-03-18T17:46:33.505Z"
   },
   {
    "duration": 19,
    "start_time": "2022-03-18T17:46:33.542Z"
   },
   {
    "duration": 8,
    "start_time": "2022-03-18T17:46:33.564Z"
   },
   {
    "duration": 168,
    "start_time": "2022-03-18T17:49:32.715Z"
   },
   {
    "duration": 8,
    "start_time": "2022-03-18T17:49:40.388Z"
   },
   {
    "duration": 10,
    "start_time": "2022-03-18T17:50:15.829Z"
   },
   {
    "duration": 8,
    "start_time": "2022-03-18T17:51:26.629Z"
   },
   {
    "duration": 9,
    "start_time": "2022-03-18T17:51:33.215Z"
   },
   {
    "duration": 8,
    "start_time": "2022-03-18T17:52:39.767Z"
   },
   {
    "duration": 7,
    "start_time": "2022-03-18T17:52:40.159Z"
   },
   {
    "duration": 4,
    "start_time": "2022-03-18T17:54:11.167Z"
   },
   {
    "duration": 1412,
    "start_time": "2022-03-18T17:54:15.357Z"
   },
   {
    "duration": 32,
    "start_time": "2022-03-18T17:54:16.771Z"
   },
   {
    "duration": 21,
    "start_time": "2022-03-18T17:54:16.807Z"
   },
   {
    "duration": 14,
    "start_time": "2022-03-18T17:54:16.830Z"
   },
   {
    "duration": 61,
    "start_time": "2022-03-18T17:54:16.846Z"
   },
   {
    "duration": 14,
    "start_time": "2022-03-18T17:54:16.909Z"
   },
   {
    "duration": 6,
    "start_time": "2022-03-18T17:54:16.925Z"
   },
   {
    "duration": 21,
    "start_time": "2022-03-18T17:54:16.932Z"
   },
   {
    "duration": 16,
    "start_time": "2022-03-18T17:54:16.955Z"
   },
   {
    "duration": 44,
    "start_time": "2022-03-18T17:54:16.973Z"
   },
   {
    "duration": 4,
    "start_time": "2022-03-18T17:54:17.019Z"
   },
   {
    "duration": 8,
    "start_time": "2022-03-18T17:54:17.025Z"
   },
   {
    "duration": 10,
    "start_time": "2022-03-18T17:54:17.035Z"
   },
   {
    "duration": 12,
    "start_time": "2022-03-18T17:54:17.047Z"
   },
   {
    "duration": 12,
    "start_time": "2022-03-18T17:54:42.006Z"
   },
   {
    "duration": 3,
    "start_time": "2022-03-18T17:54:55.728Z"
   },
   {
    "duration": 3,
    "start_time": "2022-03-18T17:55:47.933Z"
   },
   {
    "duration": 3,
    "start_time": "2022-03-18T17:55:54.883Z"
   },
   {
    "duration": 11,
    "start_time": "2022-03-18T17:56:12.202Z"
   },
   {
    "duration": 23,
    "start_time": "2022-03-18T17:56:29.119Z"
   },
   {
    "duration": 22,
    "start_time": "2022-03-18T17:57:10.323Z"
   },
   {
    "duration": 22,
    "start_time": "2022-03-18T17:57:39.095Z"
   },
   {
    "duration": 30,
    "start_time": "2022-03-18T17:57:44.210Z"
   },
   {
    "duration": 25,
    "start_time": "2022-03-18T17:57:57.362Z"
   },
   {
    "duration": 25,
    "start_time": "2022-03-18T17:58:14.296Z"
   },
   {
    "duration": 4,
    "start_time": "2022-03-18T18:00:12.793Z"
   },
   {
    "duration": 1812,
    "start_time": "2022-03-18T18:00:16.611Z"
   },
   {
    "duration": 26,
    "start_time": "2022-03-18T18:00:18.426Z"
   },
   {
    "duration": 23,
    "start_time": "2022-03-18T18:00:18.454Z"
   },
   {
    "duration": 28,
    "start_time": "2022-03-18T18:00:18.479Z"
   },
   {
    "duration": 41,
    "start_time": "2022-03-18T18:00:18.509Z"
   },
   {
    "duration": 13,
    "start_time": "2022-03-18T18:00:18.551Z"
   },
   {
    "duration": 5,
    "start_time": "2022-03-18T18:00:18.567Z"
   },
   {
    "duration": 16,
    "start_time": "2022-03-18T18:00:18.602Z"
   },
   {
    "duration": 10,
    "start_time": "2022-03-18T18:00:18.620Z"
   },
   {
    "duration": 24,
    "start_time": "2022-03-18T18:00:18.632Z"
   },
   {
    "duration": 5,
    "start_time": "2022-03-18T18:00:18.658Z"
   },
   {
    "duration": 36,
    "start_time": "2022-03-18T18:00:18.665Z"
   },
   {
    "duration": 9,
    "start_time": "2022-03-18T18:00:18.703Z"
   },
   {
    "duration": 10,
    "start_time": "2022-03-18T18:00:18.715Z"
   },
   {
    "duration": 18,
    "start_time": "2022-03-18T18:00:18.727Z"
   },
   {
    "duration": 6,
    "start_time": "2022-03-18T18:00:18.747Z"
   },
   {
    "duration": 17,
    "start_time": "2022-03-18T18:00:18.755Z"
   },
   {
    "duration": 40,
    "start_time": "2022-03-18T18:00:18.774Z"
   },
   {
    "duration": 18,
    "start_time": "2022-03-18T18:00:18.816Z"
   },
   {
    "duration": 18,
    "start_time": "2022-03-18T18:00:18.836Z"
   },
   {
    "duration": 4,
    "start_time": "2022-03-18T18:01:20.403Z"
   },
   {
    "duration": 1342,
    "start_time": "2022-03-18T18:01:25.035Z"
   },
   {
    "duration": 26,
    "start_time": "2022-03-18T18:01:26.380Z"
   },
   {
    "duration": 20,
    "start_time": "2022-03-18T18:01:26.408Z"
   },
   {
    "duration": 14,
    "start_time": "2022-03-18T18:01:26.430Z"
   },
   {
    "duration": 67,
    "start_time": "2022-03-18T18:01:26.446Z"
   },
   {
    "duration": 12,
    "start_time": "2022-03-18T18:01:26.515Z"
   },
   {
    "duration": 5,
    "start_time": "2022-03-18T18:01:26.528Z"
   },
   {
    "duration": 18,
    "start_time": "2022-03-18T18:01:26.535Z"
   },
   {
    "duration": 7,
    "start_time": "2022-03-18T18:01:26.555Z"
   },
   {
    "duration": 54,
    "start_time": "2022-03-18T18:01:26.564Z"
   },
   {
    "duration": 4,
    "start_time": "2022-03-18T18:01:26.620Z"
   },
   {
    "duration": 11,
    "start_time": "2022-03-18T18:01:26.626Z"
   },
   {
    "duration": 15,
    "start_time": "2022-03-18T18:01:26.638Z"
   },
   {
    "duration": 8,
    "start_time": "2022-03-18T18:01:26.656Z"
   },
   {
    "duration": 17,
    "start_time": "2022-03-18T18:01:26.666Z"
   },
   {
    "duration": 6,
    "start_time": "2022-03-18T18:01:26.702Z"
   },
   {
    "duration": 14,
    "start_time": "2022-03-18T18:01:26.710Z"
   },
   {
    "duration": 22,
    "start_time": "2022-03-18T18:01:26.726Z"
   },
   {
    "duration": 20,
    "start_time": "2022-03-18T18:01:26.750Z"
   },
   {
    "duration": 45,
    "start_time": "2022-03-18T18:01:26.772Z"
   },
   {
    "duration": 4,
    "start_time": "2022-03-18T18:02:59.499Z"
   },
   {
    "duration": 103,
    "start_time": "2022-03-18T18:03:28.372Z"
   },
   {
    "duration": 22,
    "start_time": "2022-03-18T18:03:56.667Z"
   },
   {
    "duration": 4,
    "start_time": "2022-03-18T18:04:04.053Z"
   },
   {
    "duration": 5,
    "start_time": "2022-03-18T18:04:09.023Z"
   },
   {
    "duration": 19,
    "start_time": "2022-03-18T18:04:09.483Z"
   },
   {
    "duration": 1367,
    "start_time": "2022-03-18T18:04:20.315Z"
   },
   {
    "duration": 34,
    "start_time": "2022-03-18T18:04:21.685Z"
   },
   {
    "duration": 32,
    "start_time": "2022-03-18T18:04:21.721Z"
   },
   {
    "duration": 24,
    "start_time": "2022-03-18T18:04:21.755Z"
   },
   {
    "duration": 64,
    "start_time": "2022-03-18T18:04:21.782Z"
   },
   {
    "duration": 17,
    "start_time": "2022-03-18T18:04:21.848Z"
   },
   {
    "duration": 8,
    "start_time": "2022-03-18T18:04:21.867Z"
   },
   {
    "duration": 37,
    "start_time": "2022-03-18T18:04:21.876Z"
   },
   {
    "duration": 35,
    "start_time": "2022-03-18T18:04:21.915Z"
   },
   {
    "duration": 40,
    "start_time": "2022-03-18T18:04:21.952Z"
   },
   {
    "duration": 9,
    "start_time": "2022-03-18T18:04:21.994Z"
   },
   {
    "duration": 34,
    "start_time": "2022-03-18T18:04:22.005Z"
   },
   {
    "duration": 42,
    "start_time": "2022-03-18T18:04:22.041Z"
   },
   {
    "duration": 36,
    "start_time": "2022-03-18T18:04:22.087Z"
   },
   {
    "duration": 35,
    "start_time": "2022-03-18T18:04:22.126Z"
   },
   {
    "duration": 33,
    "start_time": "2022-03-18T18:04:22.162Z"
   },
   {
    "duration": 33,
    "start_time": "2022-03-18T18:04:22.197Z"
   },
   {
    "duration": 37,
    "start_time": "2022-03-18T18:04:22.232Z"
   },
   {
    "duration": 22,
    "start_time": "2022-03-18T18:04:22.271Z"
   },
   {
    "duration": 94,
    "start_time": "2022-03-18T18:04:22.295Z"
   },
   {
    "duration": 5,
    "start_time": "2022-03-18T18:04:22.391Z"
   },
   {
    "duration": 119,
    "start_time": "2022-03-18T18:04:22.398Z"
   },
   {
    "duration": 6,
    "start_time": "2022-03-18T18:06:17.647Z"
   },
   {
    "duration": 20,
    "start_time": "2022-03-18T18:06:18.353Z"
   },
   {
    "duration": 19,
    "start_time": "2022-03-18T18:07:27.621Z"
   },
   {
    "duration": 17,
    "start_time": "2022-03-18T18:08:08.857Z"
   },
   {
    "duration": 18,
    "start_time": "2022-03-18T18:08:09.592Z"
   },
   {
    "duration": 11,
    "start_time": "2022-03-18T18:14:40.378Z"
   },
   {
    "duration": 17,
    "start_time": "2022-03-18T18:15:16.545Z"
   },
   {
    "duration": 18,
    "start_time": "2022-03-18T18:15:35.570Z"
   },
   {
    "duration": 1347,
    "start_time": "2022-03-18T18:16:33.989Z"
   },
   {
    "duration": 28,
    "start_time": "2022-03-18T18:16:35.339Z"
   },
   {
    "duration": 21,
    "start_time": "2022-03-18T18:16:35.369Z"
   },
   {
    "duration": 20,
    "start_time": "2022-03-18T18:16:35.392Z"
   },
   {
    "duration": 40,
    "start_time": "2022-03-18T18:16:35.415Z"
   },
   {
    "duration": 13,
    "start_time": "2022-03-18T18:16:35.458Z"
   },
   {
    "duration": 30,
    "start_time": "2022-03-18T18:16:35.473Z"
   },
   {
    "duration": 47,
    "start_time": "2022-03-18T18:16:35.505Z"
   },
   {
    "duration": 17,
    "start_time": "2022-03-18T18:16:35.554Z"
   },
   {
    "duration": 24,
    "start_time": "2022-03-18T18:16:35.572Z"
   },
   {
    "duration": 29,
    "start_time": "2022-03-18T18:16:35.597Z"
   },
   {
    "duration": 12,
    "start_time": "2022-03-18T18:16:35.627Z"
   },
   {
    "duration": 7,
    "start_time": "2022-03-18T18:16:35.641Z"
   },
   {
    "duration": 6,
    "start_time": "2022-03-18T18:16:35.651Z"
   },
   {
    "duration": 13,
    "start_time": "2022-03-18T18:16:35.658Z"
   },
   {
    "duration": 6,
    "start_time": "2022-03-18T18:16:35.673Z"
   },
   {
    "duration": 17,
    "start_time": "2022-03-18T18:16:35.681Z"
   },
   {
    "duration": 40,
    "start_time": "2022-03-18T18:16:35.700Z"
   },
   {
    "duration": 20,
    "start_time": "2022-03-18T18:16:35.742Z"
   },
   {
    "duration": 19,
    "start_time": "2022-03-18T18:16:35.763Z"
   },
   {
    "duration": 98,
    "start_time": "2022-03-18T18:17:23.029Z"
   },
   {
    "duration": 20,
    "start_time": "2022-03-18T18:17:49.165Z"
   },
   {
    "duration": 17,
    "start_time": "2022-03-18T18:18:00.949Z"
   },
   {
    "duration": 17,
    "start_time": "2022-03-18T18:18:04.633Z"
   },
   {
    "duration": 16,
    "start_time": "2022-03-18T18:18:06.749Z"
   },
   {
    "duration": 4,
    "start_time": "2022-03-18T18:19:28.010Z"
   },
   {
    "duration": 1422,
    "start_time": "2022-03-18T18:19:31.821Z"
   },
   {
    "duration": 30,
    "start_time": "2022-03-18T18:19:33.246Z"
   },
   {
    "duration": 36,
    "start_time": "2022-03-18T18:19:33.281Z"
   },
   {
    "duration": 16,
    "start_time": "2022-03-18T18:19:33.321Z"
   },
   {
    "duration": 64,
    "start_time": "2022-03-18T18:19:33.339Z"
   },
   {
    "duration": 14,
    "start_time": "2022-03-18T18:19:33.405Z"
   },
   {
    "duration": 3,
    "start_time": "2022-03-18T18:19:33.421Z"
   },
   {
    "duration": 16,
    "start_time": "2022-03-18T18:19:33.426Z"
   },
   {
    "duration": 18,
    "start_time": "2022-03-18T18:19:33.444Z"
   },
   {
    "duration": 7,
    "start_time": "2022-03-18T18:19:33.465Z"
   },
   {
    "duration": 22,
    "start_time": "2022-03-18T18:19:33.500Z"
   },
   {
    "duration": 4,
    "start_time": "2022-03-18T18:19:33.524Z"
   },
   {
    "duration": 37,
    "start_time": "2022-03-18T18:19:33.531Z"
   },
   {
    "duration": 8,
    "start_time": "2022-03-18T18:19:33.570Z"
   },
   {
    "duration": 11,
    "start_time": "2022-03-18T18:19:33.580Z"
   },
   {
    "duration": 17,
    "start_time": "2022-03-18T18:19:33.593Z"
   },
   {
    "duration": 4,
    "start_time": "2022-03-18T18:19:33.611Z"
   },
   {
    "duration": 23,
    "start_time": "2022-03-18T18:19:33.617Z"
   },
   {
    "duration": 29,
    "start_time": "2022-03-18T18:19:33.642Z"
   },
   {
    "duration": 33,
    "start_time": "2022-03-18T18:19:33.673Z"
   },
   {
    "duration": 20,
    "start_time": "2022-03-18T18:19:33.708Z"
   },
   {
    "duration": 148,
    "start_time": "2022-03-18T18:19:33.730Z"
   },
   {
    "duration": 37,
    "start_time": "2022-03-18T18:19:42.264Z"
   },
   {
    "duration": 4,
    "start_time": "2022-03-18T18:20:35.935Z"
   },
   {
    "duration": 859,
    "start_time": "2022-03-18T18:20:45.048Z"
   },
   {
    "duration": 5,
    "start_time": "2022-03-18T18:20:59.994Z"
   },
   {
    "duration": 725,
    "start_time": "2022-03-18T18:21:01.287Z"
   },
   {
    "duration": 4,
    "start_time": "2022-03-18T18:21:15.435Z"
   },
   {
    "duration": 716,
    "start_time": "2022-03-18T18:21:15.937Z"
   },
   {
    "duration": 10,
    "start_time": "2022-03-18T18:21:45.956Z"
   },
   {
    "duration": 7,
    "start_time": "2022-03-18T18:22:12.785Z"
   },
   {
    "duration": 7,
    "start_time": "2022-03-18T18:22:28.484Z"
   },
   {
    "duration": 8,
    "start_time": "2022-03-18T18:22:37.080Z"
   },
   {
    "duration": 5,
    "start_time": "2022-03-18T18:25:55.845Z"
   },
   {
    "duration": 5,
    "start_time": "2022-03-18T18:26:11.049Z"
   },
   {
    "duration": 859,
    "start_time": "2022-03-18T18:26:15.843Z"
   },
   {
    "duration": 6,
    "start_time": "2022-03-18T18:26:44.517Z"
   },
   {
    "duration": 6,
    "start_time": "2022-03-18T18:27:05.988Z"
   },
   {
    "duration": 5,
    "start_time": "2022-03-18T18:27:07.812Z"
   },
   {
    "duration": 776,
    "start_time": "2022-03-18T18:27:08.228Z"
   },
   {
    "duration": 156,
    "start_time": "2022-03-18T18:27:15.182Z"
   },
   {
    "duration": 137,
    "start_time": "2022-03-18T18:27:17.043Z"
   },
   {
    "duration": 826,
    "start_time": "2022-03-18T18:27:17.776Z"
   },
   {
    "duration": 5,
    "start_time": "2022-03-18T18:28:04.951Z"
   },
   {
    "duration": 881,
    "start_time": "2022-03-18T18:28:05.725Z"
   },
   {
    "duration": 5,
    "start_time": "2022-03-18T18:28:43.158Z"
   },
   {
    "duration": 840,
    "start_time": "2022-03-18T18:28:43.762Z"
   },
   {
    "duration": 6,
    "start_time": "2022-03-18T18:28:55.428Z"
   },
   {
    "duration": 800,
    "start_time": "2022-03-18T18:28:56.011Z"
   },
   {
    "duration": 6,
    "start_time": "2022-03-18T18:29:11.991Z"
   },
   {
    "duration": 826,
    "start_time": "2022-03-18T18:29:12.577Z"
   },
   {
    "duration": 6,
    "start_time": "2022-03-18T18:29:33.802Z"
   },
   {
    "duration": 761,
    "start_time": "2022-03-18T18:29:34.443Z"
   },
   {
    "duration": 5,
    "start_time": "2022-03-18T18:29:41.947Z"
   },
   {
    "duration": 806,
    "start_time": "2022-03-18T18:29:42.396Z"
   },
   {
    "duration": 5,
    "start_time": "2022-03-18T18:30:08.398Z"
   },
   {
    "duration": 699,
    "start_time": "2022-03-18T18:30:09.005Z"
   },
   {
    "duration": 14,
    "start_time": "2022-03-18T18:31:17.930Z"
   },
   {
    "duration": 5,
    "start_time": "2022-03-18T18:31:29.748Z"
   },
   {
    "duration": 6,
    "start_time": "2022-03-18T18:31:41.452Z"
   },
   {
    "duration": 5,
    "start_time": "2022-03-18T18:39:03.715Z"
   },
   {
    "duration": 10,
    "start_time": "2022-03-18T18:41:31.046Z"
   },
   {
    "duration": 5,
    "start_time": "2022-03-18T18:41:49.621Z"
   },
   {
    "duration": 1292,
    "start_time": "2022-03-18T18:41:52.932Z"
   },
   {
    "duration": 32,
    "start_time": "2022-03-18T18:41:54.226Z"
   },
   {
    "duration": 21,
    "start_time": "2022-03-18T18:41:54.260Z"
   },
   {
    "duration": 34,
    "start_time": "2022-03-18T18:41:54.283Z"
   },
   {
    "duration": 54,
    "start_time": "2022-03-18T18:41:54.320Z"
   },
   {
    "duration": 12,
    "start_time": "2022-03-18T18:41:54.376Z"
   },
   {
    "duration": 24,
    "start_time": "2022-03-18T18:41:54.390Z"
   },
   {
    "duration": 26,
    "start_time": "2022-03-18T18:41:54.415Z"
   },
   {
    "duration": 41,
    "start_time": "2022-03-18T18:41:54.443Z"
   },
   {
    "duration": 22,
    "start_time": "2022-03-18T18:41:54.487Z"
   },
   {
    "duration": 42,
    "start_time": "2022-03-18T18:41:54.511Z"
   },
   {
    "duration": 18,
    "start_time": "2022-03-18T18:41:54.555Z"
   },
   {
    "duration": 22,
    "start_time": "2022-03-18T18:41:54.575Z"
   },
   {
    "duration": 32,
    "start_time": "2022-03-18T18:41:54.600Z"
   },
   {
    "duration": 29,
    "start_time": "2022-03-18T18:41:54.634Z"
   },
   {
    "duration": 27,
    "start_time": "2022-03-18T18:41:54.665Z"
   },
   {
    "duration": 38,
    "start_time": "2022-03-18T18:41:54.694Z"
   },
   {
    "duration": 29,
    "start_time": "2022-03-18T18:41:54.734Z"
   },
   {
    "duration": 46,
    "start_time": "2022-03-18T18:41:54.765Z"
   },
   {
    "duration": 27,
    "start_time": "2022-03-18T18:41:54.813Z"
   },
   {
    "duration": 32,
    "start_time": "2022-03-18T18:41:54.842Z"
   },
   {
    "duration": 10,
    "start_time": "2022-03-18T18:41:54.876Z"
   },
   {
    "duration": 920,
    "start_time": "2022-03-18T18:41:54.888Z"
   },
   {
    "duration": 10,
    "start_time": "2022-03-18T18:41:55.900Z"
   },
   {
    "duration": 21,
    "start_time": "2022-03-18T18:41:55.912Z"
   },
   {
    "duration": 122,
    "start_time": "2022-03-18T18:41:55.936Z"
   },
   {
    "duration": 121,
    "start_time": "2022-03-18T18:43:34.293Z"
   },
   {
    "duration": 310,
    "start_time": "2022-03-18T18:44:05.575Z"
   },
   {
    "duration": 33,
    "start_time": "2022-03-18T18:44:14.506Z"
   },
   {
    "duration": 35,
    "start_time": "2022-03-18T18:44:40.575Z"
   },
   {
    "duration": 8,
    "start_time": "2022-03-18T18:45:05.377Z"
   },
   {
    "duration": 7,
    "start_time": "2022-03-18T18:45:16.321Z"
   },
   {
    "duration": 7,
    "start_time": "2022-03-18T18:45:23.445Z"
   },
   {
    "duration": 40,
    "start_time": "2022-03-18T18:46:08.942Z"
   },
   {
    "duration": 44,
    "start_time": "2022-03-18T18:48:18.660Z"
   },
   {
    "duration": 4,
    "start_time": "2022-03-18T18:49:35.911Z"
   },
   {
    "duration": 13,
    "start_time": "2022-03-18T18:49:44.474Z"
   },
   {
    "duration": 745,
    "start_time": "2022-03-18T18:51:34.227Z"
   },
   {
    "duration": 11,
    "start_time": "2022-03-18T18:51:56.740Z"
   },
   {
    "duration": 11,
    "start_time": "2022-03-18T18:52:58.653Z"
   },
   {
    "duration": 28,
    "start_time": "2022-03-18T18:53:24.131Z"
   },
   {
    "duration": 17,
    "start_time": "2022-03-18T18:53:54.050Z"
   },
   {
    "duration": 12,
    "start_time": "2022-03-18T18:54:19.552Z"
   },
   {
    "duration": 1922,
    "start_time": "2022-03-18T18:54:44.413Z"
   },
   {
    "duration": 29,
    "start_time": "2022-03-18T18:54:46.337Z"
   },
   {
    "duration": 20,
    "start_time": "2022-03-18T18:54:46.367Z"
   },
   {
    "duration": 16,
    "start_time": "2022-03-18T18:54:46.402Z"
   },
   {
    "duration": 46,
    "start_time": "2022-03-18T18:54:46.423Z"
   },
   {
    "duration": 31,
    "start_time": "2022-03-18T18:54:46.471Z"
   },
   {
    "duration": 5,
    "start_time": "2022-03-18T18:54:46.504Z"
   },
   {
    "duration": 21,
    "start_time": "2022-03-18T18:54:46.510Z"
   },
   {
    "duration": 20,
    "start_time": "2022-03-18T18:54:46.532Z"
   },
   {
    "duration": 21,
    "start_time": "2022-03-18T18:54:46.554Z"
   },
   {
    "duration": 33,
    "start_time": "2022-03-18T18:54:46.578Z"
   },
   {
    "duration": 5,
    "start_time": "2022-03-18T18:54:46.613Z"
   },
   {
    "duration": 30,
    "start_time": "2022-03-18T18:54:46.620Z"
   },
   {
    "duration": 17,
    "start_time": "2022-03-18T18:54:46.653Z"
   },
   {
    "duration": 18,
    "start_time": "2022-03-18T18:54:46.671Z"
   },
   {
    "duration": 40,
    "start_time": "2022-03-18T18:54:46.691Z"
   },
   {
    "duration": 19,
    "start_time": "2022-03-18T18:54:46.733Z"
   },
   {
    "duration": 22,
    "start_time": "2022-03-18T18:54:46.754Z"
   },
   {
    "duration": 51,
    "start_time": "2022-03-18T18:54:46.778Z"
   },
   {
    "duration": 22,
    "start_time": "2022-03-18T18:54:46.831Z"
   },
   {
    "duration": 37,
    "start_time": "2022-03-18T18:54:46.855Z"
   },
   {
    "duration": 1007,
    "start_time": "2022-03-18T18:54:46.895Z"
   },
   {
    "duration": 112,
    "start_time": "2022-03-18T18:54:47.903Z"
   },
   {
    "duration": 232,
    "start_time": "2022-03-18T18:54:48.017Z"
   },
   {
    "duration": 7,
    "start_time": "2022-03-18T18:54:48.251Z"
   },
   {
    "duration": 9,
    "start_time": "2022-03-18T18:54:48.259Z"
   },
   {
    "duration": 9,
    "start_time": "2022-03-18T18:54:48.270Z"
   },
   {
    "duration": 44,
    "start_time": "2022-03-18T18:54:48.300Z"
   },
   {
    "duration": 4,
    "start_time": "2022-03-18T18:54:48.346Z"
   },
   {
    "duration": 17,
    "start_time": "2022-03-18T18:54:48.352Z"
   },
   {
    "duration": 791,
    "start_time": "2022-03-18T18:54:48.371Z"
   },
   {
    "duration": 11,
    "start_time": "2022-03-18T18:54:49.163Z"
   },
   {
    "duration": 129,
    "start_time": "2022-03-18T18:54:49.176Z"
   },
   {
    "duration": 95,
    "start_time": "2022-03-18T18:54:49.308Z"
   },
   {
    "duration": 261,
    "start_time": "2022-03-18T18:54:49.405Z"
   },
   {
    "duration": 122,
    "start_time": "2022-03-18T18:55:06.533Z"
   },
   {
    "duration": 290,
    "start_time": "2022-03-18T18:56:33.721Z"
   },
   {
    "duration": 2,
    "start_time": "2022-03-18T19:01:34.850Z"
   },
   {
    "duration": 6,
    "start_time": "2022-03-18T19:03:02.865Z"
   },
   {
    "duration": 25,
    "start_time": "2022-03-18T19:03:12.402Z"
   },
   {
    "duration": 9,
    "start_time": "2022-03-18T19:03:33.385Z"
   },
   {
    "duration": 13,
    "start_time": "2022-03-18T19:03:47.464Z"
   },
   {
    "duration": 88,
    "start_time": "2022-03-18T19:03:59.426Z"
   },
   {
    "duration": 114,
    "start_time": "2022-03-18T19:04:06.615Z"
   },
   {
    "duration": 163,
    "start_time": "2022-03-18T19:04:10.471Z"
   },
   {
    "duration": 91,
    "start_time": "2022-03-18T19:04:14.918Z"
   },
   {
    "duration": 117,
    "start_time": "2022-03-18T19:04:25.934Z"
   },
   {
    "duration": 3,
    "start_time": "2022-03-18T19:05:07.842Z"
   },
   {
    "duration": 113,
    "start_time": "2022-03-18T19:05:23.338Z"
   },
   {
    "duration": 5,
    "start_time": "2022-03-18T19:06:26.558Z"
   },
   {
    "duration": 956,
    "start_time": "2022-03-18T19:06:39.750Z"
   },
   {
    "duration": 1684,
    "start_time": "2022-03-18T19:06:55.149Z"
   },
   {
    "duration": 27,
    "start_time": "2022-03-18T19:06:56.836Z"
   },
   {
    "duration": 20,
    "start_time": "2022-03-18T19:06:56.866Z"
   },
   {
    "duration": 34,
    "start_time": "2022-03-18T19:06:56.888Z"
   },
   {
    "duration": 84,
    "start_time": "2022-03-18T19:06:56.925Z"
   },
   {
    "duration": 15,
    "start_time": "2022-03-18T19:06:57.011Z"
   },
   {
    "duration": 9,
    "start_time": "2022-03-18T19:06:57.028Z"
   },
   {
    "duration": 10,
    "start_time": "2022-03-18T19:06:57.039Z"
   },
   {
    "duration": 30,
    "start_time": "2022-03-18T19:06:57.051Z"
   },
   {
    "duration": 16,
    "start_time": "2022-03-18T19:06:57.083Z"
   },
   {
    "duration": 38,
    "start_time": "2022-03-18T19:06:57.101Z"
   },
   {
    "duration": 8,
    "start_time": "2022-03-18T19:06:57.141Z"
   },
   {
    "duration": 13,
    "start_time": "2022-03-18T19:06:57.151Z"
   },
   {
    "duration": 12,
    "start_time": "2022-03-18T19:06:57.168Z"
   },
   {
    "duration": 13,
    "start_time": "2022-03-18T19:06:57.182Z"
   },
   {
    "duration": 37,
    "start_time": "2022-03-18T19:06:57.197Z"
   },
   {
    "duration": 9,
    "start_time": "2022-03-18T19:06:57.236Z"
   },
   {
    "duration": 16,
    "start_time": "2022-03-18T19:06:57.247Z"
   },
   {
    "duration": 27,
    "start_time": "2022-03-18T19:06:57.264Z"
   },
   {
    "duration": 23,
    "start_time": "2022-03-18T19:06:57.293Z"
   },
   {
    "duration": 21,
    "start_time": "2022-03-18T19:06:57.318Z"
   },
   {
    "duration": 4,
    "start_time": "2022-03-18T19:06:57.341Z"
   },
   {
    "duration": 800,
    "start_time": "2022-03-18T19:06:57.347Z"
   },
   {
    "duration": 216,
    "start_time": "2022-03-18T19:06:58.207Z"
   },
   {
    "duration": 0,
    "start_time": "2022-03-18T19:06:58.426Z"
   },
   {
    "duration": 0,
    "start_time": "2022-03-18T19:06:58.428Z"
   },
   {
    "duration": 0,
    "start_time": "2022-03-18T19:06:58.429Z"
   },
   {
    "duration": 0,
    "start_time": "2022-03-18T19:06:58.431Z"
   },
   {
    "duration": 0,
    "start_time": "2022-03-18T19:06:58.432Z"
   },
   {
    "duration": 0,
    "start_time": "2022-03-18T19:06:58.434Z"
   },
   {
    "duration": 0,
    "start_time": "2022-03-18T19:06:58.435Z"
   },
   {
    "duration": 1,
    "start_time": "2022-03-18T19:06:58.436Z"
   },
   {
    "duration": 0,
    "start_time": "2022-03-18T19:06:58.438Z"
   },
   {
    "duration": 0,
    "start_time": "2022-03-18T19:06:58.439Z"
   },
   {
    "duration": 0,
    "start_time": "2022-03-18T19:06:58.440Z"
   },
   {
    "duration": 0,
    "start_time": "2022-03-18T19:06:58.442Z"
   },
   {
    "duration": 0,
    "start_time": "2022-03-18T19:06:58.443Z"
   },
   {
    "duration": 0,
    "start_time": "2022-03-18T19:06:58.445Z"
   },
   {
    "duration": 0,
    "start_time": "2022-03-18T19:06:58.447Z"
   },
   {
    "duration": 0,
    "start_time": "2022-03-18T19:06:58.448Z"
   },
   {
    "duration": 4,
    "start_time": "2022-03-18T19:07:45.158Z"
   },
   {
    "duration": 719,
    "start_time": "2022-03-18T19:07:46.234Z"
   },
   {
    "duration": 5,
    "start_time": "2022-03-18T19:07:56.952Z"
   },
   {
    "duration": 816,
    "start_time": "2022-03-18T19:07:57.623Z"
   },
   {
    "duration": 1676,
    "start_time": "2022-03-18T19:08:03.614Z"
   },
   {
    "duration": 34,
    "start_time": "2022-03-18T19:08:05.292Z"
   },
   {
    "duration": 21,
    "start_time": "2022-03-18T19:08:05.328Z"
   },
   {
    "duration": 15,
    "start_time": "2022-03-18T19:08:05.351Z"
   },
   {
    "duration": 79,
    "start_time": "2022-03-18T19:08:05.370Z"
   },
   {
    "duration": 12,
    "start_time": "2022-03-18T19:08:05.451Z"
   },
   {
    "duration": 7,
    "start_time": "2022-03-18T19:08:05.465Z"
   },
   {
    "duration": 14,
    "start_time": "2022-03-18T19:08:05.473Z"
   },
   {
    "duration": 29,
    "start_time": "2022-03-18T19:08:05.489Z"
   },
   {
    "duration": 12,
    "start_time": "2022-03-18T19:08:05.520Z"
   },
   {
    "duration": 25,
    "start_time": "2022-03-18T19:08:05.535Z"
   },
   {
    "duration": 4,
    "start_time": "2022-03-18T19:08:05.562Z"
   },
   {
    "duration": 35,
    "start_time": "2022-03-18T19:08:05.568Z"
   },
   {
    "duration": 10,
    "start_time": "2022-03-18T19:08:05.607Z"
   },
   {
    "duration": 15,
    "start_time": "2022-03-18T19:08:05.619Z"
   },
   {
    "duration": 20,
    "start_time": "2022-03-18T19:08:05.635Z"
   },
   {
    "duration": 10,
    "start_time": "2022-03-18T19:08:05.657Z"
   },
   {
    "duration": 13,
    "start_time": "2022-03-18T19:08:05.669Z"
   },
   {
    "duration": 44,
    "start_time": "2022-03-18T19:08:05.684Z"
   },
   {
    "duration": 21,
    "start_time": "2022-03-18T19:08:05.730Z"
   },
   {
    "duration": 20,
    "start_time": "2022-03-18T19:08:05.753Z"
   },
   {
    "duration": 27,
    "start_time": "2022-03-18T19:08:05.776Z"
   },
   {
    "duration": 825,
    "start_time": "2022-03-18T19:08:05.810Z"
   },
   {
    "duration": 279,
    "start_time": "2022-03-18T19:08:06.637Z"
   },
   {
    "duration": 0,
    "start_time": "2022-03-18T19:08:06.919Z"
   },
   {
    "duration": 0,
    "start_time": "2022-03-18T19:08:06.920Z"
   },
   {
    "duration": 0,
    "start_time": "2022-03-18T19:08:06.921Z"
   },
   {
    "duration": 0,
    "start_time": "2022-03-18T19:08:06.922Z"
   },
   {
    "duration": 0,
    "start_time": "2022-03-18T19:08:06.924Z"
   },
   {
    "duration": 0,
    "start_time": "2022-03-18T19:08:06.925Z"
   },
   {
    "duration": 0,
    "start_time": "2022-03-18T19:08:06.926Z"
   },
   {
    "duration": 0,
    "start_time": "2022-03-18T19:08:06.928Z"
   },
   {
    "duration": 0,
    "start_time": "2022-03-18T19:08:06.929Z"
   },
   {
    "duration": 0,
    "start_time": "2022-03-18T19:08:06.931Z"
   },
   {
    "duration": 0,
    "start_time": "2022-03-18T19:08:06.932Z"
   },
   {
    "duration": 0,
    "start_time": "2022-03-18T19:08:06.933Z"
   },
   {
    "duration": 0,
    "start_time": "2022-03-18T19:08:06.935Z"
   },
   {
    "duration": 0,
    "start_time": "2022-03-18T19:08:06.936Z"
   },
   {
    "duration": 0,
    "start_time": "2022-03-18T19:08:06.937Z"
   },
   {
    "duration": 0,
    "start_time": "2022-03-18T19:08:06.938Z"
   },
   {
    "duration": 5,
    "start_time": "2022-03-18T19:08:24.750Z"
   },
   {
    "duration": 236,
    "start_time": "2022-03-18T19:09:00.326Z"
   },
   {
    "duration": 1733,
    "start_time": "2022-03-18T19:09:30.364Z"
   },
   {
    "duration": 35,
    "start_time": "2022-03-18T19:09:32.099Z"
   },
   {
    "duration": 19,
    "start_time": "2022-03-18T19:09:32.139Z"
   },
   {
    "duration": 17,
    "start_time": "2022-03-18T19:09:32.162Z"
   },
   {
    "duration": 68,
    "start_time": "2022-03-18T19:09:32.180Z"
   },
   {
    "duration": 13,
    "start_time": "2022-03-18T19:09:32.250Z"
   },
   {
    "duration": 4,
    "start_time": "2022-03-18T19:09:32.265Z"
   },
   {
    "duration": 36,
    "start_time": "2022-03-18T19:09:32.271Z"
   },
   {
    "duration": 30,
    "start_time": "2022-03-18T19:09:32.310Z"
   },
   {
    "duration": 18,
    "start_time": "2022-03-18T19:09:32.342Z"
   },
   {
    "duration": 28,
    "start_time": "2022-03-18T19:09:32.362Z"
   },
   {
    "duration": 4,
    "start_time": "2022-03-18T19:09:32.393Z"
   },
   {
    "duration": 24,
    "start_time": "2022-03-18T19:09:32.401Z"
   },
   {
    "duration": 12,
    "start_time": "2022-03-18T19:09:32.427Z"
   },
   {
    "duration": 7,
    "start_time": "2022-03-18T19:09:32.441Z"
   },
   {
    "duration": 18,
    "start_time": "2022-03-18T19:09:32.450Z"
   },
   {
    "duration": 12,
    "start_time": "2022-03-18T19:09:32.471Z"
   },
   {
    "duration": 19,
    "start_time": "2022-03-18T19:09:32.485Z"
   },
   {
    "duration": 31,
    "start_time": "2022-03-18T19:09:32.507Z"
   },
   {
    "duration": 20,
    "start_time": "2022-03-18T19:09:32.540Z"
   },
   {
    "duration": 24,
    "start_time": "2022-03-18T19:09:32.562Z"
   },
   {
    "duration": 7,
    "start_time": "2022-03-18T19:09:32.601Z"
   },
   {
    "duration": 317,
    "start_time": "2022-03-18T19:09:32.612Z"
   },
   {
    "duration": 346,
    "start_time": "2022-03-18T19:09:33.002Z"
   },
   {
    "duration": 8,
    "start_time": "2022-03-18T19:09:33.349Z"
   },
   {
    "duration": 9,
    "start_time": "2022-03-18T19:09:33.359Z"
   },
   {
    "duration": 39,
    "start_time": "2022-03-18T19:09:33.370Z"
   },
   {
    "duration": 42,
    "start_time": "2022-03-18T19:09:33.413Z"
   },
   {
    "duration": 4,
    "start_time": "2022-03-18T19:09:33.458Z"
   },
   {
    "duration": 17,
    "start_time": "2022-03-18T19:09:33.465Z"
   },
   {
    "duration": 828,
    "start_time": "2022-03-18T19:09:33.484Z"
   },
   {
    "duration": 16,
    "start_time": "2022-03-18T19:09:34.314Z"
   },
   {
    "duration": 76,
    "start_time": "2022-03-18T19:09:34.333Z"
   },
   {
    "duration": 107,
    "start_time": "2022-03-18T19:09:34.412Z"
   },
   {
    "duration": 331,
    "start_time": "2022-03-18T19:09:34.524Z"
   },
   {
    "duration": 350,
    "start_time": "2022-03-18T19:09:34.857Z"
   },
   {
    "duration": 7,
    "start_time": "2022-03-18T19:09:35.209Z"
   },
   {
    "duration": 41,
    "start_time": "2022-03-18T19:09:35.220Z"
   },
   {
    "duration": 8,
    "start_time": "2022-03-18T19:09:35.263Z"
   },
   {
    "duration": 13,
    "start_time": "2022-03-18T19:09:35.275Z"
   },
   {
    "duration": 154,
    "start_time": "2022-03-18T19:09:35.290Z"
   },
   {
    "duration": 415,
    "start_time": "2022-03-18T19:10:09.188Z"
   },
   {
    "duration": 283,
    "start_time": "2022-03-18T19:10:31.534Z"
   },
   {
    "duration": 389,
    "start_time": "2022-03-18T19:10:32.315Z"
   },
   {
    "duration": 68,
    "start_time": "2022-03-18T19:11:41.325Z"
   },
   {
    "duration": 1182,
    "start_time": "2022-03-18T19:11:49.943Z"
   },
   {
    "duration": 139,
    "start_time": "2022-03-18T19:11:57.781Z"
   },
   {
    "duration": 144,
    "start_time": "2022-03-18T19:12:29.718Z"
   },
   {
    "duration": 322,
    "start_time": "2022-03-18T19:12:38.597Z"
   },
   {
    "duration": 50,
    "start_time": "2022-03-18T19:12:42.018Z"
   },
   {
    "duration": 317,
    "start_time": "2022-03-18T19:12:42.330Z"
   },
   {
    "duration": 67,
    "start_time": "2022-03-18T19:12:42.650Z"
   },
   {
    "duration": 3,
    "start_time": "2022-03-18T19:13:57.074Z"
   },
   {
    "duration": 125,
    "start_time": "2022-03-18T19:18:46.911Z"
   },
   {
    "duration": 305,
    "start_time": "2022-03-18T19:19:16.957Z"
   },
   {
    "duration": 26,
    "start_time": "2022-03-18T19:19:17.457Z"
   },
   {
    "duration": 9,
    "start_time": "2022-03-18T19:19:34.100Z"
   },
   {
    "duration": 9,
    "start_time": "2022-03-18T19:20:16.507Z"
   },
   {
    "duration": 173,
    "start_time": "2022-03-18T19:20:39.001Z"
   },
   {
    "duration": 12,
    "start_time": "2022-03-18T19:20:46.063Z"
   },
   {
    "duration": 2103,
    "start_time": "2022-03-18T19:29:35.864Z"
   },
   {
    "duration": 36,
    "start_time": "2022-03-18T19:29:37.970Z"
   },
   {
    "duration": 25,
    "start_time": "2022-03-18T19:29:38.008Z"
   },
   {
    "duration": 20,
    "start_time": "2022-03-18T19:29:38.035Z"
   },
   {
    "duration": 77,
    "start_time": "2022-03-18T19:29:38.059Z"
   },
   {
    "duration": 17,
    "start_time": "2022-03-18T19:29:38.139Z"
   },
   {
    "duration": 5,
    "start_time": "2022-03-18T19:29:38.157Z"
   },
   {
    "duration": 10,
    "start_time": "2022-03-18T19:29:38.164Z"
   },
   {
    "duration": 37,
    "start_time": "2022-03-18T19:29:38.176Z"
   },
   {
    "duration": 11,
    "start_time": "2022-03-18T19:29:38.215Z"
   },
   {
    "duration": 22,
    "start_time": "2022-03-18T19:29:38.228Z"
   },
   {
    "duration": 5,
    "start_time": "2022-03-18T19:29:38.252Z"
   },
   {
    "duration": 10,
    "start_time": "2022-03-18T19:29:38.259Z"
   },
   {
    "duration": 28,
    "start_time": "2022-03-18T19:29:38.273Z"
   },
   {
    "duration": 8,
    "start_time": "2022-03-18T19:29:38.303Z"
   },
   {
    "duration": 15,
    "start_time": "2022-03-18T19:29:38.313Z"
   },
   {
    "duration": 6,
    "start_time": "2022-03-18T19:29:38.330Z"
   },
   {
    "duration": 18,
    "start_time": "2022-03-18T19:29:38.338Z"
   },
   {
    "duration": 57,
    "start_time": "2022-03-18T19:29:38.359Z"
   },
   {
    "duration": 17,
    "start_time": "2022-03-18T19:29:38.419Z"
   },
   {
    "duration": 19,
    "start_time": "2022-03-18T19:29:38.438Z"
   },
   {
    "duration": 4,
    "start_time": "2022-03-18T19:29:38.460Z"
   },
   {
    "duration": 339,
    "start_time": "2022-03-18T19:29:38.467Z"
   },
   {
    "duration": 321,
    "start_time": "2022-03-18T19:29:38.809Z"
   },
   {
    "duration": 7,
    "start_time": "2022-03-18T19:29:39.132Z"
   },
   {
    "duration": 11,
    "start_time": "2022-03-18T19:29:39.141Z"
   },
   {
    "duration": 15,
    "start_time": "2022-03-18T19:29:39.154Z"
   },
   {
    "duration": 62,
    "start_time": "2022-03-18T19:29:39.171Z"
   },
   {
    "duration": 5,
    "start_time": "2022-03-18T19:29:39.235Z"
   },
   {
    "duration": 17,
    "start_time": "2022-03-18T19:29:39.242Z"
   },
   {
    "duration": 777,
    "start_time": "2022-03-18T19:29:39.261Z"
   },
   {
    "duration": 12,
    "start_time": "2022-03-18T19:29:40.040Z"
   },
   {
    "duration": 58,
    "start_time": "2022-03-18T19:29:40.053Z"
   },
   {
    "duration": 101,
    "start_time": "2022-03-18T19:29:40.114Z"
   },
   {
    "duration": 230,
    "start_time": "2022-03-18T19:29:40.302Z"
   },
   {
    "duration": 389,
    "start_time": "2022-03-18T19:29:40.535Z"
   },
   {
    "duration": 6,
    "start_time": "2022-03-18T19:29:40.926Z"
   },
   {
    "duration": 28,
    "start_time": "2022-03-18T19:29:40.934Z"
   },
   {
    "duration": 9,
    "start_time": "2022-03-18T19:29:40.964Z"
   },
   {
    "duration": 40,
    "start_time": "2022-03-18T19:29:40.976Z"
   },
   {
    "duration": 106,
    "start_time": "2022-03-18T19:29:41.022Z"
   },
   {
    "duration": 472,
    "start_time": "2022-03-18T19:29:41.130Z"
   },
   {
    "duration": 605,
    "start_time": "2022-03-18T19:29:41.605Z"
   },
   {
    "duration": 141,
    "start_time": "2022-03-18T19:29:42.303Z"
   },
   {
    "duration": 444,
    "start_time": "2022-03-18T19:29:42.446Z"
   },
   {
    "duration": 212,
    "start_time": "2022-03-18T19:29:42.893Z"
   },
   {
    "duration": 421,
    "start_time": "2022-03-18T19:29:43.107Z"
   },
   {
    "duration": 32,
    "start_time": "2022-03-18T19:29:43.530Z"
   },
   {
    "duration": 9,
    "start_time": "2022-03-18T19:29:43.564Z"
   },
   {
    "duration": 32,
    "start_time": "2022-03-18T19:29:43.575Z"
   },
   {
    "duration": 1677,
    "start_time": "2022-03-18T19:34:26.200Z"
   },
   {
    "duration": 28,
    "start_time": "2022-03-18T19:34:27.879Z"
   },
   {
    "duration": 19,
    "start_time": "2022-03-18T19:34:27.909Z"
   },
   {
    "duration": 15,
    "start_time": "2022-03-18T19:34:27.930Z"
   },
   {
    "duration": 67,
    "start_time": "2022-03-18T19:34:27.948Z"
   },
   {
    "duration": 14,
    "start_time": "2022-03-18T19:34:28.017Z"
   },
   {
    "duration": 4,
    "start_time": "2022-03-18T19:34:28.033Z"
   },
   {
    "duration": 12,
    "start_time": "2022-03-18T19:34:28.039Z"
   },
   {
    "duration": 15,
    "start_time": "2022-03-18T19:34:28.053Z"
   },
   {
    "duration": 34,
    "start_time": "2022-03-18T19:34:28.070Z"
   },
   {
    "duration": 23,
    "start_time": "2022-03-18T19:34:28.106Z"
   },
   {
    "duration": 4,
    "start_time": "2022-03-18T19:34:28.131Z"
   },
   {
    "duration": 14,
    "start_time": "2022-03-18T19:34:28.137Z"
   },
   {
    "duration": 10,
    "start_time": "2022-03-18T19:34:28.155Z"
   },
   {
    "duration": 34,
    "start_time": "2022-03-18T19:34:28.167Z"
   },
   {
    "duration": 14,
    "start_time": "2022-03-18T19:34:28.203Z"
   },
   {
    "duration": 7,
    "start_time": "2022-03-18T19:34:28.219Z"
   },
   {
    "duration": 20,
    "start_time": "2022-03-18T19:34:28.228Z"
   },
   {
    "duration": 24,
    "start_time": "2022-03-18T19:34:28.250Z"
   },
   {
    "duration": 41,
    "start_time": "2022-03-18T19:34:28.276Z"
   },
   {
    "duration": 21,
    "start_time": "2022-03-18T19:34:28.319Z"
   },
   {
    "duration": 5,
    "start_time": "2022-03-18T19:34:28.342Z"
   },
   {
    "duration": 354,
    "start_time": "2022-03-18T19:34:28.349Z"
   },
   {
    "duration": 318,
    "start_time": "2022-03-18T19:34:28.706Z"
   },
   {
    "duration": 6,
    "start_time": "2022-03-18T19:34:29.026Z"
   },
   {
    "duration": 9,
    "start_time": "2022-03-18T19:34:29.034Z"
   },
   {
    "duration": 17,
    "start_time": "2022-03-18T19:34:29.044Z"
   },
   {
    "duration": 58,
    "start_time": "2022-03-18T19:34:29.063Z"
   },
   {
    "duration": 4,
    "start_time": "2022-03-18T19:34:29.122Z"
   },
   {
    "duration": 17,
    "start_time": "2022-03-18T19:34:29.128Z"
   },
   {
    "duration": 777,
    "start_time": "2022-03-18T19:34:29.147Z"
   },
   {
    "duration": 12,
    "start_time": "2022-03-18T19:34:29.926Z"
   },
   {
    "duration": 171,
    "start_time": "2022-03-18T19:34:29.940Z"
   },
   {
    "duration": 11,
    "start_time": "2022-03-18T19:34:30.113Z"
   },
   {
    "duration": 311,
    "start_time": "2022-03-18T19:34:30.127Z"
   },
   {
    "duration": 305,
    "start_time": "2022-03-18T19:34:30.441Z"
   },
   {
    "duration": 6,
    "start_time": "2022-03-18T19:34:30.748Z"
   },
   {
    "duration": 30,
    "start_time": "2022-03-18T19:34:30.757Z"
   },
   {
    "duration": 18,
    "start_time": "2022-03-18T19:34:30.789Z"
   },
   {
    "duration": 40,
    "start_time": "2022-03-18T19:34:30.810Z"
   },
   {
    "duration": 105,
    "start_time": "2022-03-18T19:34:30.855Z"
   },
   {
    "duration": 344,
    "start_time": "2022-03-18T19:34:30.962Z"
   },
   {
    "duration": 592,
    "start_time": "2022-03-18T19:34:31.309Z"
   },
   {
    "duration": 145,
    "start_time": "2022-03-18T19:34:31.904Z"
   },
   {
    "duration": 338,
    "start_time": "2022-03-18T19:34:32.051Z"
   },
   {
    "duration": 124,
    "start_time": "2022-03-18T19:34:32.391Z"
   },
   {
    "duration": 415,
    "start_time": "2022-03-18T19:34:32.518Z"
   },
   {
    "duration": 29,
    "start_time": "2022-03-18T19:34:32.935Z"
   },
   {
    "duration": 7,
    "start_time": "2022-03-18T19:34:32.966Z"
   },
   {
    "duration": 33,
    "start_time": "2022-03-18T19:34:32.976Z"
   },
   {
    "duration": 5,
    "start_time": "2022-03-18T19:38:17.343Z"
   },
   {
    "duration": 5,
    "start_time": "2022-03-18T19:38:30.790Z"
   },
   {
    "duration": 116,
    "start_time": "2022-03-18T19:38:31.268Z"
   },
   {
    "duration": 10,
    "start_time": "2022-03-18T19:38:48.809Z"
   },
   {
    "duration": 10,
    "start_time": "2022-03-18T19:38:59.481Z"
   },
   {
    "duration": 5,
    "start_time": "2022-03-18T19:39:40.723Z"
   },
   {
    "duration": 10,
    "start_time": "2022-03-18T19:39:43.633Z"
   },
   {
    "duration": 10,
    "start_time": "2022-03-18T19:39:48.614Z"
   },
   {
    "duration": 10,
    "start_time": "2022-03-18T19:40:04.366Z"
   },
   {
    "duration": 5,
    "start_time": "2022-03-18T19:41:04.792Z"
   },
   {
    "duration": 13,
    "start_time": "2022-03-18T19:45:05.480Z"
   },
   {
    "duration": 11,
    "start_time": "2022-03-18T19:45:17.222Z"
   },
   {
    "duration": 16,
    "start_time": "2022-03-18T19:45:45.456Z"
   },
   {
    "duration": 33,
    "start_time": "2022-03-18T19:46:21.527Z"
   },
   {
    "duration": 28,
    "start_time": "2022-03-18T19:46:42.090Z"
   },
   {
    "duration": 32,
    "start_time": "2022-03-18T19:46:45.904Z"
   },
   {
    "duration": 13,
    "start_time": "2022-03-18T19:47:24.336Z"
   },
   {
    "duration": 14,
    "start_time": "2022-03-18T19:47:27.846Z"
   },
   {
    "duration": 16,
    "start_time": "2022-03-18T19:47:32.458Z"
   },
   {
    "duration": 12,
    "start_time": "2022-03-18T19:47:36.109Z"
   },
   {
    "duration": 17,
    "start_time": "2022-03-18T19:47:38.942Z"
   },
   {
    "duration": 23,
    "start_time": "2022-03-18T19:47:58.903Z"
   },
   {
    "duration": 14,
    "start_time": "2022-03-18T19:48:15.727Z"
   },
   {
    "duration": 23,
    "start_time": "2022-03-18T19:48:20.905Z"
   },
   {
    "duration": 14,
    "start_time": "2022-03-18T19:48:26.201Z"
   },
   {
    "duration": 13,
    "start_time": "2022-03-18T19:50:16.322Z"
   },
   {
    "duration": 89,
    "start_time": "2022-03-18T19:51:04.078Z"
   },
   {
    "duration": 11,
    "start_time": "2022-03-18T19:51:55.120Z"
   },
   {
    "duration": 18,
    "start_time": "2022-03-18T19:51:55.646Z"
   },
   {
    "duration": 10,
    "start_time": "2022-03-18T19:51:56.333Z"
   },
   {
    "duration": 15,
    "start_time": "2022-03-18T19:51:57.250Z"
   },
   {
    "duration": 11,
    "start_time": "2022-03-18T19:52:07.398Z"
   },
   {
    "duration": 14,
    "start_time": "2022-03-18T19:52:13.028Z"
   },
   {
    "duration": 14,
    "start_time": "2022-03-18T19:52:19.070Z"
   },
   {
    "duration": 15,
    "start_time": "2022-03-18T19:52:25.121Z"
   },
   {
    "duration": 20,
    "start_time": "2022-03-18T19:52:29.365Z"
   },
   {
    "duration": 14,
    "start_time": "2022-03-18T19:52:36.169Z"
   },
   {
    "duration": 16,
    "start_time": "2022-03-18T19:52:41.922Z"
   },
   {
    "duration": 1693,
    "start_time": "2022-03-18T19:57:19.375Z"
   },
   {
    "duration": 27,
    "start_time": "2022-03-18T19:57:21.070Z"
   },
   {
    "duration": 19,
    "start_time": "2022-03-18T19:57:21.098Z"
   },
   {
    "duration": 16,
    "start_time": "2022-03-18T19:57:21.119Z"
   },
   {
    "duration": 39,
    "start_time": "2022-03-18T19:57:21.136Z"
   },
   {
    "duration": 34,
    "start_time": "2022-03-18T19:57:21.177Z"
   },
   {
    "duration": 4,
    "start_time": "2022-03-18T19:57:21.213Z"
   },
   {
    "duration": 8,
    "start_time": "2022-03-18T19:57:21.218Z"
   },
   {
    "duration": 19,
    "start_time": "2022-03-18T19:57:21.227Z"
   },
   {
    "duration": 8,
    "start_time": "2022-03-18T19:57:21.249Z"
   },
   {
    "duration": 51,
    "start_time": "2022-03-18T19:57:21.259Z"
   },
   {
    "duration": 4,
    "start_time": "2022-03-18T19:57:21.312Z"
   },
   {
    "duration": 8,
    "start_time": "2022-03-18T19:57:21.318Z"
   },
   {
    "duration": 22,
    "start_time": "2022-03-18T19:57:21.328Z"
   },
   {
    "duration": 8,
    "start_time": "2022-03-18T19:57:21.352Z"
   },
   {
    "duration": 13,
    "start_time": "2022-03-18T19:57:21.362Z"
   },
   {
    "duration": 10,
    "start_time": "2022-03-18T19:57:21.377Z"
   },
   {
    "duration": 21,
    "start_time": "2022-03-18T19:57:21.389Z"
   },
   {
    "duration": 24,
    "start_time": "2022-03-18T19:57:21.412Z"
   },
   {
    "duration": 19,
    "start_time": "2022-03-18T19:57:21.438Z"
   },
   {
    "duration": 44,
    "start_time": "2022-03-18T19:57:21.458Z"
   },
   {
    "duration": 4,
    "start_time": "2022-03-18T19:57:21.504Z"
   },
   {
    "duration": 301,
    "start_time": "2022-03-18T19:57:21.510Z"
   },
   {
    "duration": 304,
    "start_time": "2022-03-18T19:57:21.903Z"
   },
   {
    "duration": 8,
    "start_time": "2022-03-18T19:57:22.209Z"
   },
   {
    "duration": 8,
    "start_time": "2022-03-18T19:57:22.219Z"
   },
   {
    "duration": 22,
    "start_time": "2022-03-18T19:57:22.229Z"
   },
   {
    "duration": 57,
    "start_time": "2022-03-18T19:57:22.257Z"
   },
   {
    "duration": 4,
    "start_time": "2022-03-18T19:57:22.316Z"
   },
   {
    "duration": 15,
    "start_time": "2022-03-18T19:57:22.322Z"
   },
   {
    "duration": 763,
    "start_time": "2022-03-18T19:57:22.339Z"
   },
   {
    "duration": 11,
    "start_time": "2022-03-18T19:57:23.103Z"
   },
   {
    "duration": 87,
    "start_time": "2022-03-18T19:57:23.116Z"
   },
   {
    "duration": 104,
    "start_time": "2022-03-18T19:57:23.206Z"
   },
   {
    "duration": 330,
    "start_time": "2022-03-18T19:57:23.313Z"
   },
   {
    "duration": 276,
    "start_time": "2022-03-18T19:57:23.645Z"
   },
   {
    "duration": 5,
    "start_time": "2022-03-18T19:57:23.924Z"
   },
   {
    "duration": 9,
    "start_time": "2022-03-18T19:57:23.931Z"
   },
   {
    "duration": 26,
    "start_time": "2022-03-18T19:57:23.942Z"
   },
   {
    "duration": 19,
    "start_time": "2022-03-18T19:57:23.970Z"
   },
   {
    "duration": 9,
    "start_time": "2022-03-18T19:57:24.001Z"
   },
   {
    "duration": 22,
    "start_time": "2022-03-18T19:57:24.011Z"
   },
   {
    "duration": 12,
    "start_time": "2022-03-18T19:57:24.035Z"
   },
   {
    "duration": 115,
    "start_time": "2022-03-18T19:57:24.048Z"
   },
   {
    "duration": 274,
    "start_time": "2022-03-18T19:57:24.165Z"
   },
   {
    "duration": 451,
    "start_time": "2022-03-18T19:57:24.503Z"
   },
   {
    "duration": 141,
    "start_time": "2022-03-18T19:57:25.001Z"
   },
   {
    "duration": 322,
    "start_time": "2022-03-18T19:57:25.144Z"
   },
   {
    "duration": 46,
    "start_time": "2022-03-18T19:57:25.468Z"
   },
   {
    "duration": 366,
    "start_time": "2022-03-18T19:57:25.603Z"
   },
   {
    "duration": 34,
    "start_time": "2022-03-18T19:57:25.971Z"
   },
   {
    "duration": 9,
    "start_time": "2022-03-18T19:57:26.007Z"
   },
   {
    "duration": 14,
    "start_time": "2022-03-18T19:57:26.017Z"
   },
   {
    "duration": 2737,
    "start_time": "2022-03-19T15:03:19.373Z"
   },
   {
    "duration": 54,
    "start_time": "2022-03-19T15:03:22.114Z"
   },
   {
    "duration": 33,
    "start_time": "2022-03-19T15:03:22.172Z"
   },
   {
    "duration": 28,
    "start_time": "2022-03-19T15:03:22.208Z"
   },
   {
    "duration": 96,
    "start_time": "2022-03-19T15:03:22.240Z"
   },
   {
    "duration": 24,
    "start_time": "2022-03-19T15:03:22.339Z"
   },
   {
    "duration": 18,
    "start_time": "2022-03-19T15:03:22.365Z"
   },
   {
    "duration": 12,
    "start_time": "2022-03-19T15:03:22.386Z"
   },
   {
    "duration": 25,
    "start_time": "2022-03-19T15:03:22.401Z"
   },
   {
    "duration": 6,
    "start_time": "2022-03-19T15:03:22.429Z"
   },
   {
    "duration": 72,
    "start_time": "2022-03-19T15:03:22.437Z"
   },
   {
    "duration": 5,
    "start_time": "2022-03-19T15:03:22.511Z"
   },
   {
    "duration": 7,
    "start_time": "2022-03-19T15:03:22.520Z"
   },
   {
    "duration": 10,
    "start_time": "2022-03-19T15:03:22.535Z"
   },
   {
    "duration": 8,
    "start_time": "2022-03-19T15:03:22.583Z"
   },
   {
    "duration": 24,
    "start_time": "2022-03-19T15:03:22.593Z"
   },
   {
    "duration": 6,
    "start_time": "2022-03-19T15:03:22.619Z"
   },
   {
    "duration": 21,
    "start_time": "2022-03-19T15:03:22.627Z"
   },
   {
    "duration": 61,
    "start_time": "2022-03-19T15:03:22.650Z"
   },
   {
    "duration": 28,
    "start_time": "2022-03-19T15:03:22.714Z"
   },
   {
    "duration": 60,
    "start_time": "2022-03-19T15:03:22.745Z"
   },
   {
    "duration": 7,
    "start_time": "2022-03-19T15:03:22.807Z"
   },
   {
    "duration": 396,
    "start_time": "2022-03-19T15:03:22.816Z"
   },
   {
    "duration": 398,
    "start_time": "2022-03-19T15:03:23.285Z"
   },
   {
    "duration": 11,
    "start_time": "2022-03-19T15:03:23.686Z"
   },
   {
    "duration": 9,
    "start_time": "2022-03-19T15:03:23.700Z"
   },
   {
    "duration": 8,
    "start_time": "2022-03-19T15:03:23.712Z"
   },
   {
    "duration": 95,
    "start_time": "2022-03-19T15:03:23.723Z"
   },
   {
    "duration": 5,
    "start_time": "2022-03-19T15:03:23.820Z"
   },
   {
    "duration": 21,
    "start_time": "2022-03-19T15:03:23.827Z"
   },
   {
    "duration": 1075,
    "start_time": "2022-03-19T15:03:23.850Z"
   },
   {
    "duration": 16,
    "start_time": "2022-03-19T15:03:24.930Z"
   },
   {
    "duration": 135,
    "start_time": "2022-03-19T15:03:24.949Z"
   },
   {
    "duration": 197,
    "start_time": "2022-03-19T15:03:25.086Z"
   },
   {
    "duration": 261,
    "start_time": "2022-03-19T15:03:25.286Z"
   },
   {
    "duration": 431,
    "start_time": "2022-03-19T15:03:25.551Z"
   },
   {
    "duration": 17,
    "start_time": "2022-03-19T15:03:25.985Z"
   },
   {
    "duration": 13,
    "start_time": "2022-03-19T15:03:26.005Z"
   },
   {
    "duration": 23,
    "start_time": "2022-03-19T15:03:26.021Z"
   },
   {
    "duration": 37,
    "start_time": "2022-03-19T15:03:26.046Z"
   },
   {
    "duration": 15,
    "start_time": "2022-03-19T15:03:26.089Z"
   },
   {
    "duration": 17,
    "start_time": "2022-03-19T15:03:26.107Z"
   },
   {
    "duration": 22,
    "start_time": "2022-03-19T15:03:26.126Z"
   },
   {
    "duration": 163,
    "start_time": "2022-03-19T15:03:26.183Z"
   },
   {
    "duration": 537,
    "start_time": "2022-03-19T15:03:26.350Z"
   },
   {
    "duration": 793,
    "start_time": "2022-03-19T15:03:26.890Z"
   },
   {
    "duration": 185,
    "start_time": "2022-03-19T15:03:27.686Z"
   },
   {
    "duration": 483,
    "start_time": "2022-03-19T15:03:27.874Z"
   },
   {
    "duration": 237,
    "start_time": "2022-03-19T15:03:28.359Z"
   },
   {
    "duration": 605,
    "start_time": "2022-03-19T15:03:28.599Z"
   },
   {
    "duration": 35,
    "start_time": "2022-03-19T15:03:29.208Z"
   },
   {
    "duration": 8,
    "start_time": "2022-03-19T15:03:29.246Z"
   },
   {
    "duration": 13,
    "start_time": "2022-03-19T15:03:29.283Z"
   },
   {
    "duration": 3,
    "start_time": "2022-03-19T16:50:13.634Z"
   },
   {
    "duration": 14,
    "start_time": "2022-03-19T16:50:26.240Z"
   },
   {
    "duration": 9,
    "start_time": "2022-03-19T16:50:29.672Z"
   },
   {
    "duration": 6,
    "start_time": "2022-03-19T16:50:37.498Z"
   },
   {
    "duration": 146,
    "start_time": "2022-03-19T16:52:00.869Z"
   },
   {
    "duration": 19,
    "start_time": "2022-03-19T16:53:57.896Z"
   },
   {
    "duration": 13,
    "start_time": "2022-03-19T16:54:19.890Z"
   },
   {
    "duration": 15,
    "start_time": "2022-03-19T16:54:51.833Z"
   },
   {
    "duration": 17,
    "start_time": "2022-03-19T16:55:06.011Z"
   },
   {
    "duration": 11,
    "start_time": "2022-03-19T16:55:13.097Z"
   },
   {
    "duration": 6,
    "start_time": "2022-03-19T16:55:20.698Z"
   },
   {
    "duration": 14,
    "start_time": "2022-03-19T16:55:29.714Z"
   },
   {
    "duration": 5,
    "start_time": "2022-03-19T16:55:30.226Z"
   },
   {
    "duration": 50,
    "start_time": "2022-04-11T14:45:46.782Z"
   },
   {
    "duration": 1785,
    "start_time": "2022-04-11T14:45:53.031Z"
   },
   {
    "duration": 45,
    "start_time": "2022-04-11T14:45:54.819Z"
   },
   {
    "duration": 17,
    "start_time": "2022-04-11T14:45:54.870Z"
   },
   {
    "duration": 30,
    "start_time": "2022-04-11T14:45:54.889Z"
   },
   {
    "duration": 61,
    "start_time": "2022-04-11T14:45:54.921Z"
   },
   {
    "duration": 13,
    "start_time": "2022-04-11T14:45:54.984Z"
   },
   {
    "duration": 39,
    "start_time": "2022-04-11T14:45:54.998Z"
   },
   {
    "duration": 3,
    "start_time": "2022-04-11T14:45:55.039Z"
   },
   {
    "duration": 8,
    "start_time": "2022-04-11T14:45:55.045Z"
   },
   {
    "duration": 15,
    "start_time": "2022-04-11T14:45:55.055Z"
   },
   {
    "duration": 8,
    "start_time": "2022-04-11T14:45:55.072Z"
   },
   {
    "duration": 53,
    "start_time": "2022-04-11T14:45:55.081Z"
   },
   {
    "duration": 3,
    "start_time": "2022-04-11T14:45:55.136Z"
   },
   {
    "duration": 9,
    "start_time": "2022-04-11T14:45:55.141Z"
   },
   {
    "duration": 8,
    "start_time": "2022-04-11T14:45:55.151Z"
   },
   {
    "duration": 5,
    "start_time": "2022-04-11T14:45:55.161Z"
   },
   {
    "duration": 16,
    "start_time": "2022-04-11T14:45:55.167Z"
   },
   {
    "duration": 5,
    "start_time": "2022-04-11T14:45:55.185Z"
   },
   {
    "duration": 47,
    "start_time": "2022-04-11T14:45:55.192Z"
   },
   {
    "duration": 23,
    "start_time": "2022-04-11T14:45:55.241Z"
   },
   {
    "duration": 17,
    "start_time": "2022-04-11T14:45:55.266Z"
   },
   {
    "duration": 51,
    "start_time": "2022-04-11T14:45:55.285Z"
   },
   {
    "duration": 4,
    "start_time": "2022-04-11T14:45:55.337Z"
   },
   {
    "duration": 300,
    "start_time": "2022-04-11T14:45:55.343Z"
   },
   {
    "duration": 315,
    "start_time": "2022-04-11T14:45:55.731Z"
   },
   {
    "duration": 8,
    "start_time": "2022-04-11T14:45:56.047Z"
   },
   {
    "duration": 7,
    "start_time": "2022-04-11T14:45:56.062Z"
   },
   {
    "duration": 8,
    "start_time": "2022-04-11T14:45:56.072Z"
   },
   {
    "duration": 69,
    "start_time": "2022-04-11T14:45:56.082Z"
   },
   {
    "duration": 4,
    "start_time": "2022-04-11T14:45:56.153Z"
   },
   {
    "duration": 15,
    "start_time": "2022-04-11T14:45:56.158Z"
   },
   {
    "duration": 781,
    "start_time": "2022-04-11T14:45:56.174Z"
   },
   {
    "duration": 11,
    "start_time": "2022-04-11T14:45:56.956Z"
   },
   {
    "duration": 67,
    "start_time": "2022-04-11T14:45:56.969Z"
   },
   {
    "duration": 95,
    "start_time": "2022-04-11T14:45:57.038Z"
   },
   {
    "duration": 230,
    "start_time": "2022-04-11T14:45:57.135Z"
   },
   {
    "duration": 284,
    "start_time": "2022-04-11T14:45:57.367Z"
   },
   {
    "duration": 6,
    "start_time": "2022-04-11T14:45:57.653Z"
   },
   {
    "duration": 8,
    "start_time": "2022-04-11T14:45:57.661Z"
   },
   {
    "duration": 16,
    "start_time": "2022-04-11T14:45:57.670Z"
   },
   {
    "duration": 14,
    "start_time": "2022-04-11T14:45:57.688Z"
   },
   {
    "duration": 33,
    "start_time": "2022-04-11T14:45:57.704Z"
   },
   {
    "duration": 13,
    "start_time": "2022-04-11T14:45:57.738Z"
   },
   {
    "duration": 11,
    "start_time": "2022-04-11T14:45:57.753Z"
   },
   {
    "duration": 117,
    "start_time": "2022-04-11T14:45:57.766Z"
   },
   {
    "duration": 290,
    "start_time": "2022-04-11T14:45:57.885Z"
   },
   {
    "duration": 436,
    "start_time": "2022-04-11T14:45:58.235Z"
   },
   {
    "duration": 198,
    "start_time": "2022-04-11T14:45:58.674Z"
   },
   {
    "duration": 317,
    "start_time": "2022-04-11T14:45:58.873Z"
   },
   {
    "duration": 45,
    "start_time": "2022-04-11T14:45:59.192Z"
   },
   {
    "duration": 462,
    "start_time": "2022-04-11T14:45:59.239Z"
   },
   {
    "duration": 34,
    "start_time": "2022-04-11T14:45:59.703Z"
   },
   {
    "duration": 7,
    "start_time": "2022-04-11T14:45:59.739Z"
   },
   {
    "duration": 13,
    "start_time": "2022-04-11T14:45:59.747Z"
   },
   {
    "duration": 4,
    "start_time": "2022-04-11T14:46:26.996Z"
   },
   {
    "duration": 4,
    "start_time": "2022-04-11T14:47:36.822Z"
   },
   {
    "duration": 182,
    "start_time": "2022-04-11T14:52:29.672Z"
   },
   {
    "duration": 1542,
    "start_time": "2022-04-11T14:56:58.285Z"
   },
   {
    "duration": 43,
    "start_time": "2022-04-11T14:56:59.830Z"
   },
   {
    "duration": 18,
    "start_time": "2022-04-11T14:56:59.875Z"
   },
   {
    "duration": 13,
    "start_time": "2022-04-11T14:56:59.895Z"
   },
   {
    "duration": 48,
    "start_time": "2022-04-11T14:56:59.910Z"
   },
   {
    "duration": 13,
    "start_time": "2022-04-11T14:56:59.959Z"
   },
   {
    "duration": 4,
    "start_time": "2022-04-11T14:56:59.973Z"
   },
   {
    "duration": 11,
    "start_time": "2022-04-11T14:56:59.978Z"
   },
   {
    "duration": 44,
    "start_time": "2022-04-11T14:56:59.990Z"
   },
   {
    "duration": 7,
    "start_time": "2022-04-11T14:57:00.037Z"
   },
   {
    "duration": 24,
    "start_time": "2022-04-11T14:57:00.047Z"
   },
   {
    "duration": 4,
    "start_time": "2022-04-11T14:57:00.072Z"
   },
   {
    "duration": 10,
    "start_time": "2022-04-11T14:57:00.078Z"
   },
   {
    "duration": 41,
    "start_time": "2022-04-11T14:57:00.090Z"
   },
   {
    "duration": 6,
    "start_time": "2022-04-11T14:57:00.134Z"
   },
   {
    "duration": 15,
    "start_time": "2022-04-11T14:57:00.141Z"
   },
   {
    "duration": 7,
    "start_time": "2022-04-11T14:57:00.158Z"
   },
   {
    "duration": 13,
    "start_time": "2022-04-11T14:57:00.167Z"
   },
   {
    "duration": 51,
    "start_time": "2022-04-11T14:57:00.182Z"
   },
   {
    "duration": 20,
    "start_time": "2022-04-11T14:57:00.235Z"
   },
   {
    "duration": 18,
    "start_time": "2022-04-11T14:57:00.257Z"
   },
   {
    "duration": 4,
    "start_time": "2022-04-11T14:57:00.277Z"
   },
   {
    "duration": 359,
    "start_time": "2022-04-11T14:57:00.283Z"
   },
   {
    "duration": 94,
    "start_time": "2022-04-11T14:57:00.645Z"
   },
   {
    "duration": 274,
    "start_time": "2022-04-11T14:57:00.741Z"
   },
   {
    "duration": 18,
    "start_time": "2022-04-11T14:57:01.017Z"
   },
   {
    "duration": 8,
    "start_time": "2022-04-11T14:57:01.037Z"
   },
   {
    "duration": 29,
    "start_time": "2022-04-11T14:57:01.051Z"
   },
   {
    "duration": 75,
    "start_time": "2022-04-11T14:57:01.083Z"
   },
   {
    "duration": 4,
    "start_time": "2022-04-11T14:57:01.161Z"
   },
   {
    "duration": 39,
    "start_time": "2022-04-11T14:57:01.167Z"
   },
   {
    "duration": 823,
    "start_time": "2022-04-11T14:57:01.208Z"
   },
   {
    "duration": 12,
    "start_time": "2022-04-11T14:57:02.033Z"
   },
   {
    "duration": 87,
    "start_time": "2022-04-11T14:57:02.047Z"
   },
   {
    "duration": 97,
    "start_time": "2022-04-11T14:57:02.136Z"
   },
   {
    "duration": 236,
    "start_time": "2022-04-11T14:57:02.236Z"
   },
   {
    "duration": 345,
    "start_time": "2022-04-11T14:57:02.474Z"
   },
   {
    "duration": 11,
    "start_time": "2022-04-11T14:57:02.821Z"
   },
   {
    "duration": 12,
    "start_time": "2022-04-11T14:57:02.834Z"
   },
   {
    "duration": 25,
    "start_time": "2022-04-11T14:57:02.847Z"
   },
   {
    "duration": 16,
    "start_time": "2022-04-11T14:57:02.874Z"
   },
   {
    "duration": 10,
    "start_time": "2022-04-11T14:57:02.892Z"
   },
   {
    "duration": 32,
    "start_time": "2022-04-11T14:57:02.904Z"
   },
   {
    "duration": 13,
    "start_time": "2022-04-11T14:57:02.939Z"
   },
   {
    "duration": 130,
    "start_time": "2022-04-11T14:57:02.954Z"
   },
   {
    "duration": 350,
    "start_time": "2022-04-11T14:57:03.087Z"
   },
   {
    "duration": 492,
    "start_time": "2022-04-11T14:57:03.440Z"
   },
   {
    "duration": 142,
    "start_time": "2022-04-11T14:57:03.935Z"
   },
   {
    "duration": 330,
    "start_time": "2022-04-11T14:57:04.079Z"
   },
   {
    "duration": 123,
    "start_time": "2022-04-11T14:57:04.411Z"
   },
   {
    "duration": 394,
    "start_time": "2022-04-11T14:57:04.537Z"
   },
   {
    "duration": 29,
    "start_time": "2022-04-11T14:57:04.933Z"
   },
   {
    "duration": 7,
    "start_time": "2022-04-11T14:57:04.964Z"
   },
   {
    "duration": 16,
    "start_time": "2022-04-11T14:57:04.972Z"
   },
   {
    "duration": 80,
    "start_time": "2022-04-11T14:58:28.885Z"
   },
   {
    "duration": 6,
    "start_time": "2022-04-11T14:58:48.133Z"
   },
   {
    "duration": 81,
    "start_time": "2022-04-11T14:58:53.374Z"
   },
   {
    "duration": 159,
    "start_time": "2022-04-11T14:59:10.933Z"
   },
   {
    "duration": 82,
    "start_time": "2022-04-11T14:59:15.261Z"
   },
   {
    "duration": 78,
    "start_time": "2022-04-11T14:59:29.374Z"
   },
   {
    "duration": 79,
    "start_time": "2022-04-11T15:00:13.758Z"
   },
   {
    "duration": 232,
    "start_time": "2022-04-11T15:07:48.048Z"
   },
   {
    "duration": 8,
    "start_time": "2022-04-11T15:07:49.623Z"
   },
   {
    "duration": 39,
    "start_time": "2022-04-11T15:08:37.472Z"
   },
   {
    "duration": 5,
    "start_time": "2022-04-11T15:12:20.906Z"
   },
   {
    "duration": 248,
    "start_time": "2022-04-11T15:13:22.691Z"
   },
   {
    "duration": 235,
    "start_time": "2022-04-11T15:13:54.980Z"
   },
   {
    "duration": 11,
    "start_time": "2022-04-11T15:14:11.202Z"
   },
   {
    "duration": 274,
    "start_time": "2022-04-11T15:15:20.875Z"
   },
   {
    "duration": 1598,
    "start_time": "2022-04-11T15:15:31.444Z"
   },
   {
    "duration": 42,
    "start_time": "2022-04-11T15:15:33.045Z"
   },
   {
    "duration": 19,
    "start_time": "2022-04-11T15:15:33.089Z"
   },
   {
    "duration": 20,
    "start_time": "2022-04-11T15:15:33.111Z"
   },
   {
    "duration": 45,
    "start_time": "2022-04-11T15:15:33.133Z"
   },
   {
    "duration": 13,
    "start_time": "2022-04-11T15:15:33.180Z"
   },
   {
    "duration": 4,
    "start_time": "2022-04-11T15:15:33.195Z"
   },
   {
    "duration": 32,
    "start_time": "2022-04-11T15:15:33.201Z"
   },
   {
    "duration": 16,
    "start_time": "2022-04-11T15:15:33.234Z"
   },
   {
    "duration": 9,
    "start_time": "2022-04-11T15:15:33.253Z"
   },
   {
    "duration": 27,
    "start_time": "2022-04-11T15:15:33.264Z"
   },
   {
    "duration": 38,
    "start_time": "2022-04-11T15:15:33.294Z"
   },
   {
    "duration": 7,
    "start_time": "2022-04-11T15:15:33.334Z"
   },
   {
    "duration": 10,
    "start_time": "2022-04-11T15:15:33.343Z"
   },
   {
    "duration": 11,
    "start_time": "2022-04-11T15:15:33.355Z"
   },
   {
    "duration": 15,
    "start_time": "2022-04-11T15:15:33.368Z"
   },
   {
    "duration": 7,
    "start_time": "2022-04-11T15:15:33.385Z"
   },
   {
    "duration": 41,
    "start_time": "2022-04-11T15:15:33.394Z"
   },
   {
    "duration": 24,
    "start_time": "2022-04-11T15:15:33.438Z"
   },
   {
    "duration": 21,
    "start_time": "2022-04-11T15:15:33.464Z"
   },
   {
    "duration": 49,
    "start_time": "2022-04-11T15:15:33.487Z"
   },
   {
    "duration": 5,
    "start_time": "2022-04-11T15:15:33.538Z"
   },
   {
    "duration": 395,
    "start_time": "2022-04-11T15:15:33.544Z"
   },
   {
    "duration": 94,
    "start_time": "2022-04-11T15:15:33.942Z"
   },
   {
    "duration": 115,
    "start_time": "2022-04-11T15:15:34.038Z"
   },
   {
    "duration": 3,
    "start_time": "2022-04-11T15:15:34.156Z"
   },
   {
    "duration": 250,
    "start_time": "2022-04-11T15:15:34.161Z"
   },
   {
    "duration": 137,
    "start_time": "2022-04-11T15:15:34.415Z"
   },
   {
    "duration": 0,
    "start_time": "2022-04-11T15:15:34.555Z"
   },
   {
    "duration": 0,
    "start_time": "2022-04-11T15:15:34.556Z"
   },
   {
    "duration": 0,
    "start_time": "2022-04-11T15:15:34.558Z"
   },
   {
    "duration": 1,
    "start_time": "2022-04-11T15:15:34.559Z"
   },
   {
    "duration": 0,
    "start_time": "2022-04-11T15:15:34.561Z"
   },
   {
    "duration": 0,
    "start_time": "2022-04-11T15:15:34.562Z"
   },
   {
    "duration": 0,
    "start_time": "2022-04-11T15:15:34.564Z"
   },
   {
    "duration": 0,
    "start_time": "2022-04-11T15:15:34.565Z"
   },
   {
    "duration": 0,
    "start_time": "2022-04-11T15:15:34.567Z"
   },
   {
    "duration": 0,
    "start_time": "2022-04-11T15:15:34.569Z"
   },
   {
    "duration": 0,
    "start_time": "2022-04-11T15:15:34.570Z"
   },
   {
    "duration": 0,
    "start_time": "2022-04-11T15:15:34.571Z"
   },
   {
    "duration": 0,
    "start_time": "2022-04-11T15:15:34.573Z"
   },
   {
    "duration": 0,
    "start_time": "2022-04-11T15:15:34.574Z"
   },
   {
    "duration": 0,
    "start_time": "2022-04-11T15:15:34.576Z"
   },
   {
    "duration": 0,
    "start_time": "2022-04-11T15:15:34.577Z"
   },
   {
    "duration": 0,
    "start_time": "2022-04-11T15:15:34.579Z"
   },
   {
    "duration": 0,
    "start_time": "2022-04-11T15:15:34.581Z"
   },
   {
    "duration": 0,
    "start_time": "2022-04-11T15:15:34.582Z"
   },
   {
    "duration": 0,
    "start_time": "2022-04-11T15:15:34.632Z"
   },
   {
    "duration": 0,
    "start_time": "2022-04-11T15:15:34.634Z"
   },
   {
    "duration": 0,
    "start_time": "2022-04-11T15:15:34.635Z"
   },
   {
    "duration": 0,
    "start_time": "2022-04-11T15:15:34.637Z"
   },
   {
    "duration": 0,
    "start_time": "2022-04-11T15:15:34.638Z"
   },
   {
    "duration": 0,
    "start_time": "2022-04-11T15:15:34.640Z"
   },
   {
    "duration": 0,
    "start_time": "2022-04-11T15:15:34.641Z"
   },
   {
    "duration": 0,
    "start_time": "2022-04-11T15:15:34.643Z"
   },
   {
    "duration": 0,
    "start_time": "2022-04-11T15:15:34.644Z"
   },
   {
    "duration": 788,
    "start_time": "2022-04-11T15:16:36.873Z"
   },
   {
    "duration": 7,
    "start_time": "2022-04-11T15:17:19.226Z"
   },
   {
    "duration": 5,
    "start_time": "2022-04-11T15:19:43.971Z"
   },
   {
    "duration": 865,
    "start_time": "2022-04-11T15:19:59.770Z"
   },
   {
    "duration": 5,
    "start_time": "2022-04-11T15:21:29.034Z"
   },
   {
    "duration": 872,
    "start_time": "2022-04-11T15:21:32.762Z"
   },
   {
    "duration": 5,
    "start_time": "2022-04-11T15:21:42.843Z"
   },
   {
    "duration": 877,
    "start_time": "2022-04-11T15:21:43.755Z"
   },
   {
    "duration": 5,
    "start_time": "2022-04-11T15:21:49.115Z"
   },
   {
    "duration": 171,
    "start_time": "2022-04-11T15:22:04.732Z"
   },
   {
    "duration": 7,
    "start_time": "2022-04-11T15:22:15.219Z"
   },
   {
    "duration": 849,
    "start_time": "2022-04-11T15:22:15.987Z"
   },
   {
    "duration": 178,
    "start_time": "2022-04-11T15:23:00.812Z"
   },
   {
    "duration": 171,
    "start_time": "2022-04-11T15:24:58.545Z"
   },
   {
    "duration": 753,
    "start_time": "2022-04-11T15:25:56.084Z"
   },
   {
    "duration": 10,
    "start_time": "2022-04-11T15:25:59.020Z"
   },
   {
    "duration": 39,
    "start_time": "2022-04-11T15:27:08.588Z"
   },
   {
    "duration": 41,
    "start_time": "2022-04-11T15:27:32.132Z"
   },
   {
    "duration": 11,
    "start_time": "2022-04-11T15:27:34.045Z"
   },
   {
    "duration": 27,
    "start_time": "2022-04-11T15:28:18.892Z"
   },
   {
    "duration": 1545,
    "start_time": "2022-04-11T18:51:36.650Z"
   },
   {
    "duration": 30,
    "start_time": "2022-04-11T18:51:38.197Z"
   },
   {
    "duration": 16,
    "start_time": "2022-04-11T18:51:38.229Z"
   },
   {
    "duration": 13,
    "start_time": "2022-04-11T18:51:38.247Z"
   },
   {
    "duration": 42,
    "start_time": "2022-04-11T18:51:38.261Z"
   },
   {
    "duration": 11,
    "start_time": "2022-04-11T18:51:38.304Z"
   },
   {
    "duration": 3,
    "start_time": "2022-04-11T18:51:38.316Z"
   },
   {
    "duration": 12,
    "start_time": "2022-04-11T18:51:38.321Z"
   },
   {
    "duration": 14,
    "start_time": "2022-04-11T18:51:38.335Z"
   },
   {
    "duration": 23,
    "start_time": "2022-04-11T18:51:38.351Z"
   },
   {
    "duration": 17,
    "start_time": "2022-04-11T18:51:38.375Z"
   },
   {
    "duration": 3,
    "start_time": "2022-04-11T18:51:38.393Z"
   },
   {
    "duration": 7,
    "start_time": "2022-04-11T18:51:38.398Z"
   },
   {
    "duration": 5,
    "start_time": "2022-04-11T18:51:38.406Z"
   },
   {
    "duration": 7,
    "start_time": "2022-04-11T18:51:38.413Z"
   },
   {
    "duration": 11,
    "start_time": "2022-04-11T18:51:38.421Z"
   },
   {
    "duration": 5,
    "start_time": "2022-04-11T18:51:38.433Z"
   },
   {
    "duration": 35,
    "start_time": "2022-04-11T18:51:38.439Z"
   },
   {
    "duration": 20,
    "start_time": "2022-04-11T18:51:38.476Z"
   },
   {
    "duration": 15,
    "start_time": "2022-04-11T18:51:38.498Z"
   },
   {
    "duration": 16,
    "start_time": "2022-04-11T18:51:38.514Z"
   },
   {
    "duration": 4,
    "start_time": "2022-04-11T18:51:38.531Z"
   },
   {
    "duration": 256,
    "start_time": "2022-04-11T18:51:38.536Z"
   },
   {
    "duration": 179,
    "start_time": "2022-04-11T18:51:38.794Z"
   },
   {
    "duration": 98,
    "start_time": "2022-04-11T18:51:38.975Z"
   },
   {
    "duration": 3,
    "start_time": "2022-04-11T18:51:39.075Z"
   },
   {
    "duration": 7,
    "start_time": "2022-04-11T18:51:39.080Z"
   },
   {
    "duration": 690,
    "start_time": "2022-04-11T18:51:39.090Z"
   },
   {
    "duration": 823,
    "start_time": "2022-04-11T18:51:39.782Z"
   },
   {
    "duration": 10,
    "start_time": "2022-04-11T18:51:40.607Z"
   },
   {
    "duration": 34,
    "start_time": "2022-04-11T18:51:40.619Z"
   },
   {
    "duration": 11,
    "start_time": "2022-04-11T18:51:40.672Z"
   },
   {
    "duration": 88,
    "start_time": "2022-04-11T18:51:40.685Z"
   },
   {
    "duration": 104,
    "start_time": "2022-04-11T18:51:40.776Z"
   },
   {
    "duration": 207,
    "start_time": "2022-04-11T18:51:40.883Z"
   },
   {
    "duration": 283,
    "start_time": "2022-04-11T18:51:41.092Z"
   },
   {
    "duration": 6,
    "start_time": "2022-04-11T18:51:41.377Z"
   },
   {
    "duration": 9,
    "start_time": "2022-04-11T18:51:41.384Z"
   },
   {
    "duration": 13,
    "start_time": "2022-04-11T18:51:41.394Z"
   },
   {
    "duration": 14,
    "start_time": "2022-04-11T18:51:41.409Z"
   },
   {
    "duration": 8,
    "start_time": "2022-04-11T18:51:41.425Z"
   },
   {
    "duration": 41,
    "start_time": "2022-04-11T18:51:41.434Z"
   },
   {
    "duration": 12,
    "start_time": "2022-04-11T18:51:41.477Z"
   },
   {
    "duration": 98,
    "start_time": "2022-04-11T18:51:41.491Z"
   },
   {
    "duration": 235,
    "start_time": "2022-04-11T18:51:41.591Z"
   },
   {
    "duration": 447,
    "start_time": "2022-04-11T18:51:41.828Z"
   },
   {
    "duration": 223,
    "start_time": "2022-04-11T18:51:42.277Z"
   },
   {
    "duration": 276,
    "start_time": "2022-04-11T18:51:42.501Z"
   },
   {
    "duration": 102,
    "start_time": "2022-04-11T18:51:42.778Z"
   },
   {
    "duration": 340,
    "start_time": "2022-04-11T18:51:42.882Z"
   },
   {
    "duration": 26,
    "start_time": "2022-04-11T18:51:43.224Z"
   },
   {
    "duration": 6,
    "start_time": "2022-04-11T18:51:43.251Z"
   },
   {
    "duration": 10,
    "start_time": "2022-04-11T18:51:43.273Z"
   },
   {
    "duration": 9,
    "start_time": "2022-04-11T18:52:56.704Z"
   },
   {
    "duration": 4,
    "start_time": "2022-04-11T18:58:04.768Z"
   },
   {
    "duration": 104,
    "start_time": "2022-04-11T18:58:18.984Z"
   },
   {
    "duration": 3,
    "start_time": "2022-04-11T18:58:26.862Z"
   },
   {
    "duration": 11,
    "start_time": "2022-04-11T18:58:27.541Z"
   },
   {
    "duration": 3,
    "start_time": "2022-04-11T18:58:38.616Z"
   },
   {
    "duration": 13,
    "start_time": "2022-04-11T18:58:39.554Z"
   },
   {
    "duration": 4,
    "start_time": "2022-04-11T18:58:44.534Z"
   },
   {
    "duration": 171,
    "start_time": "2022-04-11T18:58:44.953Z"
   },
   {
    "duration": 4,
    "start_time": "2022-04-11T19:00:31.202Z"
   },
   {
    "duration": 224,
    "start_time": "2022-04-11T19:00:31.695Z"
   },
   {
    "duration": 351,
    "start_time": "2022-04-11T19:01:54.736Z"
   },
   {
    "duration": 261,
    "start_time": "2022-04-11T19:02:00.622Z"
   },
   {
    "duration": 123,
    "start_time": "2022-04-11T19:02:35.407Z"
   },
   {
    "duration": 122,
    "start_time": "2022-04-11T19:02:54.829Z"
   },
   {
    "duration": 299,
    "start_time": "2022-04-11T19:03:26.276Z"
   },
   {
    "duration": 125,
    "start_time": "2022-04-11T19:03:28.959Z"
   },
   {
    "duration": 326,
    "start_time": "2022-04-11T19:03:38.737Z"
   },
   {
    "duration": 328,
    "start_time": "2022-04-11T19:03:47.358Z"
   },
   {
    "duration": 50,
    "start_time": "2022-04-11T19:09:50.227Z"
   },
   {
    "duration": 4,
    "start_time": "2022-04-11T19:13:17.952Z"
   },
   {
    "duration": 74,
    "start_time": "2022-04-11T19:13:22.206Z"
   },
   {
    "duration": 60,
    "start_time": "2022-04-11T19:13:55.317Z"
   },
   {
    "duration": 118,
    "start_time": "2022-04-11T19:16:47.930Z"
   },
   {
    "duration": 10,
    "start_time": "2022-04-11T19:17:58.405Z"
   },
   {
    "duration": 11,
    "start_time": "2022-04-11T19:18:27.393Z"
   },
   {
    "duration": 11,
    "start_time": "2022-04-11T19:18:29.718Z"
   },
   {
    "duration": 37,
    "start_time": "2022-04-11T19:18:52.438Z"
   },
   {
    "duration": 43,
    "start_time": "2022-04-11T19:21:44.629Z"
   },
   {
    "duration": 6,
    "start_time": "2022-04-11T19:21:50.324Z"
   },
   {
    "duration": 16,
    "start_time": "2022-04-11T19:22:54.023Z"
   },
   {
    "duration": 1419,
    "start_time": "2022-04-11T19:23:03.863Z"
   },
   {
    "duration": 25,
    "start_time": "2022-04-11T19:23:05.284Z"
   },
   {
    "duration": 16,
    "start_time": "2022-04-11T19:23:05.310Z"
   },
   {
    "duration": 17,
    "start_time": "2022-04-11T19:23:05.328Z"
   },
   {
    "duration": 49,
    "start_time": "2022-04-11T19:23:05.347Z"
   },
   {
    "duration": 10,
    "start_time": "2022-04-11T19:23:05.398Z"
   },
   {
    "duration": 3,
    "start_time": "2022-04-11T19:23:05.410Z"
   },
   {
    "duration": 10,
    "start_time": "2022-04-11T19:23:05.414Z"
   },
   {
    "duration": 15,
    "start_time": "2022-04-11T19:23:05.426Z"
   },
   {
    "duration": 9,
    "start_time": "2022-04-11T19:23:05.442Z"
   },
   {
    "duration": 35,
    "start_time": "2022-04-11T19:23:05.453Z"
   },
   {
    "duration": 4,
    "start_time": "2022-04-11T19:23:05.489Z"
   },
   {
    "duration": 12,
    "start_time": "2022-04-11T19:23:05.495Z"
   },
   {
    "duration": 9,
    "start_time": "2022-04-11T19:23:05.510Z"
   },
   {
    "duration": 5,
    "start_time": "2022-04-11T19:23:05.521Z"
   },
   {
    "duration": 16,
    "start_time": "2022-04-11T19:23:05.528Z"
   },
   {
    "duration": 6,
    "start_time": "2022-04-11T19:23:05.546Z"
   },
   {
    "duration": 25,
    "start_time": "2022-04-11T19:23:05.554Z"
   },
   {
    "duration": 27,
    "start_time": "2022-04-11T19:23:05.581Z"
   },
   {
    "duration": 17,
    "start_time": "2022-04-11T19:23:05.610Z"
   },
   {
    "duration": 17,
    "start_time": "2022-04-11T19:23:05.629Z"
   },
   {
    "duration": 27,
    "start_time": "2022-04-11T19:23:05.647Z"
   },
   {
    "duration": 237,
    "start_time": "2022-04-11T19:23:05.675Z"
   },
   {
    "duration": 11,
    "start_time": "2022-04-11T19:23:05.972Z"
   },
   {
    "duration": 83,
    "start_time": "2022-04-11T19:23:06.074Z"
   },
   {
    "duration": 16,
    "start_time": "2022-04-11T19:23:06.158Z"
   },
   {
    "duration": 8,
    "start_time": "2022-04-11T19:23:06.176Z"
   },
   {
    "duration": 709,
    "start_time": "2022-04-11T19:23:06.185Z"
   },
   {
    "duration": 826,
    "start_time": "2022-04-11T19:23:06.896Z"
   },
   {
    "duration": 10,
    "start_time": "2022-04-11T19:23:07.724Z"
   },
   {
    "duration": 48,
    "start_time": "2022-04-11T19:23:07.736Z"
   },
   {
    "duration": 10,
    "start_time": "2022-04-11T19:23:07.785Z"
   },
   {
    "duration": 79,
    "start_time": "2022-04-11T19:23:07.797Z"
   },
   {
    "duration": 101,
    "start_time": "2022-04-11T19:23:07.879Z"
   },
   {
    "duration": 11,
    "start_time": "2022-04-11T19:23:07.981Z"
   },
   {
    "duration": 82,
    "start_time": "2022-04-11T19:23:07.995Z"
   },
   {
    "duration": 220,
    "start_time": "2022-04-11T19:23:08.080Z"
   },
   {
    "duration": 293,
    "start_time": "2022-04-11T19:23:08.301Z"
   },
   {
    "duration": 5,
    "start_time": "2022-04-11T19:23:08.596Z"
   },
   {
    "duration": 11,
    "start_time": "2022-04-11T19:23:08.602Z"
   },
   {
    "duration": 15,
    "start_time": "2022-04-11T19:23:08.617Z"
   },
   {
    "duration": 17,
    "start_time": "2022-04-11T19:23:08.634Z"
   },
   {
    "duration": 24,
    "start_time": "2022-04-11T19:23:08.653Z"
   },
   {
    "duration": 13,
    "start_time": "2022-04-11T19:23:08.678Z"
   },
   {
    "duration": 10,
    "start_time": "2022-04-11T19:23:08.693Z"
   },
   {
    "duration": 110,
    "start_time": "2022-04-11T19:23:08.705Z"
   },
   {
    "duration": 258,
    "start_time": "2022-04-11T19:23:08.817Z"
   },
   {
    "duration": 507,
    "start_time": "2022-04-11T19:23:09.077Z"
   },
   {
    "duration": 221,
    "start_time": "2022-04-11T19:23:09.586Z"
   },
   {
    "duration": 277,
    "start_time": "2022-04-11T19:23:09.808Z"
   },
   {
    "duration": 91,
    "start_time": "2022-04-11T19:23:10.086Z"
   },
   {
    "duration": 195,
    "start_time": "2022-04-11T19:23:10.179Z"
   },
   {
    "duration": 341,
    "start_time": "2022-04-11T19:23:10.377Z"
   },
   {
    "duration": 24,
    "start_time": "2022-04-11T19:23:10.719Z"
   },
   {
    "duration": 55,
    "start_time": "2022-04-11T19:23:10.745Z"
   },
   {
    "duration": 6,
    "start_time": "2022-04-11T19:23:10.801Z"
   },
   {
    "duration": 121,
    "start_time": "2022-04-11T19:23:10.809Z"
   },
   {
    "duration": 2,
    "start_time": "2022-04-11T19:23:22.503Z"
   },
   {
    "duration": 44,
    "start_time": "2022-04-11T19:23:22.938Z"
   },
   {
    "duration": 6,
    "start_time": "2022-04-11T19:23:24.199Z"
   },
   {
    "duration": 17,
    "start_time": "2022-04-11T19:23:24.767Z"
   },
   {
    "duration": 6,
    "start_time": "2022-04-11T19:25:12.807Z"
   },
   {
    "duration": 9,
    "start_time": "2022-04-11T19:25:30.736Z"
   },
   {
    "duration": 248,
    "start_time": "2022-04-11T19:26:44.588Z"
   },
   {
    "duration": 6,
    "start_time": "2022-04-11T19:26:53.051Z"
   },
   {
    "duration": 5,
    "start_time": "2022-04-11T19:27:07.195Z"
   },
   {
    "duration": 256,
    "start_time": "2022-04-11T19:27:15.919Z"
   },
   {
    "duration": 6,
    "start_time": "2022-04-11T19:27:16.491Z"
   },
   {
    "duration": 44,
    "start_time": "2022-04-11T19:27:28.817Z"
   },
   {
    "duration": 6,
    "start_time": "2022-04-11T19:27:31.696Z"
   },
   {
    "duration": 9,
    "start_time": "2022-04-11T19:27:35.436Z"
   },
   {
    "duration": 58,
    "start_time": "2022-04-11T19:27:58.556Z"
   },
   {
    "duration": 17,
    "start_time": "2022-04-11T19:28:46.637Z"
   },
   {
    "duration": 15,
    "start_time": "2022-04-11T19:28:55.772Z"
   },
   {
    "duration": 27,
    "start_time": "2022-04-11T19:29:59.736Z"
   },
   {
    "duration": 25,
    "start_time": "2022-04-11T19:30:53.304Z"
   },
   {
    "duration": 240,
    "start_time": "2022-04-11T19:31:09.604Z"
   },
   {
    "duration": 5,
    "start_time": "2022-04-11T19:31:13.407Z"
   },
   {
    "duration": 249,
    "start_time": "2022-04-11T19:31:22.221Z"
   },
   {
    "duration": 25,
    "start_time": "2022-04-11T19:31:23.126Z"
   },
   {
    "duration": 9,
    "start_time": "2022-04-11T19:31:34.136Z"
   },
   {
    "duration": 1386,
    "start_time": "2022-04-11T19:31:47.804Z"
   },
   {
    "duration": 26,
    "start_time": "2022-04-11T19:31:49.192Z"
   },
   {
    "duration": 17,
    "start_time": "2022-04-11T19:31:49.220Z"
   },
   {
    "duration": 13,
    "start_time": "2022-04-11T19:31:49.240Z"
   },
   {
    "duration": 51,
    "start_time": "2022-04-11T19:31:49.255Z"
   },
   {
    "duration": 11,
    "start_time": "2022-04-11T19:31:49.308Z"
   },
   {
    "duration": 4,
    "start_time": "2022-04-11T19:31:49.321Z"
   },
   {
    "duration": 9,
    "start_time": "2022-04-11T19:31:49.326Z"
   },
   {
    "duration": 39,
    "start_time": "2022-04-11T19:31:49.337Z"
   },
   {
    "duration": 7,
    "start_time": "2022-04-11T19:31:49.379Z"
   },
   {
    "duration": 19,
    "start_time": "2022-04-11T19:31:49.387Z"
   },
   {
    "duration": 4,
    "start_time": "2022-04-11T19:31:49.408Z"
   },
   {
    "duration": 8,
    "start_time": "2022-04-11T19:31:49.414Z"
   },
   {
    "duration": 14,
    "start_time": "2022-04-11T19:31:49.423Z"
   },
   {
    "duration": 35,
    "start_time": "2022-04-11T19:31:49.438Z"
   },
   {
    "duration": 12,
    "start_time": "2022-04-11T19:31:49.475Z"
   },
   {
    "duration": 4,
    "start_time": "2022-04-11T19:31:49.489Z"
   },
   {
    "duration": 12,
    "start_time": "2022-04-11T19:31:49.495Z"
   },
   {
    "duration": 20,
    "start_time": "2022-04-11T19:31:49.509Z"
   },
   {
    "duration": 43,
    "start_time": "2022-04-11T19:31:49.531Z"
   },
   {
    "duration": 17,
    "start_time": "2022-04-11T19:31:49.576Z"
   },
   {
    "duration": 5,
    "start_time": "2022-04-11T19:31:49.595Z"
   },
   {
    "duration": 275,
    "start_time": "2022-04-11T19:31:49.602Z"
   },
   {
    "duration": 103,
    "start_time": "2022-04-11T19:31:49.879Z"
   },
   {
    "duration": 149,
    "start_time": "2022-04-11T19:31:49.983Z"
   },
   {
    "duration": 4,
    "start_time": "2022-04-11T19:31:50.133Z"
   },
   {
    "duration": 7,
    "start_time": "2022-04-11T19:31:50.138Z"
   },
   {
    "duration": 725,
    "start_time": "2022-04-11T19:31:50.149Z"
   },
   {
    "duration": 731,
    "start_time": "2022-04-11T19:31:50.877Z"
   },
   {
    "duration": 10,
    "start_time": "2022-04-11T19:31:51.609Z"
   },
   {
    "duration": 34,
    "start_time": "2022-04-11T19:31:51.620Z"
   },
   {
    "duration": 27,
    "start_time": "2022-04-11T19:31:51.655Z"
   },
   {
    "duration": 91,
    "start_time": "2022-04-11T19:31:51.683Z"
   },
   {
    "duration": 102,
    "start_time": "2022-04-11T19:31:51.775Z"
   },
   {
    "duration": 13,
    "start_time": "2022-04-11T19:31:51.879Z"
   },
   {
    "duration": 89,
    "start_time": "2022-04-11T19:31:51.893Z"
   },
   {
    "duration": 133,
    "start_time": "2022-04-11T19:31:52.074Z"
   },
   {
    "duration": 281,
    "start_time": "2022-04-11T19:31:52.208Z"
   },
   {
    "duration": 5,
    "start_time": "2022-04-11T19:31:52.491Z"
   },
   {
    "duration": 11,
    "start_time": "2022-04-11T19:31:52.497Z"
   },
   {
    "duration": 14,
    "start_time": "2022-04-11T19:31:52.509Z"
   },
   {
    "duration": 13,
    "start_time": "2022-04-11T19:31:52.525Z"
   },
   {
    "duration": 6,
    "start_time": "2022-04-11T19:31:52.540Z"
   },
   {
    "duration": 32,
    "start_time": "2022-04-11T19:31:52.548Z"
   },
   {
    "duration": 11,
    "start_time": "2022-04-11T19:31:52.581Z"
   },
   {
    "duration": 95,
    "start_time": "2022-04-11T19:31:52.594Z"
   },
   {
    "duration": 283,
    "start_time": "2022-04-11T19:31:52.690Z"
   },
   {
    "duration": 403,
    "start_time": "2022-04-11T19:31:52.976Z"
   },
   {
    "duration": 223,
    "start_time": "2022-04-11T19:31:53.382Z"
   },
   {
    "duration": 276,
    "start_time": "2022-04-11T19:31:53.606Z"
   },
   {
    "duration": 92,
    "start_time": "2022-04-11T19:31:53.884Z"
   },
   {
    "duration": 109,
    "start_time": "2022-04-11T19:31:53.980Z"
   },
   {
    "duration": 418,
    "start_time": "2022-04-11T19:31:54.091Z"
   },
   {
    "duration": 24,
    "start_time": "2022-04-11T19:31:54.511Z"
   },
   {
    "duration": 115,
    "start_time": "2022-04-11T19:31:54.536Z"
   },
   {
    "duration": 6,
    "start_time": "2022-04-11T19:32:40.402Z"
   },
   {
    "duration": 8,
    "start_time": "2022-04-11T19:32:41.893Z"
   },
   {
    "duration": 1402,
    "start_time": "2022-04-11T19:32:46.577Z"
   },
   {
    "duration": 25,
    "start_time": "2022-04-11T19:32:47.981Z"
   },
   {
    "duration": 16,
    "start_time": "2022-04-11T19:32:48.008Z"
   },
   {
    "duration": 13,
    "start_time": "2022-04-11T19:32:48.025Z"
   },
   {
    "duration": 45,
    "start_time": "2022-04-11T19:32:48.040Z"
   },
   {
    "duration": 10,
    "start_time": "2022-04-11T19:32:48.087Z"
   },
   {
    "duration": 3,
    "start_time": "2022-04-11T19:32:48.098Z"
   },
   {
    "duration": 9,
    "start_time": "2022-04-11T19:32:48.103Z"
   },
   {
    "duration": 13,
    "start_time": "2022-04-11T19:32:48.113Z"
   },
   {
    "duration": 9,
    "start_time": "2022-04-11T19:32:48.127Z"
   },
   {
    "duration": 39,
    "start_time": "2022-04-11T19:32:48.138Z"
   },
   {
    "duration": 4,
    "start_time": "2022-04-11T19:32:48.179Z"
   },
   {
    "duration": 8,
    "start_time": "2022-04-11T19:32:48.185Z"
   },
   {
    "duration": 7,
    "start_time": "2022-04-11T19:32:48.195Z"
   },
   {
    "duration": 4,
    "start_time": "2022-04-11T19:32:48.204Z"
   },
   {
    "duration": 13,
    "start_time": "2022-04-11T19:32:48.210Z"
   },
   {
    "duration": 8,
    "start_time": "2022-04-11T19:32:48.224Z"
   },
   {
    "duration": 16,
    "start_time": "2022-04-11T19:32:48.234Z"
   },
   {
    "duration": 39,
    "start_time": "2022-04-11T19:32:48.251Z"
   },
   {
    "duration": 17,
    "start_time": "2022-04-11T19:32:48.292Z"
   },
   {
    "duration": 17,
    "start_time": "2022-04-11T19:32:48.311Z"
   },
   {
    "duration": 6,
    "start_time": "2022-04-11T19:32:48.330Z"
   },
   {
    "duration": 256,
    "start_time": "2022-04-11T19:32:48.337Z"
   },
   {
    "duration": 87,
    "start_time": "2022-04-11T19:32:48.595Z"
   },
   {
    "duration": 84,
    "start_time": "2022-04-11T19:32:48.774Z"
   },
   {
    "duration": 3,
    "start_time": "2022-04-11T19:32:48.873Z"
   },
   {
    "duration": 6,
    "start_time": "2022-04-11T19:32:48.878Z"
   },
   {
    "duration": 689,
    "start_time": "2022-04-11T19:32:48.886Z"
   },
   {
    "duration": 820,
    "start_time": "2022-04-11T19:32:49.579Z"
   },
   {
    "duration": 11,
    "start_time": "2022-04-11T19:32:50.401Z"
   },
   {
    "duration": 35,
    "start_time": "2022-04-11T19:32:50.414Z"
   },
   {
    "duration": 28,
    "start_time": "2022-04-11T19:32:50.450Z"
   },
   {
    "duration": 21,
    "start_time": "2022-04-11T19:32:50.479Z"
   },
   {
    "duration": 103,
    "start_time": "2022-04-11T19:32:50.575Z"
   },
   {
    "duration": 11,
    "start_time": "2022-04-11T19:32:50.679Z"
   },
   {
    "duration": 181,
    "start_time": "2022-04-11T19:32:50.692Z"
   },
   {
    "duration": 132,
    "start_time": "2022-04-11T19:32:50.875Z"
   },
   {
    "duration": 379,
    "start_time": "2022-04-11T19:32:51.008Z"
   },
   {
    "duration": 5,
    "start_time": "2022-04-11T19:32:51.389Z"
   },
   {
    "duration": 8,
    "start_time": "2022-04-11T19:32:51.396Z"
   },
   {
    "duration": 16,
    "start_time": "2022-04-11T19:32:51.407Z"
   },
   {
    "duration": 13,
    "start_time": "2022-04-11T19:32:51.424Z"
   },
   {
    "duration": 7,
    "start_time": "2022-04-11T19:32:51.439Z"
   },
   {
    "duration": 32,
    "start_time": "2022-04-11T19:32:51.447Z"
   },
   {
    "duration": 40,
    "start_time": "2022-04-11T19:32:51.481Z"
   },
   {
    "duration": 81,
    "start_time": "2022-04-11T19:32:51.523Z"
   },
   {
    "duration": 269,
    "start_time": "2022-04-11T19:32:51.605Z"
   },
   {
    "duration": 397,
    "start_time": "2022-04-11T19:32:51.879Z"
   },
   {
    "duration": 222,
    "start_time": "2022-04-11T19:32:52.279Z"
   },
   {
    "duration": 262,
    "start_time": "2022-04-11T19:32:52.502Z"
   },
   {
    "duration": 113,
    "start_time": "2022-04-11T19:32:52.766Z"
   },
   {
    "duration": 194,
    "start_time": "2022-04-11T19:32:52.881Z"
   },
   {
    "duration": 331,
    "start_time": "2022-04-11T19:32:53.077Z"
   },
   {
    "duration": 24,
    "start_time": "2022-04-11T19:32:53.410Z"
   },
   {
    "duration": 6,
    "start_time": "2022-04-11T19:32:53.435Z"
   },
   {
    "duration": 9,
    "start_time": "2022-04-11T19:32:53.443Z"
   },
   {
    "duration": 43,
    "start_time": "2022-04-12T07:46:12.157Z"
   },
   {
    "duration": 1528,
    "start_time": "2022-04-12T07:46:18.450Z"
   },
   {
    "duration": 21,
    "start_time": "2022-04-12T07:46:19.980Z"
   },
   {
    "duration": 14,
    "start_time": "2022-04-12T07:46:20.003Z"
   },
   {
    "duration": 11,
    "start_time": "2022-04-12T07:46:20.024Z"
   },
   {
    "duration": 33,
    "start_time": "2022-04-12T07:46:20.037Z"
   },
   {
    "duration": 9,
    "start_time": "2022-04-12T07:46:20.072Z"
   },
   {
    "duration": 3,
    "start_time": "2022-04-12T07:46:20.083Z"
   },
   {
    "duration": 7,
    "start_time": "2022-04-12T07:46:20.087Z"
   },
   {
    "duration": 39,
    "start_time": "2022-04-12T07:46:20.095Z"
   },
   {
    "duration": 5,
    "start_time": "2022-04-12T07:46:20.136Z"
   },
   {
    "duration": 17,
    "start_time": "2022-04-12T07:46:20.142Z"
   },
   {
    "duration": 3,
    "start_time": "2022-04-12T07:46:20.161Z"
   },
   {
    "duration": 6,
    "start_time": "2022-04-12T07:46:20.166Z"
   },
   {
    "duration": 5,
    "start_time": "2022-04-12T07:46:20.173Z"
   },
   {
    "duration": 19,
    "start_time": "2022-04-12T07:46:20.180Z"
   },
   {
    "duration": 28,
    "start_time": "2022-04-12T07:46:20.200Z"
   },
   {
    "duration": 4,
    "start_time": "2022-04-12T07:46:20.230Z"
   },
   {
    "duration": 13,
    "start_time": "2022-04-12T07:46:20.236Z"
   },
   {
    "duration": 19,
    "start_time": "2022-04-12T07:46:20.250Z"
   },
   {
    "duration": 15,
    "start_time": "2022-04-12T07:46:20.270Z"
   },
   {
    "duration": 14,
    "start_time": "2022-04-12T07:46:20.286Z"
   },
   {
    "duration": 25,
    "start_time": "2022-04-12T07:46:20.301Z"
   },
   {
    "duration": 230,
    "start_time": "2022-04-12T07:46:20.327Z"
   },
   {
    "duration": 69,
    "start_time": "2022-04-12T07:46:20.559Z"
   },
   {
    "duration": 175,
    "start_time": "2022-04-12T07:46:20.629Z"
   },
   {
    "duration": 18,
    "start_time": "2022-04-12T07:46:20.806Z"
   },
   {
    "duration": 8,
    "start_time": "2022-04-12T07:46:20.825Z"
   },
   {
    "duration": 788,
    "start_time": "2022-04-12T07:46:20.836Z"
   },
   {
    "duration": 804,
    "start_time": "2022-04-12T07:46:21.626Z"
   },
   {
    "duration": 9,
    "start_time": "2022-04-12T07:46:22.432Z"
   },
   {
    "duration": 33,
    "start_time": "2022-04-12T07:46:22.442Z"
   },
   {
    "duration": 4,
    "start_time": "2022-04-12T07:46:22.477Z"
   },
   {
    "duration": 10,
    "start_time": "2022-04-12T07:46:22.483Z"
   },
   {
    "duration": 48,
    "start_time": "2022-04-12T07:46:22.495Z"
   },
   {
    "duration": 101,
    "start_time": "2022-04-12T07:46:22.623Z"
   },
   {
    "duration": 9,
    "start_time": "2022-04-12T07:46:22.728Z"
   },
   {
    "duration": 186,
    "start_time": "2022-04-12T07:46:22.739Z"
   },
   {
    "duration": 117,
    "start_time": "2022-04-12T07:46:22.926Z"
   },
   {
    "duration": 287,
    "start_time": "2022-04-12T07:46:23.044Z"
   },
   {
    "duration": 5,
    "start_time": "2022-04-12T07:46:23.332Z"
   },
   {
    "duration": 10,
    "start_time": "2022-04-12T07:46:23.339Z"
   },
   {
    "duration": 14,
    "start_time": "2022-04-12T07:46:23.350Z"
   },
   {
    "duration": 12,
    "start_time": "2022-04-12T07:46:23.365Z"
   },
   {
    "duration": 6,
    "start_time": "2022-04-12T07:46:23.379Z"
   },
   {
    "duration": 11,
    "start_time": "2022-04-12T07:46:23.387Z"
   },
   {
    "duration": 31,
    "start_time": "2022-04-12T07:46:23.400Z"
   },
   {
    "duration": 69,
    "start_time": "2022-04-12T07:46:23.433Z"
   },
   {
    "duration": 247,
    "start_time": "2022-04-12T07:46:23.503Z"
   },
   {
    "duration": 474,
    "start_time": "2022-04-12T07:46:23.751Z"
   },
   {
    "duration": 220,
    "start_time": "2022-04-12T07:46:24.227Z"
   },
   {
    "duration": 264,
    "start_time": "2022-04-12T07:46:24.449Z"
   },
   {
    "duration": 113,
    "start_time": "2022-04-12T07:46:24.714Z"
   },
   {
    "duration": 108,
    "start_time": "2022-04-12T07:46:24.829Z"
   },
   {
    "duration": 531,
    "start_time": "2022-04-12T07:46:25.024Z"
   },
   {
    "duration": 75,
    "start_time": "2022-04-12T07:46:25.556Z"
   },
   {
    "duration": 6,
    "start_time": "2022-04-12T07:46:25.633Z"
   },
   {
    "duration": 11,
    "start_time": "2022-04-12T07:46:25.640Z"
   },
   {
    "duration": 5,
    "start_time": "2022-04-12T07:46:44.771Z"
   },
   {
    "duration": 4,
    "start_time": "2022-04-12T07:46:59.169Z"
   },
   {
    "duration": 5,
    "start_time": "2022-04-12T07:47:08.018Z"
   },
   {
    "duration": 15,
    "start_time": "2022-04-12T09:18:04.535Z"
   },
   {
    "duration": 73,
    "start_time": "2022-04-12T09:19:34.768Z"
   },
   {
    "duration": 2287,
    "start_time": "2022-04-12T09:56:33.123Z"
   },
   {
    "duration": 32,
    "start_time": "2022-04-12T09:56:35.413Z"
   },
   {
    "duration": 39,
    "start_time": "2022-04-12T09:56:35.447Z"
   },
   {
    "duration": 18,
    "start_time": "2022-04-12T09:56:35.489Z"
   },
   {
    "duration": 108,
    "start_time": "2022-04-12T09:56:35.509Z"
   },
   {
    "duration": 18,
    "start_time": "2022-04-12T09:56:35.619Z"
   },
   {
    "duration": 5,
    "start_time": "2022-04-12T09:56:35.640Z"
   },
   {
    "duration": 16,
    "start_time": "2022-04-12T09:56:35.648Z"
   },
   {
    "duration": 20,
    "start_time": "2022-04-12T09:56:35.685Z"
   },
   {
    "duration": 7,
    "start_time": "2022-04-12T09:56:35.709Z"
   },
   {
    "duration": 43,
    "start_time": "2022-04-12T09:56:35.718Z"
   },
   {
    "duration": 23,
    "start_time": "2022-04-12T09:56:35.763Z"
   },
   {
    "duration": 23,
    "start_time": "2022-04-12T09:56:35.788Z"
   },
   {
    "duration": 10,
    "start_time": "2022-04-12T09:56:35.814Z"
   },
   {
    "duration": 17,
    "start_time": "2022-04-12T09:56:35.826Z"
   },
   {
    "duration": 17,
    "start_time": "2022-04-12T09:56:35.845Z"
   },
   {
    "duration": 20,
    "start_time": "2022-04-12T09:56:35.864Z"
   },
   {
    "duration": 14,
    "start_time": "2022-04-12T09:56:35.886Z"
   },
   {
    "duration": 41,
    "start_time": "2022-04-12T09:56:35.902Z"
   },
   {
    "duration": 46,
    "start_time": "2022-04-12T09:56:35.946Z"
   },
   {
    "duration": 26,
    "start_time": "2022-04-12T09:56:35.995Z"
   },
   {
    "duration": 6,
    "start_time": "2022-04-12T09:56:36.023Z"
   },
   {
    "duration": 395,
    "start_time": "2022-04-12T09:56:36.031Z"
   },
   {
    "duration": 102,
    "start_time": "2022-04-12T09:56:36.486Z"
   },
   {
    "duration": 147,
    "start_time": "2022-04-12T09:56:36.591Z"
   },
   {
    "duration": 5,
    "start_time": "2022-04-12T09:56:36.740Z"
   },
   {
    "duration": 10,
    "start_time": "2022-04-12T09:56:36.747Z"
   },
   {
    "duration": 1130,
    "start_time": "2022-04-12T09:56:36.763Z"
   },
   {
    "duration": 1214,
    "start_time": "2022-04-12T09:56:37.987Z"
   },
   {
    "duration": 0,
    "start_time": "2022-04-12T09:56:39.204Z"
   },
   {
    "duration": 0,
    "start_time": "2022-04-12T09:56:39.205Z"
   },
   {
    "duration": 0,
    "start_time": "2022-04-12T09:56:39.206Z"
   },
   {
    "duration": 0,
    "start_time": "2022-04-12T09:56:39.208Z"
   },
   {
    "duration": 0,
    "start_time": "2022-04-12T09:56:39.209Z"
   },
   {
    "duration": 0,
    "start_time": "2022-04-12T09:56:39.211Z"
   },
   {
    "duration": 0,
    "start_time": "2022-04-12T09:56:39.212Z"
   },
   {
    "duration": 0,
    "start_time": "2022-04-12T09:56:39.214Z"
   },
   {
    "duration": 0,
    "start_time": "2022-04-12T09:56:39.215Z"
   },
   {
    "duration": 0,
    "start_time": "2022-04-12T09:56:39.217Z"
   },
   {
    "duration": 0,
    "start_time": "2022-04-12T09:56:39.218Z"
   },
   {
    "duration": 0,
    "start_time": "2022-04-12T09:56:39.219Z"
   },
   {
    "duration": 0,
    "start_time": "2022-04-12T09:56:39.221Z"
   },
   {
    "duration": 0,
    "start_time": "2022-04-12T09:56:39.222Z"
   },
   {
    "duration": 0,
    "start_time": "2022-04-12T09:56:39.223Z"
   },
   {
    "duration": 0,
    "start_time": "2022-04-12T09:56:39.225Z"
   },
   {
    "duration": 0,
    "start_time": "2022-04-12T09:56:39.227Z"
   },
   {
    "duration": 0,
    "start_time": "2022-04-12T09:56:39.228Z"
   },
   {
    "duration": 0,
    "start_time": "2022-04-12T09:56:39.230Z"
   },
   {
    "duration": 0,
    "start_time": "2022-04-12T09:56:39.231Z"
   },
   {
    "duration": 0,
    "start_time": "2022-04-12T09:56:39.284Z"
   },
   {
    "duration": 0,
    "start_time": "2022-04-12T09:56:39.286Z"
   },
   {
    "duration": 0,
    "start_time": "2022-04-12T09:56:39.288Z"
   },
   {
    "duration": 0,
    "start_time": "2022-04-12T09:56:39.289Z"
   },
   {
    "duration": 0,
    "start_time": "2022-04-12T09:56:39.290Z"
   },
   {
    "duration": 0,
    "start_time": "2022-04-12T09:56:39.292Z"
   },
   {
    "duration": 0,
    "start_time": "2022-04-12T09:56:39.293Z"
   },
   {
    "duration": 1177,
    "start_time": "2022-04-12T11:04:51.011Z"
   },
   {
    "duration": 1499,
    "start_time": "2022-04-12T11:05:10.186Z"
   },
   {
    "duration": 972,
    "start_time": "2022-04-12T11:09:59.866Z"
   },
   {
    "duration": 1007,
    "start_time": "2022-04-12T11:11:38.819Z"
   },
   {
    "duration": 15,
    "start_time": "2022-04-12T11:11:39.828Z"
   },
   {
    "duration": 1013,
    "start_time": "2022-04-12T11:14:07.899Z"
   },
   {
    "duration": 25,
    "start_time": "2022-04-12T11:14:46.593Z"
   },
   {
    "duration": 1062,
    "start_time": "2022-04-12T11:19:05.773Z"
   },
   {
    "duration": 1048,
    "start_time": "2022-04-12T11:19:16.620Z"
   },
   {
    "duration": 29,
    "start_time": "2022-04-12T11:19:21.684Z"
   },
   {
    "duration": 35,
    "start_time": "2022-04-12T11:19:28.452Z"
   },
   {
    "duration": 1036,
    "start_time": "2022-04-12T11:19:49.393Z"
   },
   {
    "duration": 1141,
    "start_time": "2022-04-12T11:20:42.120Z"
   },
   {
    "duration": 28,
    "start_time": "2022-04-12T11:20:46.541Z"
   },
   {
    "duration": 15,
    "start_time": "2022-04-12T11:20:59.909Z"
   },
   {
    "duration": 2143,
    "start_time": "2022-04-12T11:45:19.263Z"
   },
   {
    "duration": 39,
    "start_time": "2022-04-12T11:45:21.409Z"
   },
   {
    "duration": 27,
    "start_time": "2022-04-12T11:45:21.450Z"
   },
   {
    "duration": 23,
    "start_time": "2022-04-12T11:45:21.479Z"
   },
   {
    "duration": 58,
    "start_time": "2022-04-12T11:45:21.525Z"
   },
   {
    "duration": 17,
    "start_time": "2022-04-12T11:45:21.585Z"
   },
   {
    "duration": 5,
    "start_time": "2022-04-12T11:45:21.625Z"
   },
   {
    "duration": 10,
    "start_time": "2022-04-12T11:45:21.632Z"
   },
   {
    "duration": 20,
    "start_time": "2022-04-12T11:45:21.644Z"
   },
   {
    "duration": 5,
    "start_time": "2022-04-12T11:45:21.668Z"
   },
   {
    "duration": 70,
    "start_time": "2022-04-12T11:45:21.675Z"
   },
   {
    "duration": 5,
    "start_time": "2022-04-12T11:45:21.747Z"
   },
   {
    "duration": 9,
    "start_time": "2022-04-12T11:45:21.754Z"
   },
   {
    "duration": 11,
    "start_time": "2022-04-12T11:45:21.765Z"
   },
   {
    "duration": 8,
    "start_time": "2022-04-12T11:45:21.778Z"
   },
   {
    "duration": 47,
    "start_time": "2022-04-12T11:45:21.788Z"
   },
   {
    "duration": 7,
    "start_time": "2022-04-12T11:45:21.838Z"
   },
   {
    "duration": 17,
    "start_time": "2022-04-12T11:45:21.847Z"
   },
   {
    "duration": 66,
    "start_time": "2022-04-12T11:45:21.867Z"
   },
   {
    "duration": 28,
    "start_time": "2022-04-12T11:45:21.936Z"
   },
   {
    "duration": 57,
    "start_time": "2022-04-12T11:45:21.967Z"
   },
   {
    "duration": 7,
    "start_time": "2022-04-12T11:45:22.027Z"
   },
   {
    "duration": 397,
    "start_time": "2022-04-12T11:45:22.037Z"
   },
   {
    "duration": 100,
    "start_time": "2022-04-12T11:45:22.526Z"
   },
   {
    "duration": 156,
    "start_time": "2022-04-12T11:45:22.629Z"
   },
   {
    "duration": 5,
    "start_time": "2022-04-12T11:45:22.788Z"
   },
   {
    "duration": 18,
    "start_time": "2022-04-12T11:45:22.795Z"
   },
   {
    "duration": 1207,
    "start_time": "2022-04-12T11:45:22.818Z"
   },
   {
    "duration": 1132,
    "start_time": "2022-04-12T11:45:24.028Z"
   },
   {
    "duration": 1009,
    "start_time": "2022-04-12T11:45:25.162Z"
   },
   {
    "duration": 14,
    "start_time": "2022-04-12T11:45:26.173Z"
   },
   {
    "duration": 75,
    "start_time": "2022-04-12T11:45:26.189Z"
   },
   {
    "duration": 14,
    "start_time": "2022-04-12T11:45:26.266Z"
   },
   {
    "duration": 56,
    "start_time": "2022-04-12T11:45:26.283Z"
   },
   {
    "duration": 107,
    "start_time": "2022-04-12T11:45:26.427Z"
   },
   {
    "duration": 89,
    "start_time": "2022-04-12T11:45:26.536Z"
   },
   {
    "duration": 99,
    "start_time": "2022-04-12T11:45:26.630Z"
   },
   {
    "duration": 224,
    "start_time": "2022-04-12T11:45:26.731Z"
   },
   {
    "duration": 438,
    "start_time": "2022-04-12T11:45:26.957Z"
   },
   {
    "duration": 9,
    "start_time": "2022-04-12T11:45:27.397Z"
   },
   {
    "duration": 27,
    "start_time": "2022-04-12T11:45:27.408Z"
   },
   {
    "duration": 20,
    "start_time": "2022-04-12T11:45:27.437Z"
   },
   {
    "duration": 21,
    "start_time": "2022-04-12T11:45:27.459Z"
   },
   {
    "duration": 10,
    "start_time": "2022-04-12T11:45:27.482Z"
   },
   {
    "duration": 47,
    "start_time": "2022-04-12T11:45:27.494Z"
   },
   {
    "duration": 17,
    "start_time": "2022-04-12T11:45:27.543Z"
   },
   {
    "duration": 165,
    "start_time": "2022-04-12T11:45:27.562Z"
   },
   {
    "duration": 525,
    "start_time": "2022-04-12T11:45:27.729Z"
   },
   {
    "duration": 969,
    "start_time": "2022-04-12T11:45:28.258Z"
   },
   {
    "duration": 245,
    "start_time": "2022-04-12T11:45:29.230Z"
   },
   {
    "duration": 459,
    "start_time": "2022-04-12T11:45:29.478Z"
   },
   {
    "duration": 186,
    "start_time": "2022-04-12T11:45:29.940Z"
   },
   {
    "duration": 109,
    "start_time": "2022-04-12T11:45:30.128Z"
   },
   {
    "duration": 621,
    "start_time": "2022-04-12T11:45:30.240Z"
   },
   {
    "duration": 68,
    "start_time": "2022-04-12T11:45:30.863Z"
   },
   {
    "duration": 12,
    "start_time": "2022-04-12T11:45:30.934Z"
   },
   {
    "duration": 26,
    "start_time": "2022-04-12T11:45:30.949Z"
   },
   {
    "duration": 6,
    "start_time": "2022-04-12T11:46:09.136Z"
   },
   {
    "duration": 10,
    "start_time": "2022-04-12T11:46:11.344Z"
   },
   {
    "duration": 1525,
    "start_time": "2022-04-12T11:46:14.032Z"
   },
   {
    "duration": 13,
    "start_time": "2022-04-12T11:46:22.495Z"
   },
   {
    "duration": 1031,
    "start_time": "2022-04-12T11:47:30.713Z"
   },
   {
    "duration": 1055,
    "start_time": "2022-04-12T11:49:17.617Z"
   },
   {
    "duration": 12,
    "start_time": "2022-04-12T11:49:18.675Z"
   },
   {
    "duration": 1008,
    "start_time": "2022-04-12T11:49:54.266Z"
   },
   {
    "duration": 990,
    "start_time": "2022-04-12T11:50:38.571Z"
   },
   {
    "duration": 11,
    "start_time": "2022-04-12T11:50:40.322Z"
   },
   {
    "duration": 1005,
    "start_time": "2022-04-12T11:50:43.826Z"
   },
   {
    "duration": 1192,
    "start_time": "2022-04-12T11:50:55.378Z"
   },
   {
    "duration": 551,
    "start_time": "2022-04-12T11:51:07.761Z"
   },
   {
    "duration": 2127,
    "start_time": "2022-04-12T11:51:23.114Z"
   },
   {
    "duration": 34,
    "start_time": "2022-04-12T11:51:25.244Z"
   },
   {
    "duration": 25,
    "start_time": "2022-04-12T11:51:25.281Z"
   },
   {
    "duration": 19,
    "start_time": "2022-04-12T11:51:25.331Z"
   },
   {
    "duration": 79,
    "start_time": "2022-04-12T11:51:25.353Z"
   },
   {
    "duration": 19,
    "start_time": "2022-04-12T11:51:25.435Z"
   },
   {
    "duration": 5,
    "start_time": "2022-04-12T11:51:25.457Z"
   },
   {
    "duration": 14,
    "start_time": "2022-04-12T11:51:25.465Z"
   },
   {
    "duration": 58,
    "start_time": "2022-04-12T11:51:25.482Z"
   },
   {
    "duration": 5,
    "start_time": "2022-04-12T11:51:25.543Z"
   },
   {
    "duration": 30,
    "start_time": "2022-04-12T11:51:25.551Z"
   },
   {
    "duration": 5,
    "start_time": "2022-04-12T11:51:25.583Z"
   },
   {
    "duration": 46,
    "start_time": "2022-04-12T11:51:25.591Z"
   },
   {
    "duration": 10,
    "start_time": "2022-04-12T11:51:25.640Z"
   },
   {
    "duration": 8,
    "start_time": "2022-04-12T11:51:25.653Z"
   },
   {
    "duration": 18,
    "start_time": "2022-04-12T11:51:25.664Z"
   },
   {
    "duration": 39,
    "start_time": "2022-04-12T11:51:25.685Z"
   },
   {
    "duration": 18,
    "start_time": "2022-04-12T11:51:25.727Z"
   },
   {
    "duration": 41,
    "start_time": "2022-04-12T11:51:25.747Z"
   },
   {
    "duration": 29,
    "start_time": "2022-04-12T11:51:25.825Z"
   },
   {
    "duration": 28,
    "start_time": "2022-04-12T11:51:25.856Z"
   },
   {
    "duration": 38,
    "start_time": "2022-04-12T11:51:25.887Z"
   },
   {
    "duration": 495,
    "start_time": "2022-04-12T11:51:25.928Z"
   },
   {
    "duration": 99,
    "start_time": "2022-04-12T11:51:26.435Z"
   },
   {
    "duration": 154,
    "start_time": "2022-04-12T11:51:26.536Z"
   },
   {
    "duration": 5,
    "start_time": "2022-04-12T11:51:26.693Z"
   },
   {
    "duration": 25,
    "start_time": "2022-04-12T11:51:26.701Z"
   },
   {
    "duration": 1298,
    "start_time": "2022-04-12T11:51:26.734Z"
   },
   {
    "duration": 1226,
    "start_time": "2022-04-12T11:51:28.035Z"
   },
   {
    "duration": 14,
    "start_time": "2022-04-12T11:51:29.264Z"
   },
   {
    "duration": 1055,
    "start_time": "2022-04-12T11:51:29.281Z"
   },
   {
    "duration": 85,
    "start_time": "2022-04-12T11:51:30.339Z"
   },
   {
    "duration": 13,
    "start_time": "2022-04-12T11:51:30.427Z"
   },
   {
    "duration": 183,
    "start_time": "2022-04-12T11:51:30.442Z"
   },
   {
    "duration": 12,
    "start_time": "2022-04-12T11:51:30.628Z"
   },
   {
    "duration": 90,
    "start_time": "2022-04-12T11:51:30.643Z"
   },
   {
    "duration": 91,
    "start_time": "2022-04-12T11:51:30.737Z"
   },
   {
    "duration": 227,
    "start_time": "2022-04-12T11:51:30.830Z"
   },
   {
    "duration": 466,
    "start_time": "2022-04-12T11:51:31.059Z"
   },
   {
    "duration": 8,
    "start_time": "2022-04-12T11:51:31.527Z"
   },
   {
    "duration": 8,
    "start_time": "2022-04-12T11:51:31.537Z"
   },
   {
    "duration": 21,
    "start_time": "2022-04-12T11:51:31.548Z"
   },
   {
    "duration": 22,
    "start_time": "2022-04-12T11:51:31.572Z"
   },
   {
    "duration": 37,
    "start_time": "2022-04-12T11:51:31.596Z"
   },
   {
    "duration": 19,
    "start_time": "2022-04-12T11:51:31.635Z"
   },
   {
    "duration": 17,
    "start_time": "2022-04-12T11:51:31.657Z"
   },
   {
    "duration": 175,
    "start_time": "2022-04-12T11:51:31.676Z"
   },
   {
    "duration": 470,
    "start_time": "2022-04-12T11:51:31.854Z"
   },
   {
    "duration": 612,
    "start_time": "2022-04-12T11:51:32.327Z"
   },
   {
    "duration": 233,
    "start_time": "2022-04-12T11:51:32.943Z"
   },
   {
    "duration": 447,
    "start_time": "2022-04-12T11:51:33.178Z"
   },
   {
    "duration": 104,
    "start_time": "2022-04-12T11:51:33.628Z"
   },
   {
    "duration": 195,
    "start_time": "2022-04-12T11:51:33.735Z"
   },
   {
    "duration": 505,
    "start_time": "2022-04-12T11:51:33.934Z"
   },
   {
    "duration": 33,
    "start_time": "2022-04-12T11:51:34.442Z"
   },
   {
    "duration": 10,
    "start_time": "2022-04-12T11:51:34.478Z"
   },
   {
    "duration": 45,
    "start_time": "2022-04-12T11:51:34.490Z"
   },
   {
    "duration": 61,
    "start_time": "2022-04-12T11:52:28.780Z"
   },
   {
    "duration": 107,
    "start_time": "2022-04-12T11:52:55.656Z"
   },
   {
    "duration": 52,
    "start_time": "2022-04-12T11:53:09.790Z"
   },
   {
    "duration": 93,
    "start_time": "2022-04-12T11:54:12.737Z"
   },
   {
    "duration": 100,
    "start_time": "2022-04-12T11:54:21.932Z"
   },
   {
    "duration": 28,
    "start_time": "2022-04-12T12:02:26.109Z"
   },
   {
    "duration": 68,
    "start_time": "2022-04-12T12:05:43.075Z"
   },
   {
    "duration": 13,
    "start_time": "2022-04-12T12:05:57.758Z"
   },
   {
    "duration": 2044,
    "start_time": "2022-04-12T12:06:24.721Z"
   },
   {
    "duration": 47,
    "start_time": "2022-04-12T12:06:26.768Z"
   },
   {
    "duration": 29,
    "start_time": "2022-04-12T12:06:26.817Z"
   },
   {
    "duration": 21,
    "start_time": "2022-04-12T12:06:26.850Z"
   },
   {
    "duration": 90,
    "start_time": "2022-04-12T12:06:26.873Z"
   },
   {
    "duration": 18,
    "start_time": "2022-04-12T12:06:26.965Z"
   },
   {
    "duration": 5,
    "start_time": "2022-04-12T12:06:26.985Z"
   },
   {
    "duration": 38,
    "start_time": "2022-04-12T12:06:26.993Z"
   },
   {
    "duration": 36,
    "start_time": "2022-04-12T12:06:27.035Z"
   },
   {
    "duration": 7,
    "start_time": "2022-04-12T12:06:27.075Z"
   },
   {
    "duration": 44,
    "start_time": "2022-04-12T12:06:27.084Z"
   },
   {
    "duration": 8,
    "start_time": "2022-04-12T12:06:27.131Z"
   },
   {
    "duration": 10,
    "start_time": "2022-04-12T12:06:27.141Z"
   },
   {
    "duration": 9,
    "start_time": "2022-04-12T12:06:27.153Z"
   },
   {
    "duration": 13,
    "start_time": "2022-04-12T12:06:27.164Z"
   },
   {
    "duration": 16,
    "start_time": "2022-04-12T12:06:27.180Z"
   },
   {
    "duration": 10,
    "start_time": "2022-04-12T12:06:27.224Z"
   },
   {
    "duration": 20,
    "start_time": "2022-04-12T12:06:27.236Z"
   },
   {
    "duration": 32,
    "start_time": "2022-04-12T12:06:27.258Z"
   },
   {
    "duration": 64,
    "start_time": "2022-04-12T12:06:27.292Z"
   },
   {
    "duration": 30,
    "start_time": "2022-04-12T12:06:27.359Z"
   },
   {
    "duration": 7,
    "start_time": "2022-04-12T12:06:27.392Z"
   },
   {
    "duration": 405,
    "start_time": "2022-04-12T12:06:27.430Z"
   },
   {
    "duration": 105,
    "start_time": "2022-04-12T12:06:27.933Z"
   },
   {
    "duration": 153,
    "start_time": "2022-04-12T12:06:28.041Z"
   },
   {
    "duration": 5,
    "start_time": "2022-04-12T12:06:28.196Z"
   },
   {
    "duration": 28,
    "start_time": "2022-04-12T12:06:28.204Z"
   },
   {
    "duration": 1191,
    "start_time": "2022-04-12T12:06:28.239Z"
   },
   {
    "duration": 1241,
    "start_time": "2022-04-12T12:06:29.435Z"
   },
   {
    "duration": 13,
    "start_time": "2022-04-12T12:06:30.678Z"
   },
   {
    "duration": 1209,
    "start_time": "2022-04-12T12:06:30.693Z"
   },
   {
    "duration": 68,
    "start_time": "2022-04-12T12:06:31.904Z"
   },
   {
    "duration": 13,
    "start_time": "2022-04-12T12:06:31.974Z"
   },
   {
    "duration": 79,
    "start_time": "2022-04-12T12:06:31.989Z"
   },
   {
    "duration": 64,
    "start_time": "2022-04-12T12:06:32.070Z"
   },
   {
    "duration": 108,
    "start_time": "2022-04-12T12:06:32.142Z"
   },
   {
    "duration": 80,
    "start_time": "2022-04-12T12:06:32.253Z"
   },
   {
    "duration": 96,
    "start_time": "2022-04-12T12:06:32.339Z"
   },
   {
    "duration": 272,
    "start_time": "2022-04-12T12:06:32.439Z"
   },
   {
    "duration": 465,
    "start_time": "2022-04-12T12:06:32.714Z"
   },
   {
    "duration": 9,
    "start_time": "2022-04-12T12:06:33.181Z"
   },
   {
    "duration": 18,
    "start_time": "2022-04-12T12:06:33.192Z"
   },
   {
    "duration": 31,
    "start_time": "2022-04-12T12:06:33.212Z"
   },
   {
    "duration": 21,
    "start_time": "2022-04-12T12:06:33.246Z"
   },
   {
    "duration": 11,
    "start_time": "2022-04-12T12:06:33.269Z"
   },
   {
    "duration": 52,
    "start_time": "2022-04-12T12:06:33.282Z"
   },
   {
    "duration": 19,
    "start_time": "2022-04-12T12:06:33.338Z"
   },
   {
    "duration": 172,
    "start_time": "2022-04-12T12:06:33.360Z"
   },
   {
    "duration": 413,
    "start_time": "2022-04-12T12:06:33.536Z"
   },
   {
    "duration": 722,
    "start_time": "2022-04-12T12:06:33.952Z"
   },
   {
    "duration": 170,
    "start_time": "2022-04-12T12:06:34.725Z"
   },
   {
    "duration": 14,
    "start_time": "2022-04-12T12:06:34.897Z"
   },
   {
    "duration": 488,
    "start_time": "2022-04-12T12:06:34.930Z"
   },
   {
    "duration": 120,
    "start_time": "2022-04-12T12:06:35.420Z"
   },
   {
    "duration": 188,
    "start_time": "2022-04-12T12:06:35.543Z"
   },
   {
    "duration": 523,
    "start_time": "2022-04-12T12:06:35.740Z"
   },
   {
    "duration": 32,
    "start_time": "2022-04-12T12:06:36.265Z"
   },
   {
    "duration": 26,
    "start_time": "2022-04-12T12:06:36.300Z"
   },
   {
    "duration": 27,
    "start_time": "2022-04-12T12:06:36.328Z"
   },
   {
    "duration": 37,
    "start_time": "2022-04-12T12:16:26.340Z"
   },
   {
    "duration": 126,
    "start_time": "2022-04-12T12:17:03.308Z"
   },
   {
    "duration": 195,
    "start_time": "2022-04-12T12:27:11.511Z"
   },
   {
    "duration": 47,
    "start_time": "2022-04-12T12:27:27.927Z"
   },
   {
    "duration": 33,
    "start_time": "2022-04-12T12:27:35.838Z"
   },
   {
    "duration": 28,
    "start_time": "2022-04-12T12:28:54.880Z"
   },
   {
    "duration": 54,
    "start_time": "2022-04-12T12:30:39.569Z"
   },
   {
    "duration": 69,
    "start_time": "2022-04-12T12:31:00.365Z"
   },
   {
    "duration": 46,
    "start_time": "2022-04-12T12:31:50.696Z"
   },
   {
    "duration": 45,
    "start_time": "2022-04-12T12:32:00.313Z"
   },
   {
    "duration": 420,
    "start_time": "2022-04-12T12:37:00.288Z"
   },
   {
    "duration": 64,
    "start_time": "2022-04-12T12:37:20.457Z"
   },
   {
    "duration": 13,
    "start_time": "2022-04-12T12:37:25.816Z"
   },
   {
    "duration": 33,
    "start_time": "2022-04-12T12:37:29.696Z"
   },
   {
    "duration": 33,
    "start_time": "2022-04-12T12:38:48.961Z"
   },
   {
    "duration": 34,
    "start_time": "2022-04-12T12:39:19.249Z"
   },
   {
    "duration": 71,
    "start_time": "2022-04-12T12:39:58.161Z"
   },
   {
    "duration": 29,
    "start_time": "2022-04-12T12:41:18.490Z"
   },
   {
    "duration": 28,
    "start_time": "2022-04-12T12:42:18.771Z"
   },
   {
    "duration": 13,
    "start_time": "2022-04-12T12:43:13.917Z"
   },
   {
    "duration": 13,
    "start_time": "2022-04-12T12:43:36.907Z"
   },
   {
    "duration": 2042,
    "start_time": "2022-04-12T12:43:45.743Z"
   },
   {
    "duration": 32,
    "start_time": "2022-04-12T12:43:47.788Z"
   },
   {
    "duration": 25,
    "start_time": "2022-04-12T12:43:47.822Z"
   },
   {
    "duration": 20,
    "start_time": "2022-04-12T12:43:47.850Z"
   },
   {
    "duration": 87,
    "start_time": "2022-04-12T12:43:47.873Z"
   },
   {
    "duration": 17,
    "start_time": "2022-04-12T12:43:47.962Z"
   },
   {
    "duration": 5,
    "start_time": "2022-04-12T12:43:47.981Z"
   },
   {
    "duration": 37,
    "start_time": "2022-04-12T12:43:47.989Z"
   },
   {
    "duration": 23,
    "start_time": "2022-04-12T12:43:48.029Z"
   },
   {
    "duration": 9,
    "start_time": "2022-04-12T12:43:48.055Z"
   },
   {
    "duration": 35,
    "start_time": "2022-04-12T12:43:48.067Z"
   },
   {
    "duration": 5,
    "start_time": "2022-04-12T12:43:48.124Z"
   },
   {
    "duration": 12,
    "start_time": "2022-04-12T12:43:48.132Z"
   },
   {
    "duration": 12,
    "start_time": "2022-04-12T12:43:48.146Z"
   },
   {
    "duration": 20,
    "start_time": "2022-04-12T12:43:48.160Z"
   },
   {
    "duration": 42,
    "start_time": "2022-04-12T12:43:48.182Z"
   },
   {
    "duration": 4,
    "start_time": "2022-04-12T12:43:48.227Z"
   },
   {
    "duration": 22,
    "start_time": "2022-04-12T12:43:48.235Z"
   },
   {
    "duration": 32,
    "start_time": "2022-04-12T12:43:48.259Z"
   },
   {
    "duration": 55,
    "start_time": "2022-04-12T12:43:48.293Z"
   },
   {
    "duration": 29,
    "start_time": "2022-04-12T12:43:48.350Z"
   },
   {
    "duration": 7,
    "start_time": "2022-04-12T12:43:48.381Z"
   },
   {
    "duration": 544,
    "start_time": "2022-04-12T12:43:48.390Z"
   },
   {
    "duration": 15,
    "start_time": "2022-04-12T12:43:48.936Z"
   },
   {
    "duration": 245,
    "start_time": "2022-04-12T12:43:48.953Z"
   },
   {
    "duration": 6,
    "start_time": "2022-04-12T12:43:49.200Z"
   },
   {
    "duration": 20,
    "start_time": "2022-04-12T12:43:49.208Z"
   },
   {
    "duration": 1101,
    "start_time": "2022-04-12T12:43:49.234Z"
   },
   {
    "duration": 1104,
    "start_time": "2022-04-12T12:43:50.423Z"
   },
   {
    "duration": 13,
    "start_time": "2022-04-12T12:43:51.530Z"
   },
   {
    "duration": 1029,
    "start_time": "2022-04-12T12:43:51.546Z"
   },
   {
    "duration": 59,
    "start_time": "2022-04-12T12:43:52.578Z"
   },
   {
    "duration": 14,
    "start_time": "2022-04-12T12:43:52.639Z"
   },
   {
    "duration": 92,
    "start_time": "2022-04-12T12:43:52.656Z"
   },
   {
    "duration": 81,
    "start_time": "2022-04-12T12:43:52.751Z"
   },
   {
    "duration": 98,
    "start_time": "2022-04-12T12:43:52.835Z"
   },
   {
    "duration": 92,
    "start_time": "2022-04-12T12:43:52.935Z"
   },
   {
    "duration": 96,
    "start_time": "2022-04-12T12:43:53.031Z"
   },
   {
    "duration": 218,
    "start_time": "2022-04-12T12:43:53.129Z"
   },
   {
    "duration": 452,
    "start_time": "2022-04-12T12:43:53.349Z"
   },
   {
    "duration": 9,
    "start_time": "2022-04-12T12:43:53.804Z"
   },
   {
    "duration": 13,
    "start_time": "2022-04-12T12:43:53.816Z"
   },
   {
    "duration": 18,
    "start_time": "2022-04-12T12:43:53.832Z"
   },
   {
    "duration": 24,
    "start_time": "2022-04-12T12:43:53.852Z"
   },
   {
    "duration": 49,
    "start_time": "2022-04-12T12:43:53.879Z"
   },
   {
    "duration": 20,
    "start_time": "2022-04-12T12:43:53.931Z"
   },
   {
    "duration": 18,
    "start_time": "2022-04-12T12:43:53.954Z"
   },
   {
    "duration": 174,
    "start_time": "2022-04-12T12:43:53.974Z"
   },
   {
    "duration": 387,
    "start_time": "2022-04-12T12:43:54.150Z"
   },
   {
    "duration": 610,
    "start_time": "2022-04-12T12:43:54.625Z"
   },
   {
    "duration": 232,
    "start_time": "2022-04-12T12:43:55.238Z"
   },
   {
    "duration": 11,
    "start_time": "2022-04-12T12:43:55.472Z"
   },
   {
    "duration": 461,
    "start_time": "2022-04-12T12:43:55.486Z"
   },
   {
    "duration": 29,
    "start_time": "2022-04-12T12:43:55.949Z"
   },
   {
    "duration": 146,
    "start_time": "2022-04-12T12:43:55.980Z"
   },
   {
    "duration": 106,
    "start_time": "2022-04-12T12:43:56.132Z"
   },
   {
    "duration": 507,
    "start_time": "2022-04-12T12:43:56.325Z"
   },
   {
    "duration": 41,
    "start_time": "2022-04-12T12:43:56.834Z"
   },
   {
    "duration": 55,
    "start_time": "2022-04-12T12:43:56.877Z"
   },
   {
    "duration": 8,
    "start_time": "2022-04-12T12:43:56.934Z"
   },
   {
    "duration": 14,
    "start_time": "2022-04-12T12:43:56.944Z"
   },
   {
    "duration": 10,
    "start_time": "2022-04-12T12:44:21.708Z"
   },
   {
    "duration": 16,
    "start_time": "2022-04-12T12:44:48.229Z"
   },
   {
    "duration": 15,
    "start_time": "2022-04-12T12:46:45.845Z"
   },
   {
    "duration": 16,
    "start_time": "2022-04-12T12:47:26.484Z"
   },
   {
    "duration": 14,
    "start_time": "2022-04-12T12:47:41.134Z"
   },
   {
    "duration": 126,
    "start_time": "2022-04-12T13:17:31.264Z"
   },
   {
    "duration": 1926,
    "start_time": "2022-04-12T13:33:50.913Z"
   },
   {
    "duration": 32,
    "start_time": "2022-04-12T13:33:52.842Z"
   },
   {
    "duration": 26,
    "start_time": "2022-04-12T13:33:52.876Z"
   },
   {
    "duration": 37,
    "start_time": "2022-04-12T13:33:52.905Z"
   },
   {
    "duration": 84,
    "start_time": "2022-04-12T13:33:52.945Z"
   },
   {
    "duration": 19,
    "start_time": "2022-04-12T13:33:53.031Z"
   },
   {
    "duration": 5,
    "start_time": "2022-04-12T13:33:53.053Z"
   },
   {
    "duration": 9,
    "start_time": "2022-04-12T13:33:53.061Z"
   },
   {
    "duration": 59,
    "start_time": "2022-04-12T13:33:53.073Z"
   },
   {
    "duration": 7,
    "start_time": "2022-04-12T13:33:53.137Z"
   },
   {
    "duration": 28,
    "start_time": "2022-04-12T13:33:53.146Z"
   },
   {
    "duration": 6,
    "start_time": "2022-04-12T13:33:53.176Z"
   },
   {
    "duration": 44,
    "start_time": "2022-04-12T13:33:53.185Z"
   },
   {
    "duration": 8,
    "start_time": "2022-04-12T13:33:53.232Z"
   },
   {
    "duration": 8,
    "start_time": "2022-04-12T13:33:53.242Z"
   },
   {
    "duration": 17,
    "start_time": "2022-04-12T13:33:53.252Z"
   },
   {
    "duration": 19,
    "start_time": "2022-04-12T13:33:53.272Z"
   },
   {
    "duration": 39,
    "start_time": "2022-04-12T13:33:53.294Z"
   },
   {
    "duration": 32,
    "start_time": "2022-04-12T13:33:53.335Z"
   },
   {
    "duration": 26,
    "start_time": "2022-04-12T13:33:53.370Z"
   },
   {
    "duration": 26,
    "start_time": "2022-04-12T13:33:53.424Z"
   },
   {
    "duration": 6,
    "start_time": "2022-04-12T13:33:53.452Z"
   },
   {
    "duration": 464,
    "start_time": "2022-04-12T13:33:53.460Z"
   },
   {
    "duration": 100,
    "start_time": "2022-04-12T13:33:53.927Z"
   },
   {
    "duration": 152,
    "start_time": "2022-04-12T13:33:54.029Z"
   },
   {
    "duration": 5,
    "start_time": "2022-04-12T13:33:54.183Z"
   },
   {
    "duration": 7,
    "start_time": "2022-04-12T13:33:54.190Z"
   },
   {
    "duration": 1204,
    "start_time": "2022-04-12T13:33:54.227Z"
   },
   {
    "duration": 1107,
    "start_time": "2022-04-12T13:33:55.434Z"
   },
   {
    "duration": 12,
    "start_time": "2022-04-12T13:33:56.543Z"
   },
   {
    "duration": 1119,
    "start_time": "2022-04-12T13:33:56.558Z"
   },
   {
    "duration": 63,
    "start_time": "2022-04-12T13:33:57.679Z"
   },
   {
    "duration": 12,
    "start_time": "2022-04-12T13:33:57.744Z"
   },
   {
    "duration": 86,
    "start_time": "2022-04-12T13:33:57.758Z"
   },
   {
    "duration": 179,
    "start_time": "2022-04-12T13:33:57.847Z"
   },
   {
    "duration": 12,
    "start_time": "2022-04-12T13:33:58.028Z"
   },
   {
    "duration": 93,
    "start_time": "2022-04-12T13:33:58.043Z"
   },
   {
    "duration": 87,
    "start_time": "2022-04-12T13:33:58.139Z"
   },
   {
    "duration": 219,
    "start_time": "2022-04-12T13:33:58.228Z"
   },
   {
    "duration": 362,
    "start_time": "2022-04-12T13:33:58.449Z"
   },
   {
    "duration": 12,
    "start_time": "2022-04-12T13:33:58.814Z"
   },
   {
    "duration": 7,
    "start_time": "2022-04-12T13:33:58.828Z"
   },
   {
    "duration": 18,
    "start_time": "2022-04-12T13:33:58.837Z"
   },
   {
    "duration": 20,
    "start_time": "2022-04-12T13:33:58.857Z"
   },
   {
    "duration": 53,
    "start_time": "2022-04-12T13:33:58.879Z"
   },
   {
    "duration": 25,
    "start_time": "2022-04-12T13:33:58.934Z"
   },
   {
    "duration": 21,
    "start_time": "2022-04-12T13:33:58.961Z"
   },
   {
    "duration": 218,
    "start_time": "2022-04-12T13:33:58.985Z"
   },
   {
    "duration": 528,
    "start_time": "2022-04-12T13:33:59.206Z"
   },
   {
    "duration": 697,
    "start_time": "2022-04-12T13:33:59.738Z"
   },
   {
    "duration": 238,
    "start_time": "2022-04-12T13:34:00.440Z"
   },
   {
    "duration": 13,
    "start_time": "2022-04-12T13:34:00.680Z"
   },
   {
    "duration": 454,
    "start_time": "2022-04-12T13:34:00.696Z"
   },
   {
    "duration": 30,
    "start_time": "2022-04-12T13:34:01.153Z"
   },
   {
    "duration": 140,
    "start_time": "2022-04-12T13:34:01.186Z"
   },
   {
    "duration": 105,
    "start_time": "2022-04-12T13:34:01.330Z"
   },
   {
    "duration": 601,
    "start_time": "2022-04-12T13:34:01.438Z"
   },
   {
    "duration": 35,
    "start_time": "2022-04-12T13:34:02.042Z"
   },
   {
    "duration": 50,
    "start_time": "2022-04-12T13:34:02.079Z"
   },
   {
    "duration": 8,
    "start_time": "2022-04-12T13:34:02.131Z"
   },
   {
    "duration": 20,
    "start_time": "2022-04-12T13:34:02.141Z"
   },
   {
    "duration": 2513,
    "start_time": "2022-04-12T13:38:06.711Z"
   },
   {
    "duration": 44,
    "start_time": "2022-04-12T13:38:09.228Z"
   },
   {
    "duration": 46,
    "start_time": "2022-04-12T13:38:09.280Z"
   },
   {
    "duration": 25,
    "start_time": "2022-04-12T13:38:09.329Z"
   },
   {
    "duration": 105,
    "start_time": "2022-04-12T13:38:09.356Z"
   },
   {
    "duration": 21,
    "start_time": "2022-04-12T13:38:09.464Z"
   },
   {
    "duration": 6,
    "start_time": "2022-04-12T13:38:09.487Z"
   },
   {
    "duration": 34,
    "start_time": "2022-04-12T13:38:09.495Z"
   },
   {
    "duration": 20,
    "start_time": "2022-04-12T13:38:09.533Z"
   },
   {
    "duration": 18,
    "start_time": "2022-04-12T13:38:09.555Z"
   },
   {
    "duration": 54,
    "start_time": "2022-04-12T13:38:09.575Z"
   },
   {
    "duration": 5,
    "start_time": "2022-04-12T13:38:09.632Z"
   },
   {
    "duration": 8,
    "start_time": "2022-04-12T13:38:09.639Z"
   },
   {
    "duration": 9,
    "start_time": "2022-04-12T13:38:09.650Z"
   },
   {
    "duration": 8,
    "start_time": "2022-04-12T13:38:09.661Z"
   },
   {
    "duration": 60,
    "start_time": "2022-04-12T13:38:09.672Z"
   },
   {
    "duration": 4,
    "start_time": "2022-04-12T13:38:09.734Z"
   },
   {
    "duration": 16,
    "start_time": "2022-04-12T13:38:09.740Z"
   },
   {
    "duration": 31,
    "start_time": "2022-04-12T13:38:09.758Z"
   },
   {
    "duration": 28,
    "start_time": "2022-04-12T13:38:09.824Z"
   },
   {
    "duration": 27,
    "start_time": "2022-04-12T13:38:09.854Z"
   },
   {
    "duration": 8,
    "start_time": "2022-04-12T13:38:09.884Z"
   },
   {
    "duration": 439,
    "start_time": "2022-04-12T13:38:09.894Z"
   },
   {
    "duration": 190,
    "start_time": "2022-04-12T13:38:10.336Z"
   },
   {
    "duration": 145,
    "start_time": "2022-04-12T13:38:10.529Z"
   },
   {
    "duration": 5,
    "start_time": "2022-04-12T13:38:10.676Z"
   },
   {
    "duration": 8,
    "start_time": "2022-04-12T13:38:10.689Z"
   },
   {
    "duration": 1224,
    "start_time": "2022-04-12T13:38:10.699Z"
   },
   {
    "duration": 1123,
    "start_time": "2022-04-12T13:38:11.927Z"
   },
   {
    "duration": 12,
    "start_time": "2022-04-12T13:38:13.052Z"
   },
   {
    "duration": 1027,
    "start_time": "2022-04-12T13:38:13.066Z"
   },
   {
    "duration": 63,
    "start_time": "2022-04-12T13:38:14.096Z"
   },
   {
    "duration": 14,
    "start_time": "2022-04-12T13:38:14.161Z"
   },
   {
    "duration": 81,
    "start_time": "2022-04-12T13:38:14.178Z"
   },
   {
    "duration": 68,
    "start_time": "2022-04-12T13:38:14.261Z"
   },
   {
    "duration": 104,
    "start_time": "2022-04-12T13:38:14.332Z"
   },
   {
    "duration": 88,
    "start_time": "2022-04-12T13:38:14.439Z"
   },
   {
    "duration": 95,
    "start_time": "2022-04-12T13:38:14.530Z"
   },
   {
    "duration": 213,
    "start_time": "2022-04-12T13:38:14.628Z"
   },
   {
    "duration": 473,
    "start_time": "2022-04-12T13:38:14.844Z"
   },
   {
    "duration": 8,
    "start_time": "2022-04-12T13:38:15.324Z"
   },
   {
    "duration": 12,
    "start_time": "2022-04-12T13:38:15.335Z"
   },
   {
    "duration": 19,
    "start_time": "2022-04-12T13:38:15.349Z"
   },
   {
    "duration": 20,
    "start_time": "2022-04-12T13:38:15.371Z"
   },
   {
    "duration": 39,
    "start_time": "2022-04-12T13:38:15.394Z"
   },
   {
    "duration": 18,
    "start_time": "2022-04-12T13:38:15.435Z"
   },
   {
    "duration": 16,
    "start_time": "2022-04-12T13:38:15.455Z"
   },
   {
    "duration": 227,
    "start_time": "2022-04-12T13:38:15.474Z"
   },
   {
    "duration": 423,
    "start_time": "2022-04-12T13:38:15.703Z"
   },
   {
    "duration": 618,
    "start_time": "2022-04-12T13:38:16.129Z"
   },
   {
    "duration": 224,
    "start_time": "2022-04-12T13:38:16.751Z"
   },
   {
    "duration": 11,
    "start_time": "2022-04-12T13:38:16.977Z"
   },
   {
    "duration": 460,
    "start_time": "2022-04-12T13:38:16.990Z"
   },
   {
    "duration": 27,
    "start_time": "2022-04-12T13:38:17.453Z"
   },
   {
    "duration": 143,
    "start_time": "2022-04-12T13:38:17.483Z"
   },
   {
    "duration": 106,
    "start_time": "2022-04-12T13:38:17.629Z"
   },
   {
    "duration": 587,
    "start_time": "2022-04-12T13:38:17.738Z"
   },
   {
    "duration": 33,
    "start_time": "2022-04-12T13:38:18.328Z"
   },
   {
    "duration": 29,
    "start_time": "2022-04-12T13:38:18.363Z"
   },
   {
    "duration": 36,
    "start_time": "2022-04-12T13:38:18.395Z"
   },
   {
    "duration": 14,
    "start_time": "2022-04-12T13:38:18.433Z"
   },
   {
    "duration": 1989,
    "start_time": "2022-04-12T13:39:22.300Z"
   },
   {
    "duration": 37,
    "start_time": "2022-04-12T13:39:24.292Z"
   },
   {
    "duration": 24,
    "start_time": "2022-04-12T13:39:24.335Z"
   },
   {
    "duration": 21,
    "start_time": "2022-04-12T13:39:24.361Z"
   },
   {
    "duration": 91,
    "start_time": "2022-04-12T13:39:24.384Z"
   },
   {
    "duration": 16,
    "start_time": "2022-04-12T13:39:24.477Z"
   },
   {
    "duration": 29,
    "start_time": "2022-04-12T13:39:24.495Z"
   },
   {
    "duration": 7,
    "start_time": "2022-04-12T13:39:24.527Z"
   },
   {
    "duration": 22,
    "start_time": "2022-04-12T13:39:24.538Z"
   },
   {
    "duration": 11,
    "start_time": "2022-04-12T13:39:24.562Z"
   },
   {
    "duration": 66,
    "start_time": "2022-04-12T13:39:24.575Z"
   },
   {
    "duration": 5,
    "start_time": "2022-04-12T13:39:24.644Z"
   },
   {
    "duration": 15,
    "start_time": "2022-04-12T13:39:24.651Z"
   },
   {
    "duration": 11,
    "start_time": "2022-04-12T13:39:24.668Z"
   },
   {
    "duration": 10,
    "start_time": "2022-04-12T13:39:24.681Z"
   },
   {
    "duration": 19,
    "start_time": "2022-04-12T13:39:24.725Z"
   },
   {
    "duration": 7,
    "start_time": "2022-04-12T13:39:24.746Z"
   },
   {
    "duration": 17,
    "start_time": "2022-04-12T13:39:24.755Z"
   },
   {
    "duration": 61,
    "start_time": "2022-04-12T13:39:24.774Z"
   },
   {
    "duration": 28,
    "start_time": "2022-04-12T13:39:24.836Z"
   },
   {
    "duration": 60,
    "start_time": "2022-04-12T13:39:24.866Z"
   },
   {
    "duration": 7,
    "start_time": "2022-04-12T13:39:24.929Z"
   },
   {
    "duration": 397,
    "start_time": "2022-04-12T13:39:24.939Z"
   },
   {
    "duration": 101,
    "start_time": "2022-04-12T13:39:25.425Z"
   },
   {
    "duration": 156,
    "start_time": "2022-04-12T13:39:25.529Z"
   },
   {
    "duration": 4,
    "start_time": "2022-04-12T13:39:25.688Z"
   },
   {
    "duration": 23,
    "start_time": "2022-04-12T13:39:25.701Z"
   },
   {
    "duration": 1202,
    "start_time": "2022-04-12T13:39:25.727Z"
   },
   {
    "duration": 1154,
    "start_time": "2022-04-12T13:39:26.932Z"
   },
   {
    "duration": 13,
    "start_time": "2022-04-12T13:39:28.089Z"
   },
   {
    "duration": 1070,
    "start_time": "2022-04-12T13:39:28.105Z"
   },
   {
    "duration": 64,
    "start_time": "2022-04-12T13:39:29.177Z"
   },
   {
    "duration": 11,
    "start_time": "2022-04-12T13:39:29.243Z"
   },
   {
    "duration": 73,
    "start_time": "2022-04-12T13:39:29.256Z"
   },
   {
    "duration": 100,
    "start_time": "2022-04-12T13:39:29.331Z"
   },
   {
    "duration": 97,
    "start_time": "2022-04-12T13:39:29.434Z"
   },
   {
    "duration": 22,
    "start_time": "2022-04-12T13:39:29.533Z"
   },
   {
    "duration": 73,
    "start_time": "2022-04-12T13:39:29.558Z"
   },
   {
    "duration": 295,
    "start_time": "2022-04-12T13:39:29.634Z"
   },
   {
    "duration": 478,
    "start_time": "2022-04-12T13:39:29.931Z"
   },
   {
    "duration": 12,
    "start_time": "2022-04-12T13:39:30.413Z"
   },
   {
    "duration": 24,
    "start_time": "2022-04-12T13:39:30.428Z"
   },
   {
    "duration": 48,
    "start_time": "2022-04-12T13:39:30.454Z"
   },
   {
    "duration": 32,
    "start_time": "2022-04-12T13:39:30.505Z"
   },
   {
    "duration": 12,
    "start_time": "2022-04-12T13:39:30.539Z"
   },
   {
    "duration": 22,
    "start_time": "2022-04-12T13:39:30.554Z"
   },
   {
    "duration": 49,
    "start_time": "2022-04-12T13:39:30.579Z"
   },
   {
    "duration": 201,
    "start_time": "2022-04-12T13:39:30.631Z"
   },
   {
    "duration": 397,
    "start_time": "2022-04-12T13:39:30.835Z"
   },
   {
    "duration": 695,
    "start_time": "2022-04-12T13:39:31.235Z"
   },
   {
    "duration": 243,
    "start_time": "2022-04-12T13:39:31.933Z"
   },
   {
    "duration": 16,
    "start_time": "2022-04-12T13:39:32.179Z"
   },
   {
    "duration": 572,
    "start_time": "2022-04-12T13:39:32.198Z"
   },
   {
    "duration": 31,
    "start_time": "2022-04-12T13:39:32.772Z"
   },
   {
    "duration": 130,
    "start_time": "2022-04-12T13:39:32.805Z"
   },
   {
    "duration": 102,
    "start_time": "2022-04-12T13:39:33.025Z"
   },
   {
    "duration": 512,
    "start_time": "2022-04-12T13:39:33.132Z"
   },
   {
    "duration": 33,
    "start_time": "2022-04-12T13:39:33.646Z"
   },
   {
    "duration": 51,
    "start_time": "2022-04-12T13:39:33.681Z"
   },
   {
    "duration": 10,
    "start_time": "2022-04-12T13:39:33.735Z"
   },
   {
    "duration": 53,
    "start_time": "2022-04-12T13:39:33.747Z"
   },
   {
    "duration": 2540,
    "start_time": "2022-04-12T13:41:48.579Z"
   },
   {
    "duration": 32,
    "start_time": "2022-04-12T13:41:51.122Z"
   },
   {
    "duration": 25,
    "start_time": "2022-04-12T13:41:51.157Z"
   },
   {
    "duration": 48,
    "start_time": "2022-04-12T13:41:51.185Z"
   },
   {
    "duration": 89,
    "start_time": "2022-04-12T13:41:51.235Z"
   },
   {
    "duration": 21,
    "start_time": "2022-04-12T13:41:51.327Z"
   },
   {
    "duration": 5,
    "start_time": "2022-04-12T13:41:51.351Z"
   },
   {
    "duration": 15,
    "start_time": "2022-04-12T13:41:51.358Z"
   },
   {
    "duration": 51,
    "start_time": "2022-04-12T13:41:51.375Z"
   },
   {
    "duration": 5,
    "start_time": "2022-04-12T13:41:51.430Z"
   },
   {
    "duration": 43,
    "start_time": "2022-04-12T13:41:51.437Z"
   },
   {
    "duration": 6,
    "start_time": "2022-04-12T13:41:51.482Z"
   },
   {
    "duration": 18,
    "start_time": "2022-04-12T13:41:51.490Z"
   },
   {
    "duration": 22,
    "start_time": "2022-04-12T13:41:51.510Z"
   },
   {
    "duration": 15,
    "start_time": "2022-04-12T13:41:51.534Z"
   },
   {
    "duration": 31,
    "start_time": "2022-04-12T13:41:51.551Z"
   },
   {
    "duration": 10,
    "start_time": "2022-04-12T13:41:51.584Z"
   },
   {
    "duration": 28,
    "start_time": "2022-04-12T13:41:51.596Z"
   },
   {
    "duration": 32,
    "start_time": "2022-04-12T13:41:51.626Z"
   },
   {
    "duration": 27,
    "start_time": "2022-04-12T13:41:51.660Z"
   },
   {
    "duration": 62,
    "start_time": "2022-04-12T13:41:51.689Z"
   },
   {
    "duration": 9,
    "start_time": "2022-04-12T13:41:51.754Z"
   },
   {
    "duration": 461,
    "start_time": "2022-04-12T13:41:51.765Z"
   },
   {
    "duration": 100,
    "start_time": "2022-04-12T13:41:52.230Z"
   },
   {
    "duration": 150,
    "start_time": "2022-04-12T13:41:52.332Z"
   },
   {
    "duration": 4,
    "start_time": "2022-04-12T13:41:52.484Z"
   },
   {
    "duration": 8,
    "start_time": "2022-04-12T13:41:52.491Z"
   },
   {
    "duration": 1211,
    "start_time": "2022-04-12T13:41:52.524Z"
   },
   {
    "duration": 1408,
    "start_time": "2022-04-12T13:41:53.739Z"
   },
   {
    "duration": 13,
    "start_time": "2022-04-12T13:41:55.149Z"
   },
   {
    "duration": 1462,
    "start_time": "2022-04-12T13:41:55.165Z"
   },
   {
    "duration": 69,
    "start_time": "2022-04-12T13:41:56.629Z"
   },
   {
    "duration": 36,
    "start_time": "2022-04-12T13:41:56.701Z"
   },
   {
    "duration": 84,
    "start_time": "2022-04-12T13:41:56.740Z"
   },
   {
    "duration": 102,
    "start_time": "2022-04-12T13:41:56.827Z"
   },
   {
    "duration": 103,
    "start_time": "2022-04-12T13:41:56.932Z"
   },
   {
    "duration": 88,
    "start_time": "2022-04-12T13:41:57.038Z"
   },
   {
    "duration": 97,
    "start_time": "2022-04-12T13:41:57.129Z"
   },
   {
    "duration": 222,
    "start_time": "2022-04-12T13:41:57.229Z"
   },
   {
    "duration": 476,
    "start_time": "2022-04-12T13:41:57.454Z"
   },
   {
    "duration": 8,
    "start_time": "2022-04-12T13:41:57.932Z"
   },
   {
    "duration": 10,
    "start_time": "2022-04-12T13:41:57.942Z"
   },
   {
    "duration": 20,
    "start_time": "2022-04-12T13:41:57.954Z"
   },
   {
    "duration": 50,
    "start_time": "2022-04-12T13:41:57.976Z"
   },
   {
    "duration": 11,
    "start_time": "2022-04-12T13:41:58.028Z"
   },
   {
    "duration": 19,
    "start_time": "2022-04-12T13:41:58.041Z"
   },
   {
    "duration": 19,
    "start_time": "2022-04-12T13:41:58.063Z"
   },
   {
    "duration": 147,
    "start_time": "2022-04-12T13:41:58.126Z"
   },
   {
    "duration": 449,
    "start_time": "2022-04-12T13:41:58.276Z"
   },
   {
    "duration": 619,
    "start_time": "2022-04-12T13:41:58.730Z"
   },
   {
    "duration": 240,
    "start_time": "2022-04-12T13:41:59.353Z"
   },
   {
    "duration": 32,
    "start_time": "2022-04-12T13:41:59.596Z"
   },
   {
    "duration": 620,
    "start_time": "2022-04-12T13:41:59.631Z"
   },
   {
    "duration": 38,
    "start_time": "2022-04-12T13:42:00.254Z"
   },
   {
    "duration": 235,
    "start_time": "2022-04-12T13:42:00.295Z"
   },
   {
    "duration": 150,
    "start_time": "2022-04-12T13:42:00.533Z"
   },
   {
    "duration": 561,
    "start_time": "2022-04-12T13:42:00.686Z"
   },
   {
    "duration": 35,
    "start_time": "2022-04-12T13:42:01.249Z"
   },
   {
    "duration": 54,
    "start_time": "2022-04-12T13:42:01.286Z"
   },
   {
    "duration": 9,
    "start_time": "2022-04-12T13:42:01.342Z"
   },
   {
    "duration": 28,
    "start_time": "2022-04-12T13:42:01.353Z"
   },
   {
    "duration": 2118,
    "start_time": "2022-04-12T13:46:55.835Z"
   },
   {
    "duration": 37,
    "start_time": "2022-04-12T13:46:57.956Z"
   },
   {
    "duration": 34,
    "start_time": "2022-04-12T13:46:57.996Z"
   },
   {
    "duration": 25,
    "start_time": "2022-04-12T13:46:58.034Z"
   },
   {
    "duration": 84,
    "start_time": "2022-04-12T13:46:58.061Z"
   },
   {
    "duration": 17,
    "start_time": "2022-04-12T13:46:58.147Z"
   },
   {
    "duration": 4,
    "start_time": "2022-04-12T13:46:58.167Z"
   },
   {
    "duration": 13,
    "start_time": "2022-04-12T13:46:58.174Z"
   },
   {
    "duration": 51,
    "start_time": "2022-04-12T13:46:58.190Z"
   },
   {
    "duration": 5,
    "start_time": "2022-04-12T13:46:58.245Z"
   },
   {
    "duration": 34,
    "start_time": "2022-04-12T13:46:58.252Z"
   },
   {
    "duration": 38,
    "start_time": "2022-04-12T13:46:58.288Z"
   },
   {
    "duration": 9,
    "start_time": "2022-04-12T13:46:58.328Z"
   },
   {
    "duration": 9,
    "start_time": "2022-04-12T13:46:58.339Z"
   },
   {
    "duration": 21,
    "start_time": "2022-04-12T13:46:58.350Z"
   },
   {
    "duration": 18,
    "start_time": "2022-04-12T13:46:58.374Z"
   },
   {
    "duration": 30,
    "start_time": "2022-04-12T13:46:58.395Z"
   },
   {
    "duration": 24,
    "start_time": "2022-04-12T13:46:58.428Z"
   },
   {
    "duration": 35,
    "start_time": "2022-04-12T13:46:58.455Z"
   },
   {
    "duration": 55,
    "start_time": "2022-04-12T13:46:58.493Z"
   },
   {
    "duration": 28,
    "start_time": "2022-04-12T13:46:58.550Z"
   },
   {
    "duration": 6,
    "start_time": "2022-04-12T13:46:58.581Z"
   },
   {
    "duration": 534,
    "start_time": "2022-04-12T13:46:58.590Z"
   },
   {
    "duration": 13,
    "start_time": "2022-04-12T13:46:59.127Z"
   },
   {
    "duration": 150,
    "start_time": "2022-04-12T13:46:59.143Z"
   },
   {
    "duration": 5,
    "start_time": "2022-04-12T13:46:59.295Z"
   },
   {
    "duration": 27,
    "start_time": "2022-04-12T13:46:59.303Z"
   },
   {
    "duration": 1189,
    "start_time": "2022-04-12T13:46:59.338Z"
   },
   {
    "duration": 1261,
    "start_time": "2022-04-12T13:47:00.531Z"
   },
   {
    "duration": 13,
    "start_time": "2022-04-12T13:47:01.794Z"
   },
   {
    "duration": 1055,
    "start_time": "2022-04-12T13:47:01.826Z"
   },
   {
    "duration": 64,
    "start_time": "2022-04-12T13:47:02.884Z"
   },
   {
    "duration": 13,
    "start_time": "2022-04-12T13:47:02.951Z"
   },
   {
    "duration": 75,
    "start_time": "2022-04-12T13:47:02.966Z"
   },
   {
    "duration": 83,
    "start_time": "2022-04-12T13:47:03.044Z"
   },
   {
    "duration": 103,
    "start_time": "2022-04-12T13:47:03.131Z"
   },
   {
    "duration": 90,
    "start_time": "2022-04-12T13:47:03.237Z"
   },
   {
    "duration": 96,
    "start_time": "2022-04-12T13:47:03.332Z"
   },
   {
    "duration": 234,
    "start_time": "2022-04-12T13:47:03.431Z"
   },
   {
    "duration": 478,
    "start_time": "2022-04-12T13:47:03.667Z"
   },
   {
    "duration": 9,
    "start_time": "2022-04-12T13:47:04.147Z"
   },
   {
    "duration": 13,
    "start_time": "2022-04-12T13:47:04.158Z"
   },
   {
    "duration": 38,
    "start_time": "2022-04-12T13:47:04.174Z"
   },
   {
    "duration": 37,
    "start_time": "2022-04-12T13:47:04.215Z"
   },
   {
    "duration": 26,
    "start_time": "2022-04-12T13:47:04.255Z"
   },
   {
    "duration": 20,
    "start_time": "2022-04-12T13:47:04.284Z"
   },
   {
    "duration": 27,
    "start_time": "2022-04-12T13:47:04.306Z"
   },
   {
    "duration": 147,
    "start_time": "2022-04-12T13:47:04.336Z"
   },
   {
    "duration": 539,
    "start_time": "2022-04-12T13:47:04.486Z"
   },
   {
    "duration": 799,
    "start_time": "2022-04-12T13:47:05.028Z"
   },
   {
    "duration": 157,
    "start_time": "2022-04-12T13:47:05.830Z"
   },
   {
    "duration": 39,
    "start_time": "2022-04-12T13:47:05.989Z"
   },
   {
    "duration": 520,
    "start_time": "2022-04-12T13:47:06.031Z"
   },
   {
    "duration": 31,
    "start_time": "2022-04-12T13:47:06.554Z"
   },
   {
    "duration": 237,
    "start_time": "2022-04-12T13:47:06.588Z"
   },
   {
    "duration": 97,
    "start_time": "2022-04-12T13:47:06.828Z"
   },
   {
    "duration": 536,
    "start_time": "2022-04-12T13:47:06.928Z"
   },
   {
    "duration": 34,
    "start_time": "2022-04-12T13:47:07.466Z"
   },
   {
    "duration": 50,
    "start_time": "2022-04-12T13:47:07.504Z"
   },
   {
    "duration": 9,
    "start_time": "2022-04-12T13:47:07.557Z"
   },
   {
    "duration": 31,
    "start_time": "2022-04-12T13:47:07.569Z"
   },
   {
    "duration": 1971,
    "start_time": "2022-04-12T13:47:28.675Z"
   },
   {
    "duration": 34,
    "start_time": "2022-04-12T13:47:30.650Z"
   },
   {
    "duration": 41,
    "start_time": "2022-04-12T13:47:30.686Z"
   },
   {
    "duration": 19,
    "start_time": "2022-04-12T13:47:30.730Z"
   },
   {
    "duration": 75,
    "start_time": "2022-04-12T13:47:30.751Z"
   },
   {
    "duration": 16,
    "start_time": "2022-04-12T13:47:30.829Z"
   },
   {
    "duration": 4,
    "start_time": "2022-04-12T13:47:30.847Z"
   },
   {
    "duration": 24,
    "start_time": "2022-04-12T13:47:30.853Z"
   },
   {
    "duration": 22,
    "start_time": "2022-04-12T13:47:30.879Z"
   },
   {
    "duration": 5,
    "start_time": "2022-04-12T13:47:30.926Z"
   },
   {
    "duration": 34,
    "start_time": "2022-04-12T13:47:30.933Z"
   },
   {
    "duration": 5,
    "start_time": "2022-04-12T13:47:30.969Z"
   },
   {
    "duration": 12,
    "start_time": "2022-04-12T13:47:30.976Z"
   },
   {
    "duration": 39,
    "start_time": "2022-04-12T13:47:30.990Z"
   },
   {
    "duration": 14,
    "start_time": "2022-04-12T13:47:31.031Z"
   },
   {
    "duration": 16,
    "start_time": "2022-04-12T13:47:31.047Z"
   },
   {
    "duration": 12,
    "start_time": "2022-04-12T13:47:31.065Z"
   },
   {
    "duration": 15,
    "start_time": "2022-04-12T13:47:31.079Z"
   },
   {
    "duration": 54,
    "start_time": "2022-04-12T13:47:31.096Z"
   },
   {
    "duration": 26,
    "start_time": "2022-04-12T13:47:31.152Z"
   },
   {
    "duration": 45,
    "start_time": "2022-04-12T13:47:31.180Z"
   },
   {
    "duration": 6,
    "start_time": "2022-04-12T13:47:31.228Z"
   },
   {
    "duration": 487,
    "start_time": "2022-04-12T13:47:31.236Z"
   },
   {
    "duration": 104,
    "start_time": "2022-04-12T13:47:31.727Z"
   },
   {
    "duration": 151,
    "start_time": "2022-04-12T13:47:31.834Z"
   },
   {
    "duration": 5,
    "start_time": "2022-04-12T13:47:31.987Z"
   },
   {
    "duration": 19,
    "start_time": "2022-04-12T13:47:31.994Z"
   },
   {
    "duration": 1195,
    "start_time": "2022-04-12T13:47:32.030Z"
   },
   {
    "duration": 1125,
    "start_time": "2022-04-12T13:47:33.228Z"
   },
   {
    "duration": 15,
    "start_time": "2022-04-12T13:47:34.356Z"
   },
   {
    "duration": 1021,
    "start_time": "2022-04-12T13:47:34.374Z"
   },
   {
    "duration": 62,
    "start_time": "2022-04-12T13:47:35.398Z"
   },
   {
    "duration": 12,
    "start_time": "2022-04-12T13:47:35.462Z"
   },
   {
    "duration": 78,
    "start_time": "2022-04-12T13:47:35.476Z"
   },
   {
    "duration": 170,
    "start_time": "2022-04-12T13:47:35.556Z"
   },
   {
    "duration": 13,
    "start_time": "2022-04-12T13:47:35.729Z"
   },
   {
    "duration": 87,
    "start_time": "2022-04-12T13:47:35.744Z"
   },
   {
    "duration": 92,
    "start_time": "2022-04-12T13:47:35.834Z"
   },
   {
    "duration": 231,
    "start_time": "2022-04-12T13:47:35.928Z"
   },
   {
    "duration": 458,
    "start_time": "2022-04-12T13:47:36.161Z"
   },
   {
    "duration": 8,
    "start_time": "2022-04-12T13:47:36.625Z"
   },
   {
    "duration": 8,
    "start_time": "2022-04-12T13:47:36.635Z"
   },
   {
    "duration": 21,
    "start_time": "2022-04-12T13:47:36.645Z"
   },
   {
    "duration": 21,
    "start_time": "2022-04-12T13:47:36.668Z"
   },
   {
    "duration": 43,
    "start_time": "2022-04-12T13:47:36.691Z"
   },
   {
    "duration": 17,
    "start_time": "2022-04-12T13:47:36.737Z"
   },
   {
    "duration": 16,
    "start_time": "2022-04-12T13:47:36.756Z"
   },
   {
    "duration": 184,
    "start_time": "2022-04-12T13:47:36.775Z"
   },
   {
    "duration": 469,
    "start_time": "2022-04-12T13:47:36.961Z"
   },
   {
    "duration": 604,
    "start_time": "2022-04-12T13:47:37.435Z"
   },
   {
    "duration": 233,
    "start_time": "2022-04-12T13:47:38.043Z"
   },
   {
    "duration": 12,
    "start_time": "2022-04-12T13:47:38.278Z"
   },
   {
    "duration": 461,
    "start_time": "2022-04-12T13:47:38.292Z"
   },
   {
    "duration": 29,
    "start_time": "2022-04-12T13:47:38.756Z"
   },
   {
    "duration": 139,
    "start_time": "2022-04-12T13:47:38.788Z"
   },
   {
    "duration": 107,
    "start_time": "2022-04-12T13:47:38.929Z"
   },
   {
    "duration": 515,
    "start_time": "2022-04-12T13:47:39.125Z"
   },
   {
    "duration": 33,
    "start_time": "2022-04-12T13:47:39.642Z"
   },
   {
    "duration": 53,
    "start_time": "2022-04-12T13:47:39.678Z"
   },
   {
    "duration": 89,
    "start_time": "2022-04-12T13:47:39.733Z"
   },
   {
    "duration": 18,
    "start_time": "2022-04-12T13:47:39.824Z"
   },
   {
    "duration": 47,
    "start_time": "2022-04-14T08:50:05.827Z"
   },
   {
    "duration": 8,
    "start_time": "2022-04-14T08:50:13.585Z"
   },
   {
    "duration": 7,
    "start_time": "2022-04-14T08:50:15.632Z"
   },
   {
    "duration": 1506,
    "start_time": "2022-04-14T08:50:21.790Z"
   },
   {
    "duration": 31,
    "start_time": "2022-04-14T08:50:23.298Z"
   },
   {
    "duration": 16,
    "start_time": "2022-04-14T08:50:23.330Z"
   },
   {
    "duration": 13,
    "start_time": "2022-04-14T08:50:23.348Z"
   },
   {
    "duration": 47,
    "start_time": "2022-04-14T08:50:23.363Z"
   },
   {
    "duration": 12,
    "start_time": "2022-04-14T08:50:23.411Z"
   },
   {
    "duration": 4,
    "start_time": "2022-04-14T08:50:23.424Z"
   },
   {
    "duration": 12,
    "start_time": "2022-04-14T08:50:23.429Z"
   },
   {
    "duration": 32,
    "start_time": "2022-04-14T08:50:23.442Z"
   },
   {
    "duration": 4,
    "start_time": "2022-04-14T08:50:23.476Z"
   },
   {
    "duration": 18,
    "start_time": "2022-04-14T08:50:23.482Z"
   },
   {
    "duration": 16,
    "start_time": "2022-04-14T08:50:23.502Z"
   },
   {
    "duration": 20,
    "start_time": "2022-04-14T08:50:23.520Z"
   },
   {
    "duration": 14,
    "start_time": "2022-04-14T08:50:23.542Z"
   },
   {
    "duration": 15,
    "start_time": "2022-04-14T08:50:23.558Z"
   },
   {
    "duration": 16,
    "start_time": "2022-04-14T08:50:23.574Z"
   },
   {
    "duration": 14,
    "start_time": "2022-04-14T08:50:23.591Z"
   },
   {
    "duration": 22,
    "start_time": "2022-04-14T08:50:23.606Z"
   },
   {
    "duration": 22,
    "start_time": "2022-04-14T08:50:23.630Z"
   },
   {
    "duration": 21,
    "start_time": "2022-04-14T08:50:23.653Z"
   },
   {
    "duration": 16,
    "start_time": "2022-04-14T08:50:23.676Z"
   },
   {
    "duration": 8,
    "start_time": "2022-04-14T08:50:23.693Z"
   },
   {
    "duration": 272,
    "start_time": "2022-04-14T08:50:23.703Z"
   },
   {
    "duration": 98,
    "start_time": "2022-04-14T08:50:23.977Z"
   },
   {
    "duration": 185,
    "start_time": "2022-04-14T08:50:24.077Z"
   },
   {
    "duration": 10,
    "start_time": "2022-04-14T08:50:24.263Z"
   },
   {
    "duration": 16,
    "start_time": "2022-04-14T08:50:24.275Z"
   },
   {
    "duration": 781,
    "start_time": "2022-04-14T08:50:24.294Z"
   },
   {
    "duration": 776,
    "start_time": "2022-04-14T08:50:25.078Z"
   },
   {
    "duration": 8,
    "start_time": "2022-04-14T08:50:25.856Z"
   },
   {
    "duration": 55,
    "start_time": "2022-04-14T08:50:25.873Z"
   },
   {
    "duration": 50,
    "start_time": "2022-04-14T08:50:25.929Z"
   },
   {
    "duration": 9,
    "start_time": "2022-04-14T08:50:25.981Z"
   },
   {
    "duration": 42,
    "start_time": "2022-04-14T08:50:25.992Z"
   },
   {
    "duration": 145,
    "start_time": "2022-04-14T08:50:26.035Z"
   },
   {
    "duration": 9,
    "start_time": "2022-04-14T08:50:26.182Z"
   },
   {
    "duration": 87,
    "start_time": "2022-04-14T08:50:26.193Z"
   },
   {
    "duration": 101,
    "start_time": "2022-04-14T08:50:26.282Z"
   },
   {
    "duration": 161,
    "start_time": "2022-04-14T08:50:26.385Z"
   },
   {
    "duration": 332,
    "start_time": "2022-04-14T08:50:26.548Z"
   },
   {
    "duration": 5,
    "start_time": "2022-04-14T08:50:26.882Z"
   },
   {
    "duration": 14,
    "start_time": "2022-04-14T08:50:26.889Z"
   },
   {
    "duration": 14,
    "start_time": "2022-04-14T08:50:26.904Z"
   },
   {
    "duration": 13,
    "start_time": "2022-04-14T08:50:26.920Z"
   },
   {
    "duration": 7,
    "start_time": "2022-04-14T08:50:26.935Z"
   },
   {
    "duration": 31,
    "start_time": "2022-04-14T08:50:26.943Z"
   },
   {
    "duration": 11,
    "start_time": "2022-04-14T08:50:26.976Z"
   },
   {
    "duration": 97,
    "start_time": "2022-04-14T08:50:26.989Z"
   },
   {
    "duration": 243,
    "start_time": "2022-04-14T08:50:27.088Z"
   },
   {
    "duration": 445,
    "start_time": "2022-04-14T08:50:27.333Z"
   },
   {
    "duration": 219,
    "start_time": "2022-04-14T08:50:27.781Z"
   },
   {
    "duration": 9,
    "start_time": "2022-04-14T08:50:28.002Z"
   },
   {
    "duration": 285,
    "start_time": "2022-04-14T08:50:28.012Z"
   },
   {
    "duration": 22,
    "start_time": "2022-04-14T08:50:28.298Z"
   },
   {
    "duration": 54,
    "start_time": "2022-04-14T08:50:28.322Z"
   },
   {
    "duration": 102,
    "start_time": "2022-04-14T08:50:28.378Z"
   },
   {
    "duration": 435,
    "start_time": "2022-04-14T08:50:28.483Z"
   },
   {
    "duration": 24,
    "start_time": "2022-04-14T08:50:28.920Z"
   },
   {
    "duration": 34,
    "start_time": "2022-04-14T08:50:28.946Z"
   },
   {
    "duration": 6,
    "start_time": "2022-04-14T08:50:28.982Z"
   },
   {
    "duration": 10,
    "start_time": "2022-04-14T08:50:28.990Z"
   },
   {
    "duration": 4,
    "start_time": "2022-04-14T08:57:45.220Z"
   },
   {
    "duration": 4,
    "start_time": "2022-04-14T08:58:02.196Z"
   },
   {
    "duration": 98,
    "start_time": "2022-04-14T08:58:36.588Z"
   },
   {
    "duration": 5,
    "start_time": "2022-04-14T08:59:20.620Z"
   },
   {
    "duration": 6,
    "start_time": "2022-04-14T08:59:25.476Z"
   },
   {
    "duration": 1433,
    "start_time": "2022-04-14T09:00:27.054Z"
   },
   {
    "duration": 25,
    "start_time": "2022-04-14T09:00:28.489Z"
   },
   {
    "duration": 17,
    "start_time": "2022-04-14T09:00:28.515Z"
   },
   {
    "duration": 11,
    "start_time": "2022-04-14T09:00:28.535Z"
   },
   {
    "duration": 47,
    "start_time": "2022-04-14T09:00:28.547Z"
   },
   {
    "duration": 10,
    "start_time": "2022-04-14T09:00:28.596Z"
   },
   {
    "duration": 3,
    "start_time": "2022-04-14T09:00:28.607Z"
   },
   {
    "duration": 7,
    "start_time": "2022-04-14T09:00:28.612Z"
   },
   {
    "duration": 19,
    "start_time": "2022-04-14T09:00:28.621Z"
   },
   {
    "duration": 5,
    "start_time": "2022-04-14T09:00:28.643Z"
   },
   {
    "duration": 40,
    "start_time": "2022-04-14T09:00:28.649Z"
   },
   {
    "duration": 6,
    "start_time": "2022-04-14T09:00:28.691Z"
   },
   {
    "duration": 10,
    "start_time": "2022-04-14T09:00:28.699Z"
   },
   {
    "duration": 8,
    "start_time": "2022-04-14T09:00:28.710Z"
   },
   {
    "duration": 7,
    "start_time": "2022-04-14T09:00:28.719Z"
   },
   {
    "duration": 14,
    "start_time": "2022-04-14T09:00:28.728Z"
   },
   {
    "duration": 6,
    "start_time": "2022-04-14T09:00:28.744Z"
   },
   {
    "duration": 26,
    "start_time": "2022-04-14T09:00:28.752Z"
   },
   {
    "duration": 22,
    "start_time": "2022-04-14T09:00:28.780Z"
   },
   {
    "duration": 17,
    "start_time": "2022-04-14T09:00:28.804Z"
   },
   {
    "duration": 17,
    "start_time": "2022-04-14T09:00:28.823Z"
   },
   {
    "duration": 4,
    "start_time": "2022-04-14T09:00:28.842Z"
   },
   {
    "duration": 302,
    "start_time": "2022-04-14T09:00:28.874Z"
   },
   {
    "duration": 99,
    "start_time": "2022-04-14T09:00:29.179Z"
   },
   {
    "duration": 129,
    "start_time": "2022-04-14T09:00:29.280Z"
   },
   {
    "duration": 3,
    "start_time": "2022-04-14T09:00:29.410Z"
   },
   {
    "duration": 7,
    "start_time": "2022-04-14T09:00:29.415Z"
   },
   {
    "duration": 749,
    "start_time": "2022-04-14T09:00:29.426Z"
   },
   {
    "duration": 876,
    "start_time": "2022-04-14T09:00:30.178Z"
   },
   {
    "duration": 18,
    "start_time": "2022-04-14T09:00:31.055Z"
   },
   {
    "duration": 54,
    "start_time": "2022-04-14T09:00:31.075Z"
   },
   {
    "duration": 57,
    "start_time": "2022-04-14T09:00:31.131Z"
   },
   {
    "duration": 9,
    "start_time": "2022-04-14T09:00:31.190Z"
   },
   {
    "duration": 9,
    "start_time": "2022-04-14T09:00:31.201Z"
   },
   {
    "duration": 63,
    "start_time": "2022-04-14T09:00:31.212Z"
   },
   {
    "duration": 103,
    "start_time": "2022-04-14T09:00:31.277Z"
   },
   {
    "duration": 17,
    "start_time": "2022-04-14T09:00:31.381Z"
   },
   {
    "duration": 101,
    "start_time": "2022-04-14T09:00:31.474Z"
   },
   {
    "duration": 129,
    "start_time": "2022-04-14T09:00:31.577Z"
   },
   {
    "duration": 290,
    "start_time": "2022-04-14T09:00:31.708Z"
   },
   {
    "duration": 5,
    "start_time": "2022-04-14T09:00:32.000Z"
   },
   {
    "duration": 25,
    "start_time": "2022-04-14T09:00:32.007Z"
   },
   {
    "duration": 27,
    "start_time": "2022-04-14T09:00:32.034Z"
   },
   {
    "duration": 25,
    "start_time": "2022-04-14T09:00:32.063Z"
   },
   {
    "duration": 29,
    "start_time": "2022-04-14T09:00:32.090Z"
   },
   {
    "duration": 26,
    "start_time": "2022-04-14T09:00:32.120Z"
   },
   {
    "duration": 20,
    "start_time": "2022-04-14T09:00:32.148Z"
   },
   {
    "duration": 96,
    "start_time": "2022-04-14T09:00:32.170Z"
   },
   {
    "duration": 235,
    "start_time": "2022-04-14T09:00:32.267Z"
   },
   {
    "duration": 471,
    "start_time": "2022-04-14T09:00:32.505Z"
   },
   {
    "duration": 227,
    "start_time": "2022-04-14T09:00:32.978Z"
   },
   {
    "duration": 7,
    "start_time": "2022-04-14T09:00:33.207Z"
   },
   {
    "duration": 281,
    "start_time": "2022-04-14T09:00:33.216Z"
   },
   {
    "duration": 22,
    "start_time": "2022-04-14T09:00:33.498Z"
   },
   {
    "duration": 57,
    "start_time": "2022-04-14T09:00:33.521Z"
   },
   {
    "duration": 104,
    "start_time": "2022-04-14T09:00:33.580Z"
   },
   {
    "duration": 351,
    "start_time": "2022-04-14T09:00:33.772Z"
   },
   {
    "duration": 24,
    "start_time": "2022-04-14T09:00:34.125Z"
   },
   {
    "duration": 39,
    "start_time": "2022-04-14T09:00:34.151Z"
   },
   {
    "duration": 7,
    "start_time": "2022-04-14T09:00:34.191Z"
   },
   {
    "duration": 12,
    "start_time": "2022-04-14T09:00:34.199Z"
   }
  ],
  "kernelspec": {
   "display_name": "Python 3",
   "language": "python",
   "name": "python3"
  },
  "language_info": {
   "codemirror_mode": {
    "name": "ipython",
    "version": 3
   },
   "file_extension": ".py",
   "mimetype": "text/x-python",
   "name": "python",
   "nbconvert_exporter": "python",
   "pygments_lexer": "ipython3",
   "version": "3.9.1"
  },
  "toc": {
   "base_numbering": 1,
   "nav_menu": {},
   "number_sections": true,
   "sideBar": true,
   "skip_h1_title": true,
   "title_cell": "Содержание",
   "title_sidebar": "Contents",
   "toc_cell": true,
   "toc_position": {},
   "toc_section_display": true,
   "toc_window_display": true
  }
 },
 "nbformat": 4,
 "nbformat_minor": 2
}
